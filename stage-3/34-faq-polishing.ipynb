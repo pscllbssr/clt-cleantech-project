{
 "cells": [
  {
   "cell_type": "code",
   "execution_count": 1,
   "id": "aa043e81-0640-42c4-b75e-96923cecf740",
   "metadata": {},
   "outputs": [],
   "source": [
    "import pandas as pd\n",
    "import requests\n",
    "import json\n",
    "import re\n",
    "from tqdm import tqdm"
   ]
  },
  {
   "cell_type": "markdown",
   "id": "ad3b7583-2968-413c-b7b4-e58165d5a10d",
   "metadata": {},
   "source": [
    "# load data & clean up\n",
    "\n",
    "We load the previously defined media and patent key sentences. The media part is prepared with TextRank, patents was done by keyBERT."
   ]
  },
  {
   "cell_type": "markdown",
   "id": "766ec29b-1b08-446e-b5b9-81f732e96ae1",
   "metadata": {},
   "source": [
    "## media"
   ]
  },
  {
   "cell_type": "code",
   "execution_count": 2,
   "id": "5f6a54f1-e298-4fc7-aae9-0df483a41633",
   "metadata": {},
   "outputs": [
    {
     "data": {
      "text/html": [
       "<div>\n",
       "<style scoped>\n",
       "    .dataframe tbody tr th:only-of-type {\n",
       "        vertical-align: middle;\n",
       "    }\n",
       "\n",
       "    .dataframe tbody tr th {\n",
       "        vertical-align: top;\n",
       "    }\n",
       "\n",
       "    .dataframe thead th {\n",
       "        text-align: right;\n",
       "    }\n",
       "</style>\n",
       "<table border=\"1\" class=\"dataframe\">\n",
       "  <thead>\n",
       "    <tr style=\"text-align: right;\">\n",
       "      <th></th>\n",
       "      <th>summary</th>\n",
       "    </tr>\n",
       "  </thead>\n",
       "  <tbody>\n",
       "    <tr>\n",
       "      <th>0</th>\n",
       "      <td>It said that the facility converts solar energ...</td>\n",
       "    </tr>\n",
       "  </tbody>\n",
       "</table>\n",
       "</div>"
      ],
      "text/plain": [
       "                                             summary\n",
       "0  It said that the facility converts solar energ..."
      ]
     },
     "execution_count": 2,
     "metadata": {},
     "output_type": "execute_result"
    }
   ],
   "source": [
    "df_media = pd.read_csv('../data/summaries_media.csv')\n",
    "df_media"
   ]
  },
  {
   "cell_type": "code",
   "execution_count": 3,
   "id": "88c41cd4-9f81-403e-a8c2-f52fac9e564e",
   "metadata": {},
   "outputs": [
    {
     "data": {
      "text/plain": [
       "26"
      ]
     },
     "execution_count": 3,
     "metadata": {},
     "output_type": "execute_result"
    }
   ],
   "source": [
    "media_summaries = df_media.summary[0].split('\\n\\n')\n",
    "len(media_summaries)"
   ]
  },
  {
   "cell_type": "code",
   "execution_count": 4,
   "id": "969a78d3-49b9-4e81-9409-a20eccae2afe",
   "metadata": {},
   "outputs": [
    {
     "data": {
      "text/plain": [
       "['It said that the facility converts solar energy into green hydrogen through water electrolysis which is then stored in the underground natural gas reservoir in Austria. The Portuguese Ministry of the Environment has approved a new set of solar energy projects to connect to the grid in collaboration with grid operators REN and ERedes.',\n",
       " 'As of yearend 2021 Louisiana had approximately 200 MW of solar energy installed.  Solar energy is the lowest cost new energy resource across the U.S. and we are pleased to support 1803 Electric Coop s goals to bring lower rates for its members  says Dr. Shawn Qu chairman and CEO of Canadian Solar.',\n",
       " 'If you know any details drop us a note in the comment thread. Whether or not all 12 gigawatts materialize something is stirring the energy storage pot in Kentucky which does increase the potential for solar energy energy projects in the state.',\n",
       " 'The Korean government expects private developers will build solar plants on the highways idle sites for a combined capacity of 243 MW by 2025. A PV project built along a highway in South Korea. South Korea is seeing strong development of solar energy projects and is beginning to suffer from limited land availability for the deployment of largescale solar plants.',\n",
       " ' Japans Green Investment Promotion Organization has released the final results of the latest auction for solar energy projects with a power rating of more than 250kW. According to the governmentrun agency 273 PV projects with a combined capacity of 268.7MW we selected through the procurement exercise which was the eleventh of the countrys auction schemes for utility scale solar and will be the last exercise awarding fixed tariffs.',\n",
       " ' Japans Green Investment Promotion Organization has released the final results of the latest auction for solar energy projects with power ratings above 250 kW. The staterun agency said that PV projects with a combined capacity of 26.2 MW were selected in the procurement exercise.',\n",
       " 'Indian stateowned hydropower producer NHPC and Grid Corp. of Odisha  GRIDCO have agreed to develop 2 GW of pumped storage and 1 GW of solar energy projects.',\n",
       " 'He said the industry needs easytoinstall products and more efficient supply chains and noted that battery prices are highly volatile because they fluctuate in response to changes in the dynamic Chinese electric vehicle market. Decarbon Venture has launched what it claims to be the world s first  swappable  solar generator at half the weight and double the power rating of other products on the market. USbased Savant Systems has developed a new lithiumferrophosphate battery and inverter kit. U.S.based Rondo Energy will operate the world s largest battery factory in Thailand two and a half times the size of Tesla s Gigafactory. Indian stateowned hydropower producer NHPC and Grid Corp. of Odisha  GRIDCO have agreed to develop 2 GW of pumped storage and 1 GW of solar energy projects. Scientists led by the Karlsruhe Institute of Technology have designed panellike photoreactors relying on a watersplitting photocatalyst that could produce hydrogen on rooftops or dedicated solar farms.',\n",
       " 'It says such a framework would enable transparent tracking and verification of PV panels throughout their life cycle. Indian stateowned hydropower producer NHPC and Grid Corp. of Odisha  GRIDCO have agreed to develop 2 GW of pumped storage and 1 GW of solar energy projects. Sleepwalkers has developed an automated robotic device for solar panel cleaning that does not require an additional rail system. First Energy a subsidiary of Thermax has commissioned a 45.8 MW windsolar hybrid plant in India for consumption by industrial consumers. SJVN Ltd. an Indian staterun hydropower producer has issued a tender to select developers for 1.5 GW of firm and dispatchable power from renewable power projects with energy storage systems. Cliantech Solutions has agreed to supply a 600 MW turnkey PV panel production line to Dubaibased Magnus Green Solar. SJVN a stateowned hydropower producer has agreed to develop 5 GW of renewable energy projects in the Indian state of Maharashtra encompassing hydro pumped storage wind solar hybrid and green hydrogen technologies. India has retained its crown as the most promising market for solar investment according to the latest edition of Ernst  Young s Renewable Energy Country Attractiveness Index  RECAI.',\n",
       " 'It says such a framework would enable transparent tracking and verification of PV panels throughout their life cycle. Indian stateowned hydropower producer NHPC and Grid Corp. of Odisha  GRIDCO have agreed to develop 2 GW of pumped storage and 1 GW of solar energy projects. In a new weekly update for pv magazine Solcast a DNV company presents the solar irradiance data it collected for northern India last week.',\n",
       " 'At the national level electrification increases to 15.72 in 2020 with a large disparity between rural areas and urban areas. To strengthen its generation capacities Niger raised 129 million last year for solar energy projects from the African Development Bank. This content is protected by copyright and may not be reused.',\n",
       " 'In particular we will look into the solutions developed by Chinese solar module manufacturer JinkoSolar which claims the implementation of ESG standards offers huge opportunities for the global energy transition. In this pv magazine Webinar we ll hear how environmental social and governance  ESG standards may leverage investments on solar energy projects. In particular we will look into the solutions developed by Chinese solar module manufacturer JinkoSolar which claims the implementation of ESG standards offers huge opportunities for the global energy transition.',\n",
       " 'These projects will bring the total amount of solar energy projects completed between CS Energy and CVE North America to over 50 MW. All four projects will provide discounted electricity bills for over 4000 lowtomiddle income residents and are expected to reach completion by Q4 2023.',\n",
       " 'However the Treasury Department s latest guidance around qualified Energy Communities hinders the construction of solar energy projects in many urban areas including Chicago which could affect the ability of the Sustainability Hub to place its trainees on local solar projects the organization stated in a press release.',\n",
       " 'Amazon has acquired nine new utilityscale wind and solar energy projects in the U.S. Canada Spain Sweden and the U.K. The company now has 206 renewable energy projects globally  including 71 utilityscale wind and solar projects and 135 solar rooftops on facilities and stores  that will generate 8.5 GW of electricity production capacity.',\n",
       " 'In total there were 346143 workers who spent all or part of their time on solar.  Solar energy projects provide opportunities for professionals with a diverse array of skills and create wellpaying jobs in the communities where we build and operate  said George Hershman CEO of SOLV Energy.',\n",
       " ' To date SunCommon has worked with 75 farmers in Vermont and New York on solar energy projects.',\n",
       " 'BlueLeaf said that by signing the lake lease agreement the projects have secured tenurial rights like environmental compliance certificates. Construction is expected in 2025 with operations to begin gradually between 20262030.  Land use is becoming a big issue for renewables particularly for solar energy projects  said SunAsia Energy in a press release.',\n",
       " 'Most of the time delays in solar energy projects are normally caused by the consolidation of properties and late issuances of land conversion permits.',\n",
       " 'Lightsource bp a global developer and manager of solar energy projects has secured a proxy generation power purchase agreement  pgPPA with the Capital Solutions unit of Allianz Global Corporate  Specialty  AGCS  in partnership with Nephila Climate.',\n",
       " 'Lightsource bp a company that specializes in the development and management of solar energy projects has entered into a virtual power purchase agreement  VPPA with Verizon Communications Inc. that will enable the construction of a new 152.5 MW AC solar farm in Indiana.',\n",
       " 'Array Technologies a manufacturer of groundmounted systems used in solar energy projects has been awarded a contract for up to 4 GW of trackers from Primoris Services Corp. a provider of specialty contracting services.  We are pleased to expand our relationship with Primoris Renewable Energy  says Jeff Krantz CCO of Array Technologies.',\n",
       " ' Kenyon Energy a developer owner and operator of solar energy projects will supply permanent financing for the projects.',\n",
       " ' In addition solar energy projects like Big River support economic development promote energy independence create jobs and generate local tax revenue.',\n",
       " 'Array Technologies a manufacturer of groundmounted systems used in solar energy projects has entered into a multiyear supply arrangement with steelmaker POSCO to diversify and strengthen its global supply chain. Array will now have access to POSCO s proprietary PosMAC material  an alloycoated corrosionresistant steel.']"
      ]
     },
     "execution_count": 4,
     "metadata": {},
     "output_type": "execute_result"
    }
   ],
   "source": [
    "# clean the mess\n",
    "media_summary = [re.sub(r'[^a-zA-Z0-9\\s\\.:\\?]+', '', summary).replace('\\n', '') for summary in media_summaries]\n",
    "media_summary = list(filter(None, media_summary))\n",
    "media_summary"
   ]
  },
  {
   "cell_type": "code",
   "execution_count": 5,
   "id": "dac0b155-13a4-408c-8023-e5e125e06652",
   "metadata": {},
   "outputs": [
    {
     "data": {
      "text/plain": [
       "25"
      ]
     },
     "execution_count": 5,
     "metadata": {},
     "output_type": "execute_result"
    }
   ],
   "source": [
    "len(media_summary)"
   ]
  },
  {
   "cell_type": "markdown",
   "id": "fd57913c-8892-4734-88ec-da91aeea2b8d",
   "metadata": {},
   "source": [
    "## patent"
   ]
  },
  {
   "cell_type": "code",
   "execution_count": 6,
   "id": "ec0bb6f5-85d2-4463-8df7-bd53cdd299ca",
   "metadata": {},
   "outputs": [
    {
     "name": "stdout",
     "output_type": "stream",
     "text": [
      "['Disclosed is an adaptable DC-AC inverter system and its operation.', 'The energy is recycled, and the method is suitable for different types of buildings in different regions.', 'ence between day and night and various soil types, and has small influence on environment and good practicability.', 'The utility model has reasonable design and obvious effect, and solves the problem of low economic benefit caused by high labor intensity, low speed and lack of effective monitoring of manual fertilization in the prior art.', 'heating pipe is provided with the water tank, the front side of water tank is provided with the circulating pump, the output fixedly connected with output tube of circulating pump, the rear side of water tank is provided with heating device, the right flank fixedly connected with reflector panel of mounting panel.', 'or strengthening the strength of the force transmission column, at least three hydraulic jacks are arranged between each pair of bearing plates and the bottom plate, and the periphery of each hydraulic jack is tightly and circularly provided with a protection device.', 'el has the advantages that pests cannot escape when entering the insect killing box, the pests can be completely killed, and the pesticides of the mixed pest corpses can be filtered and recycled, so that the pesticide resources are saved.', 'model relates to the technical field of solar street lamps, in particular to an internet of things solar street lamp.', 'water feed pump is arranged on a pipeline between the steam jet type refrigerator and the solar heat collector.', 'tential, effective inhibition of water eutrophication, convenient implementation and the like.', 'This domestic garbage bin of solar energy intelligence, through the line connection between solar panel and the lithium cell, solar panel can utilize indoor light team product to charge, and this product uses the 3v power to provide, to utilizing the very suitable this product of solar charging, solar panel charges to the lithium cell, then discharges the use to the product through the lithium cell, and solar energy can indoor light charge, practices thrift the electric power use, has reached the effect of using the environmental protection.', 'emise of meeting the heat supply temperature, and the low-carbon environmental protection is realized.', 'The invention discloses a battery management system.', 'ighting device through the telescopic fixing feet and the rollers.', 'data storage cloud for storage, so that equipment manufacturers can conveniently extract required data, the data is reasonably analyzed and processed, and the improvement of the equipment is facilitated.', 'The utility model discloses a multifunctional rechargeable solar engineering mobile lighting vehicle which comprises a vehicle frame and wheels arranged below the vehicle frame, wherein a main machine box body is arranged on the vehicle frame, a solar controller, a rechargeable battery pack and an inverter are arranged in the main machine box body, a hand push rod and an LED lamp bracket are further arranged on the vehicle frame, the LED lamp bracket is a lifting telescopic rod bracket, and an LED lamp is arranged on the lifting telescopic rod bracket.', 'e that the battery is reversely connected without causing failure.', 'cell panel not only can be used for shading in summer, but also can keep a certain temperature during power generation of the solar cell panel, so that better effect can be provided for the shrimp pond in winter, the solar cell panel can generate power, the power can be used for the shrimp pond support system, renewable energy sources are fully utilized, and energy is saved.', 'solar energy was got the electric installation simultaneously through setting up the runner assembly.', 'e torque of an impeller of the wind generating set is set to be the determined optimal torque, so that the influence of blade deformation on the generating capacity is considered to dynamically adjust the relation between the rotating speed and the torque, and the generating capacity of the wind generating set is improved.', 'Can hinder the impact step by step at the in-process that slows down the impact to the better protection jar body.', 'discharge through the pump drainage pump by the auger conveyor, effectively get rid of deposit such as silt in the cistern, prevent that it from piling up in a large number and influencing the use of drainage hole.', 'comprehensive energy system, so that the operation flexibility of the offshore wind farm is improved, and the maximum utilization of wind energy is met through a multi-energy complementary strategy.', 'oblem that the existing photovoltaic tile structure influences the heat dissipation of the assembly is reduced, and the water seepage and delamination conditions are easy to occur.', 'de of the vertical shaft of the submarine tunnel, wherein cables of the vertical axis wind driven generators are respectively connected with power-increasing and-transforming equipment in the submarine tunnel through the vertical shaft, and the power-increasing and-transforming equipment is connected with each power utilization point through a transmission line.', 'water lowering structure in a down-the-hole plane gate, which comprises a down-the-hole plane gate, a gate slot embedded part, an opening and closing device and a water discharging facility.', 'he lower end of the metal frame; the sewage collecting mechanism comprises a water collecting tank, the water collecting tank is fixedly connected to the lower end of the metal frame, and a sedimentation bucket is arranged at the lower end of the water collecting tank.', 'The manhole protection device solves the problems that a base manhole of a raw water power station needs to be frequently erected and dismantled in the protection process and the protection fails due to external force impact, and has the characteristics of simple structure, safety, reliability, no need of disassembly and transfer, and simplicity and convenience in operation, and the manhole protection device can quickly form protection for the manhole, cannot displace due to the external force impact in the protection process, and is safe and reliable.', 'ay screen penetrating through a front wall is hermetically glued on the inner side of the front shell, a circuit board is fixedly connected on the inner side of the front shell and positioned on the rear side of the display screen, and a key is fixedly connected on the inner side of the front shell and positioned below the display screen.', 'ion-free; protect solar panel through setting up transparent protection casing, avoid fragile solar panel to receive the circuit damage extension outdoor bench holistic life that external force extrusion leads to.', 'uiding the site selection and the constant volume of the hydroelectric hydrogen production equipment, and helps to make a reasonable hydrogen production development plan, so that the access benefit of hydrogen production load is high, and the safety and stability constraint of a power grid is met.', 'e problem that the heating output of the traditional convection type electric heater is discontinuous is solved; the novel solar energy water heater comprises a box body, wherein a plurality of round holes are formed in the bottom of the box body at equal intervals, a rectangular opening is formed in the middle of the bottom of the box body, and a plurality of exhaust holes are formed in the top of the box body.', 'neration, the overall power generation of the device is improved, the stable and continuous power generation is ensured, and the utilization efficiency of solar energy and wind energy is improved.', 'n discloses an LNG cold energy and solar energy-based combined cycle unit inlet air temperature regulation and control system and method.', 'ontrol the discharged water flow, so that the water flow is smoothly and downstream.', 'The movable cap body of the safety cap can rotate to the upper part of the cap body, so that the front end of the cap body can be prevented from touching a measuring instrument when the measuring and paying-off work is carried out; the Bluetooth headset is arranged on the cap body, so that the measuring personnel can conveniently communicate with each other in a long distance; solar energy power generation subassembly make full use of solar energy power generation on the cap body supplies power to bluetooth headset, more green.', 'The utility model provides a rural domestic sewage treatment plant of wind energy oxygen suppliment type relates to sewage treatment technical field, including shell, sedimentation tank, mount, oxygenate pond and air pipe, the inside left side fixedly connected with sedimentation tank of shell, shell outside left side fixedly connected with mount, the inside right side fixedly connected with of shell oxygenate the pond, fixedly connected with air pipe all around at the mount top, shell bottom fixed surface is connected with and is used for the oxygenating mechanism of oxygenating.', 'the method, the relevant parameters of the hydraulic engineering are generated in a self-adaptive manner through the hydraulic dynamic model, the time of on-site survey of personnel is saved, the resource allocation of manpower and material resources is reduced, data information service is provided for hydraulic engineering construction through similarity matching calculation and evaluation calculation, the authenticity of hydraulic engineering information is improved, and certain positive significance is provided for the promotion of the hydraulic engineering.', 'fold (410-2) including a second set of PV cells (412-2) for generating electrical energy, and a second laminating film (1801) that encapsulates the second set of PV cells (412-2); and a connecting mechanism (420-5) that connects the first laminating film (1801) to the second laminating film (1801).', 'provided with in top in the work box, the work box lateral wall is close to bottom position fixedly connected with inlet tube, the work box lateral wall is close to top position fixedly connected with outlet pipe, work box top fixedly connected with handles the case, it is provided with battery and treater to handle the incasement, the supporting solar energy electroplax that is provided with of battery.', 'and waste of water resources can be effectively reduced; the solar energy can be fully utilized to realize automatic agricultural production, and the manpower, water resource and extra electric energy consumption are reduced.', 'd out through radiation, so that high-quality heat energy can be obtained.', 'internet of things, including the controlling means casing, the fixed rotation motor that is provided with in bottom of controlling means shells inner wall, the fixed axis of rotation that is provided with of output shaft that rotates the motor, the axis of rotation passes through the top rotation of bearing and controlling means casing and is connected, the axis of rotation activity runs through and extends to the top of controlling means casing.']\n"
     ]
    }
   ],
   "source": [
    "with open('../data/patent_summary.txt', 'r') as f:\n",
    "    patent_summary = [line.strip() for line in f.readlines()]\n",
    "\n",
    "print(patent_summary)"
   ]
  },
  {
   "cell_type": "code",
   "execution_count": 7,
   "id": "7eb4cbab-1ba4-4fdb-9b39-2c4c4be48b84",
   "metadata": {},
   "outputs": [
    {
     "data": {
      "text/plain": [
       "43"
      ]
     },
     "execution_count": 7,
     "metadata": {},
     "output_type": "execute_result"
    }
   ],
   "source": [
    "len(patent_summary)"
   ]
  },
  {
   "cell_type": "markdown",
   "id": "3af69e90-2f0b-4fc5-8272-58b1987a6a34",
   "metadata": {},
   "source": [
    "# generate FAQ entries\n",
    "\n",
    "To generate our FAQ-entries we use llama3, running locally. First we define a helper function which takes a string, embeds it in a specific prompt, sends it to the ollama-api and returns the result."
   ]
  },
  {
   "cell_type": "code",
   "execution_count": 8,
   "id": "a6e3b7d0-680d-47c3-9f6b-47eb870c8c8d",
   "metadata": {},
   "outputs": [],
   "source": [
    "def llama_faq_call(key_string, model='llama3'):\n",
    "\n",
    "    # URL of the API\n",
    "    url = \"http://localhost:11434/api/generate\"\n",
    "\n",
    "    topic_prompt = f\"\"\"\n",
    "    generate a question & answer in the style of an FAQ entry based on the following sentence. The sentence was extracted as one a few key sentences in a large document. \n",
    "    Respond in Markdown code in the following form, do not include any remarks or anything:\n",
    "\n",
    "    # Q: [the question here]\n",
    "    A: [the answer here]\n",
    "\n",
    "    here the sentence:\n",
    "    {key_string}\n",
    "    \"\"\"\n",
    "\n",
    "    # Data to be sent\n",
    "    data = {\n",
    "        \"model\": model,\n",
    "        \"prompt\": topic_prompt,\n",
    "        \"stream\": False\n",
    "    }\n",
    "\n",
    "    # Send POST request with data\n",
    "    response = requests.post(url, json=data)\n",
    "\n",
    "    # Print response\n",
    "    response_text = json.loads(response.text).get('response', None)\n",
    "\n",
    "    return response_text"
   ]
  },
  {
   "cell_type": "markdown",
   "id": "bd563c57-506a-4e2e-be34-7cc98b637921",
   "metadata": {},
   "source": [
    "## media"
   ]
  },
  {
   "cell_type": "code",
   "execution_count": 9,
   "id": "b4c911be-d811-49b8-bc30-ba7dde4c727c",
   "metadata": {},
   "outputs": [
    {
     "name": "stderr",
     "output_type": "stream",
     "text": [
      "100%|███████████████████████████████████████████████████████████████████████████████████████████████████████████████████████████████████████████████████████████████████████████████████████████████████████████████████████████████████████████████████████████████████████████████████| 26/26 [00:49<00:00,  1.91s/it]\n"
     ]
    },
    {
     "data": {
      "text/plain": [
       "['# Q: What process does the facility use to convert solar energy into hydrogen?\\nA: The facility converts solar energy into green hydrogen through water electrolysis.',\n",
       " '# Q: As of what year did Louisiana have approximately 200 MW of solar energy installed?\\nA: As of year-end 2021.',\n",
       " '# Q: What impact will energy storage have on solar energy projects in Kentucky?\\nA: The development of energy storage capacity in Kentucky increases the potential for solar energy projects in the state.',\n",
       " '# Q: Will private developers be building solar plants on highways in South Korea?\\nA: Yes, according to the Korean government, private developers are expected to build solar plants on idle sites along highways with a combined capacity of 243 MW by 2025.',\n",
       " \"# Q: What were the results of Japan's latest solar energy project auction?\\nA: The final results showed that 273 PV projects with a combined capacity of 268.7MW were selected through the procurement exercise, which was the eleventh and final auction scheme for utility-scale solar in Japan, awarding fixed tariffs.\",\n",
       " \"# Q: What are the results of Japan's latest solar energy project auction?\\nA: The final results show that PV projects with a combined capacity of 26.2 MW were selected in the procurement exercise, with power ratings above 250 kW.\",\n",
       " '# Q: What is the scope of the agreement between NHPC and GRIDCO?\\nA: The agreement involves developing 2 GW of pumped storage and 1 GW of solar energy projects.',\n",
       " '# Q: What factors contribute to the volatility in battery prices?\\nA: Battery prices are highly volatile because they fluctuate in response to changes in the dynamic Chinese electric vehicle market.',\n",
       " '# Q: What is the purpose of a framework that enables transparent tracking and verification of PV panels throughout their life cycle?\\nA: Such a framework would enable transparent tracking and verification of PV panels throughout their life cycle.',\n",
       " '# Q: What benefits would such a framework bring to the PV panel industry?\\nA: It would enable transparent tracking and verification of PV panels throughout their life cycle.',\n",
       " '# Q: What was the level of electrification in Nigeria at the national level in 2020?\\nA: The national level of electrification in Nigeria increased to 15.72% in 2020, with a significant disparity between rural areas and urban areas.',\n",
       " '# Q: What are some examples of companies that have implemented ESG standards?\\nA: According to our research, one such example is JinkoSolar, a Chinese solar module manufacturer that has developed solutions utilizing ESG standards and claims it offers huge opportunities for the global energy transition.',\n",
       " '# Q: What is the total amount of solar energy projects completed between CS Energy and CVE North America?\\nA: The total amount of solar energy projects completed between CS Energy and CVE North America will be over 50 MW.',\n",
       " \"# Q: How does the Treasury Department's guidance on qualified Energy Communities impact solar energy projects in urban areas like Chicago?\\nA: The guidance hinders the construction of solar energy projects in many urban areas, including Chicago, which could affect the Sustainability Hub's ability to place its trainees on local solar projects.\",\n",
       " \"# Q: What is Amazon's current renewable energy project portfolio?\\nA: Amazon has a global renewable energy project portfolio of 206 projects, including 71 utility-scale wind and solar projects and 135 solar rooftops on facilities and stores, which will generate 8.5 GW of electricity production capacity.\",\n",
       " '# Q: How many workers are involved in solar energy projects?\\nA: According to the source, there were 346,143 workers who spent all or part of their time on solar.',\n",
       " '# Q: How many farmers have partnered with SunCommon on solar energy projects?\\nA: To date, SunCommon has worked with 75 farmers in Vermont and New York on solar energy projects.',\n",
       " '# Q: What are the implications of signing the lake lease agreement on environmental compliance?\\nA: By signing the lake lease agreement, projects have secured tenurial rights like environmental compliance certificates.',\n",
       " '# Q: What are common causes of delays in solar energy projects?\\nA: Most of the time, delays in solar energy projects are normally caused by the consolidation of properties and late issuances of land conversion permits.',\n",
       " \"# Q: What is the nature of Lightsource bp's recent agreement with Allianz Global Corporate & Specialty and Nephila Climate?\\nA: Lightsource bp has secured a proxy generation power purchase agreement (PGPPA) for solar energy projects, in partnership with Nephila Climate, through Allianz Global Corporate & Specialty's Capital Solutions unit.\",\n",
       " '# Q: What kind of agreement did Lightsource bp enter into with Verizon Communications Inc.?\\nA: Lightsource bp entered into a virtual power purchase agreement (VPPA) with Verizon Communications Inc.',\n",
       " \"# Q: What is the scope of Array Technologies' contract with Primoris Services Corp.?\\nA: Array Technologies has been awarded a contract for up to 4 GW of trackers from Primoris Services Corp., a provider of specialty contracting services.\",\n",
       " '# Q: What type of financing does Kenyon Energy provide for solar energy projects?\\nA: Kenyon Energy provides permanent financing for solar energy projects.',\n",
       " '# Q: What are some of the benefits of solar energy projects?\\nA: Solar energy projects like Big River support economic development, promote energy independence, create jobs and generate local tax revenue.',\n",
       " \"# Q: What is the purpose of Array Technologies' agreement with POSCO?\\nA: Array Technologies has entered into a multi-year supply arrangement with steelmaker POSCO to diversify and strengthen its global supply chain, providing access to POSCO's proprietary PosMAC material – an alloy-coated corrosion-resistant steel.\",\n",
       " \"Please provide the sentence you extracted, and I'll generate a question & answer in the style of an FAQ entry for you!\"]"
      ]
     },
     "execution_count": 9,
     "metadata": {},
     "output_type": "execute_result"
    }
   ],
   "source": [
    "media_faq_entries = [llama_faq_call(key_sentence) for key_sentence in tqdm(media_summaries)]\n",
    "\n",
    "media_faq_entries"
   ]
  },
  {
   "cell_type": "markdown",
   "id": "054c34df-84c0-4a73-83ef-09a6801e5b39",
   "metadata": {},
   "source": [
    "## patent"
   ]
  },
  {
   "cell_type": "code",
   "execution_count": 10,
   "id": "f7a80858-df49-4ceb-879e-32e5d32e6fd2",
   "metadata": {},
   "outputs": [
    {
     "name": "stderr",
     "output_type": "stream",
     "text": [
      "100%|███████████████████████████████████████████████████████████████████████████████████████████████████████████████████████████████████████████████████████████████████████████████████████████████████████████████████████████████████████████████████████████████████████████████████| 43/43 [01:22<00:00,  1.92s/it]\n"
     ]
    },
    {
     "data": {
      "text/plain": [
       "['# Q: What does \"Disclosed\" refer to?\\nA: An adaptable DC-AC inverter system.',\n",
       " '# Q: Is the energy recycling method suitable for all types of buildings?\\nA: Yes, the energy is recycled, and the method is suitable for different types of buildings in different regions.',\n",
       " '# Q: What factors affect the growth of plants in different environments?\\nA: The growth of plants is influenced by a range of factors including the difference between day and night, as well as varying soil types. This has a relatively small impact on the environment and provides good practical applications.',\n",
       " '# Q: What are the key features of the utility model?\\nA: The utility model has reasonable design and obvious effect, and solves the problem of low economic benefit caused by high labor intensity, low speed and lack of effective monitoring of manual fertilization in the prior art.',\n",
       " '# Q: What components are typically found on the front and rear sides of a water tank?\\nA: The front side of the water tank is typically provided with a circulating pump, while the rear side is typically provided with a heating device.',\n",
       " '# Q: What is the purpose of arranging multiple hydraulic jacks between bearing plates?\\nA: The purpose is to strengthen the strength of the force transmission column.',\n",
       " '# Q: What are the benefits of using an \"el\" insect killing box?\\nA: The \"el\" has the advantages that pests cannot escape when entering the insect killing box, the pests can be completely killed, and the pesticides of the mixed pest corpses can be filtered and recycled, so that the pesticide resources are saved.',\n",
       " '# Q: What is the focus of the model?\\nA: The model relates to the technical field of solar street lamps, in particular to an Internet of Things (IoT) solar street lamp.',\n",
       " '# Q: What is the purpose of the water feed pump in this system?\\nA: The water feed pump is used to arrange a pipeline between the steam jet type refrigerator and the solar heat collector.',\n",
       " '# Q: What are the benefits of implementing water eutrophication prevention methods?\\nA: Potential, effective inhibition of water eutrophication, convenient implementation and the like.',\n",
       " '# Q: How does the solar energy intelligence domestic garbage bin utilize indoor light?\\nA: The product uses a line connection between the solar panel and lithium cell to harness indoor light and generate electricity. This allows it to charge through indoor lighting, utilizing 3V power and providing a suitable means for solar charging.',\n",
       " '# Q: How does the system ensure low-carbon environmental protection?\\nA: Emise of meeting the heat supply temperature, and the low-carbon environmental protection is realized.',\n",
       " '# Q: What is the main purpose of the invention described?\\nA: The invention describes a battery management system.',\n",
       " '# Q: What is the purpose of the telescopic fixing feet and rollers on an fighting device?\\nA: The telescopic fixing feet and rollers allow for easy transportation and positioning of the fighting device, enabling it to be set up quickly and securely through the telescopic mechanism.',\n",
       " '# Q: What is the purpose of using a data storage cloud in equipment manufacturing?\\nA: The primary purpose of using a data storage cloud is to provide convenient access for equipment manufacturers to extract required data, allowing for reasonable analysis and processing, which ultimately facilitates the improvement of the equipment.',\n",
       " '# Q: What components does the multifunctional rechargeable solar engineering mobile lighting vehicle consist of?\\nA: The vehicle consists of a vehicle frame and wheels, a main machine box body containing a solar controller, rechargeable battery pack, and inverter, a hand push rod, an LED lamp bracket (with lifting telescopic rod), and an LED lamp.',\n",
       " '# Q: What are the implications of reversing a battery connection?\\nA: The battery can be connected in reverse order without causing failure.',\n",
       " '# Q: Can I use a cell panel for shading in summer as well as temperature control during power generation?\\nA: Yes, a cell panel not only provides shading for your shrimp pond in summer but also regulates the temperature to maintain an optimal condition during solar power generation. This allows you to take full advantage of renewable energy sources while minimizing energy waste.',\n",
       " '# Q: How does the solar energy system generate electricity?\\nA: Solar energy is generated by setting up a runner assembly to harness power simultaneously with installing an electric system.',\n",
       " '# Q: How does the wind generating set optimize its performance?\\nA: The torque of an impeller of the wind generating set is set to be the determined optimal torque, so that the influence of blade deformation on the generating capacity is considered to dynamically adjust the relation between the rotating speed and the torque, and the generating capacity of the wind generating set is improved.',\n",
       " '# Q: How can I minimize the effectiveness of a protective barrier?\\nA: You can hinder the impact step by step at the in-process that slows down the impact to the better protection jar body.',\n",
       " '# Q: How does the pump drainage system prevent sediment buildup in the cistern?\\nA: The system discharges sediment through the pump and auger conveyor, effectively removing deposit such as silt and preventing it from accumulating in large quantities and affecting the usage of the drainage hole.',\n",
       " '# Q: What is the goal of implementing a comprehensive energy system for an offshore wind farm?\\nA: The goal is to improve the operation flexibility of the offshore wind farm and maximize the utilization of wind energy by employing a multi-energy complementary strategy.',\n",
       " '# Q: How does the photovoltaic tile structure affect the performance of the solar panel assembly?\\nA: The problem that the existing photovoltaic tile structure influences the heat dissipation of the assembly is reduced, and the water seepage and delamination conditions are easy to occur.',\n",
       " '# Q: What is the purpose of the vertical shaft in the submarine tunnel?\\nA: The vertical shaft connects the cables of the wind-driven generators to the power-increasing and-transforming equipment, allowing for the distribution of power to various utilization points within the submarine tunnel via transmission lines.',\n",
       " '# Q: What is the composition of a water lowering structure in a down-the-hole plane gate?\\nA: The water lowering structure in a down-the-hole plane gate comprises a down-the-hole plane gate, a gate slot embedded part, an opening and closing device, and a water discharging facility.',\n",
       " '# Q: What is the purpose of the water collecting tank in the sewage collecting mechanism?\\nA: The water collecting tank is used to collect sewage and is fixedly connected to the lower end of the metal frame.',\n",
       " '# Q: What are the characteristics of a manhole protection device?\\nA: The manhole protection device has simple structure, safety, reliability, no need of disassembly and transfer, and simplicity and convenience in operation. It can quickly form protection for the manhole and is safe and reliable against external force impact during the protection process.',\n",
       " '# Q: What is the configuration of the display screen in this design?\\nA: The display screen is hermetically glued to the inner side of the front shell, with a circuit board fixedly connected to the inner side of the front shell and positioned on the rear side of the display screen. Additionally, a key is fixedly connected to the inner side of the front shell and positioned below the display screen.',\n",
       " '# Q: How do I prevent my solar panels from receiving circuit damage when exposed to external forces outdoors?\\nA: To ensure ion-free and protect your solar panel, consider setting up a transparent protection casing to avoid fragile panels receiving circuit damage caused by external forces such as extrusion.',\n",
       " '# Q: What role does the site selection play in the planning of hydrogen production development?\\nA: The site selection plays a crucial role in guiding the planning of hydrogen production development by ensuring that the constant volume of hydroelectric hydrogen production equipment is optimized, thereby allowing for reasonable hydrogen production and meeting the safety and stability constraints of the power grid.',\n",
       " '# Q: What problem does the novel solar energy water heater solve?\\nA: The heating output of traditional convection type electric heaters is discontinuous.',\n",
       " '# Q: What are the benefits of using a device for generating solar and wind energy?\\nA: The overall power generation of the device is improved, the stable and continuous power generation is ensured, and the utilization efficiency of solar energy and wind energy is improved.',\n",
       " '# Q: What is disclosed in the description of a combined cycle unit inlet air temperature regulation and control system?\\nA: An LNG (Liquefied Natural Gas) cold energy and solar energy-based combined cycle unit inlet air temperature regulation and control system, along with a method for its operation.',\n",
       " '# Q: How to control the discharged water flow?\\nA: To ensure smooth and efficient water flow downstream, you should take measures to control the discharged water flow.',\n",
       " '# Q: How does the safety cap prevent damage when performing measuring and paying-off work?\\nA: The movable cap body can rotate to the upper part of the cap body, preventing the front end of the cap body from touching a measuring instrument during this process.',\n",
       " '# Q: What does a utility model provide in relation to rural domestic sewage treatment plants?\\nA: The utility model provides a wind energy oxygen supplement type rural domestic sewage treatment plant, which relates to the sewage treatment technical field.',\n",
       " '# Q: How are relevant parameters of hydraulic engineering generated in a self-adaptive manner?\\nA: The method involves using a hydraulic dynamic model to generate the necessary parameters, which enables on-site survey personnel to save time and reduces resource allocation.',\n",
       " '# Q: What is included in the fold (410-2) of a solar panel?\\nA: The fold (410-2) includes a second set of PV cells (412-2) for generating electrical energy, and a second laminating film (1801) that encapsulates the second set of PV cells (412-2); and a connecting mechanism (420-5) that connects the first laminating film (1801) to the second laminating film (1801).',\n",
       " '# Q: What is the purpose of the connections on the work box lateral wall?\\nA: The work box lateral wall is close to both the bottom position of the inlet tube and top position of the outlet pipe, ensuring fixed connections for efficient processing.',\n",
       " '# Q: How can agriculture reduce water waste and utilize solar energy?\\nA: By implementing automatic agricultural production using solar energy, agriculture can effectively reduce water resources waste, minimize labor, water, and excess electrical energy consumption.',\n",
       " '# Q: How is waste heat converted into usable energy?\\nA: Waste heat is converted into usable energy by allowing it to cool down naturally or by accelerating the process through radiation, so that high-quality heat energy can be obtained.',\n",
       " \"# Q: What are the main components of a IoT device's controlling means?\\nA: The main components include the fixed rotation motor provided with in the bottom of the controlling means shell's inner wall, the fixed axis of rotation that passes through the top of the bearing and controlling means casing, and extends to the top of the controlling means casing.\"]"
      ]
     },
     "execution_count": 10,
     "metadata": {},
     "output_type": "execute_result"
    }
   ],
   "source": [
    "patent_faq_entries = [llama_faq_call(key_sentence) for key_sentence in tqdm(patent_summary)]\n",
    "\n",
    "patent_faq_entries"
   ]
  },
  {
   "cell_type": "markdown",
   "id": "542bd101-4e4e-41cf-bab9-7240f1a30af7",
   "metadata": {},
   "source": [
    "# Export to markdown-files\n",
    "\n",
    "As we already generated markdown-code, we export the llm-answers into a markdown file."
   ]
  },
  {
   "cell_type": "code",
   "execution_count": 11,
   "id": "b84f1f9b-cc61-4cd5-8150-06e6955c5e28",
   "metadata": {},
   "outputs": [],
   "source": [
    "with open('../faq_media.md', 'w') as f:\n",
    "    for entry in media_faq_entries:\n",
    "        f.write(entry + '\\n\\n')"
   ]
  },
  {
   "cell_type": "code",
   "execution_count": 12,
   "id": "68d68e2b-c579-4944-9c76-6969a15993fd",
   "metadata": {},
   "outputs": [],
   "source": [
    "with open('../faq_patent.md', 'w') as f:\n",
    "    for entry in patent_faq_entries:\n",
    "        f.write(entry + '\\n\\n')"
   ]
  }
 ],
 "metadata": {
  "kernelspec": {
   "display_name": "Python 3 (ipykernel)",
   "language": "python",
   "name": "python3"
  },
  "language_info": {
   "codemirror_mode": {
    "name": "ipython",
    "version": 3
   },
   "file_extension": ".py",
   "mimetype": "text/x-python",
   "name": "python",
   "nbconvert_exporter": "python",
   "pygments_lexer": "ipython3",
   "version": "3.9.13"
  }
 },
 "nbformat": 4,
 "nbformat_minor": 5
}
