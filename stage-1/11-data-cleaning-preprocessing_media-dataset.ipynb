{
 "cells": [
  {
   "cell_type": "code",
   "execution_count": 54,
   "id": "2904ae0e-9261-452e-a50b-00bf085f4f39",
   "metadata": {},
   "outputs": [],
   "source": [
    "import pandas as pd\n",
    "import json"
   ]
  },
  {
   "cell_type": "markdown",
   "id": "c4fec426-23bd-47a7-833e-663939785704",
   "metadata": {},
   "source": [
    "# Load Data"
   ]
  },
  {
   "cell_type": "markdown",
   "id": "13688e24-1afc-4853-bb7d-607fcf823953",
   "metadata": {},
   "source": [
    "Source: <https://www.kaggle.com/datasets/jannalipenkova/cleantech-media-dataset>"
   ]
  },
  {
   "cell_type": "code",
   "execution_count": 55,
   "id": "0078befd-0e9d-41c9-bfc6-66e2fdc7ccae",
   "metadata": {},
   "outputs": [
    {
     "data": {
      "text/html": [
       "<div>\n",
       "<style scoped>\n",
       "    .dataframe tbody tr th:only-of-type {\n",
       "        vertical-align: middle;\n",
       "    }\n",
       "\n",
       "    .dataframe tbody tr th {\n",
       "        vertical-align: top;\n",
       "    }\n",
       "\n",
       "    .dataframe thead th {\n",
       "        text-align: right;\n",
       "    }\n",
       "</style>\n",
       "<table border=\"1\" class=\"dataframe\">\n",
       "  <thead>\n",
       "    <tr style=\"text-align: right;\">\n",
       "      <th></th>\n",
       "      <th>title</th>\n",
       "      <th>date</th>\n",
       "      <th>author</th>\n",
       "      <th>content</th>\n",
       "      <th>domain</th>\n",
       "      <th>url</th>\n",
       "    </tr>\n",
       "  </thead>\n",
       "  <tbody>\n",
       "    <tr>\n",
       "      <th>1280</th>\n",
       "      <td>Qatar to Slash Emissions as LNG Expansion Adva...</td>\n",
       "      <td>2021-01-13</td>\n",
       "      <td>NaN</td>\n",
       "      <td>[\"Qatar Petroleum ( QP) is targeting aggressiv...</td>\n",
       "      <td>energyintel</td>\n",
       "      <td>https://www.energyintel.com/0000017b-a7dc-de4c...</td>\n",
       "    </tr>\n",
       "    <tr>\n",
       "      <th>1281</th>\n",
       "      <td>India Launches Its First 700 MW PHWR</td>\n",
       "      <td>2021-01-15</td>\n",
       "      <td>NaN</td>\n",
       "      <td>[\"• Nuclear Power Corp. of India Ltd. ( NPCIL)...</td>\n",
       "      <td>energyintel</td>\n",
       "      <td>https://www.energyintel.com/0000017b-a7dc-de4c...</td>\n",
       "    </tr>\n",
       "    <tr>\n",
       "      <th>1283</th>\n",
       "      <td>New Chapter for US-China Energy Trade</td>\n",
       "      <td>2021-01-20</td>\n",
       "      <td>NaN</td>\n",
       "      <td>[\"New US President Joe Biden took office this ...</td>\n",
       "      <td>energyintel</td>\n",
       "      <td>https://www.energyintel.com/0000017b-a7dc-de4c...</td>\n",
       "    </tr>\n",
       "    <tr>\n",
       "      <th>1284</th>\n",
       "      <td>Japan: Slow Restarts Cast Doubt on 2030 Energy...</td>\n",
       "      <td>2021-01-22</td>\n",
       "      <td>NaN</td>\n",
       "      <td>[\"The slow pace of Japanese reactor restarts c...</td>\n",
       "      <td>energyintel</td>\n",
       "      <td>https://www.energyintel.com/0000017b-a7dc-de4c...</td>\n",
       "    </tr>\n",
       "    <tr>\n",
       "      <th>1285</th>\n",
       "      <td>NYC Pension Funds to Divest Fossil Fuel Shares</td>\n",
       "      <td>2021-01-25</td>\n",
       "      <td>NaN</td>\n",
       "      <td>[\"Two of New York City's largest pension funds...</td>\n",
       "      <td>energyintel</td>\n",
       "      <td>https://www.energyintel.com/0000017b-a7dc-de4c...</td>\n",
       "    </tr>\n",
       "    <tr>\n",
       "      <th>...</th>\n",
       "      <td>...</td>\n",
       "      <td>...</td>\n",
       "      <td>...</td>\n",
       "      <td>...</td>\n",
       "      <td>...</td>\n",
       "      <td>...</td>\n",
       "    </tr>\n",
       "    <tr>\n",
       "      <th>81812</th>\n",
       "      <td>Strata Clean Energy Nets $ 300 Million in Fund...</td>\n",
       "      <td>2023-11-06</td>\n",
       "      <td>NaN</td>\n",
       "      <td>['Strata Clean Energy has closed a $ 300 milli...</td>\n",
       "      <td>solarindustrymag</td>\n",
       "      <td>https://solarindustrymag.com/strata-clean-ener...</td>\n",
       "    </tr>\n",
       "    <tr>\n",
       "      <th>81813</th>\n",
       "      <td>Orsted Deploying SparkCognition Renewable Suit...</td>\n",
       "      <td>2023-11-07</td>\n",
       "      <td>NaN</td>\n",
       "      <td>['Global renewable energy developer Ørsted is ...</td>\n",
       "      <td>solarindustrymag</td>\n",
       "      <td>https://solarindustrymag.com/orsted-deploying-...</td>\n",
       "    </tr>\n",
       "    <tr>\n",
       "      <th>81814</th>\n",
       "      <td>Veolia Has Plans for 5 MW of Solar in Arkansas</td>\n",
       "      <td>2023-11-07</td>\n",
       "      <td>NaN</td>\n",
       "      <td>['Veolia North America, a provider of environm...</td>\n",
       "      <td>solarindustrymag</td>\n",
       "      <td>https://solarindustrymag.com/veolia-has-plans-...</td>\n",
       "    </tr>\n",
       "    <tr>\n",
       "      <th>81815</th>\n",
       "      <td>SunEdison: Too Big, Too Fast?</td>\n",
       "      <td>2023-11-08</td>\n",
       "      <td>NaN</td>\n",
       "      <td>['Once the self-proclaimed “ leading renewable...</td>\n",
       "      <td>solarindustrymag</td>\n",
       "      <td>http://www.solarindustrymag.com/online/issues/...</td>\n",
       "    </tr>\n",
       "    <tr>\n",
       "      <th>81816</th>\n",
       "      <td>Vikings Solar-Plus-Storage Development Nets Fi...</td>\n",
       "      <td>2023-11-08</td>\n",
       "      <td>NaN</td>\n",
       "      <td>['Arevon Energy Inc. has closed financing on t...</td>\n",
       "      <td>solarindustrymag</td>\n",
       "      <td>https://solarindustrymag.com/vikings-solar-plu...</td>\n",
       "    </tr>\n",
       "  </tbody>\n",
       "</table>\n",
       "<p>9593 rows × 6 columns</p>\n",
       "</div>"
      ],
      "text/plain": [
       "                                                   title       date author  \\\n",
       "1280   Qatar to Slash Emissions as LNG Expansion Adva... 2021-01-13    NaN   \n",
       "1281                India Launches Its First 700 MW PHWR 2021-01-15    NaN   \n",
       "1283               New Chapter for US-China Energy Trade 2021-01-20    NaN   \n",
       "1284   Japan: Slow Restarts Cast Doubt on 2030 Energy... 2021-01-22    NaN   \n",
       "1285      NYC Pension Funds to Divest Fossil Fuel Shares 2021-01-25    NaN   \n",
       "...                                                  ...        ...    ...   \n",
       "81812  Strata Clean Energy Nets $ 300 Million in Fund... 2023-11-06    NaN   \n",
       "81813  Orsted Deploying SparkCognition Renewable Suit... 2023-11-07    NaN   \n",
       "81814     Veolia Has Plans for 5 MW of Solar in Arkansas 2023-11-07    NaN   \n",
       "81815                      SunEdison: Too Big, Too Fast? 2023-11-08    NaN   \n",
       "81816  Vikings Solar-Plus-Storage Development Nets Fi... 2023-11-08    NaN   \n",
       "\n",
       "                                                 content            domain  \\\n",
       "1280   [\"Qatar Petroleum ( QP) is targeting aggressiv...       energyintel   \n",
       "1281   [\"• Nuclear Power Corp. of India Ltd. ( NPCIL)...       energyintel   \n",
       "1283   [\"New US President Joe Biden took office this ...       energyintel   \n",
       "1284   [\"The slow pace of Japanese reactor restarts c...       energyintel   \n",
       "1285   [\"Two of New York City's largest pension funds...       energyintel   \n",
       "...                                                  ...               ...   \n",
       "81812  ['Strata Clean Energy has closed a $ 300 milli...  solarindustrymag   \n",
       "81813  ['Global renewable energy developer Ørsted is ...  solarindustrymag   \n",
       "81814  ['Veolia North America, a provider of environm...  solarindustrymag   \n",
       "81815  ['Once the self-proclaimed “ leading renewable...  solarindustrymag   \n",
       "81816  ['Arevon Energy Inc. has closed financing on t...  solarindustrymag   \n",
       "\n",
       "                                                     url  \n",
       "1280   https://www.energyintel.com/0000017b-a7dc-de4c...  \n",
       "1281   https://www.energyintel.com/0000017b-a7dc-de4c...  \n",
       "1283   https://www.energyintel.com/0000017b-a7dc-de4c...  \n",
       "1284   https://www.energyintel.com/0000017b-a7dc-de4c...  \n",
       "1285   https://www.energyintel.com/0000017b-a7dc-de4c...  \n",
       "...                                                  ...  \n",
       "81812  https://solarindustrymag.com/strata-clean-ener...  \n",
       "81813  https://solarindustrymag.com/orsted-deploying-...  \n",
       "81814  https://solarindustrymag.com/veolia-has-plans-...  \n",
       "81815  http://www.solarindustrymag.com/online/issues/...  \n",
       "81816  https://solarindustrymag.com/vikings-solar-plu...  \n",
       "\n",
       "[9593 rows x 6 columns]"
      ]
     },
     "execution_count": 55,
     "metadata": {},
     "output_type": "execute_result"
    }
   ],
   "source": [
    "# load raw data\n",
    "df_cleantech_media = pd.read_csv('../data/cleantech_media_dataset_v2_2024-02-23.csv', index_col=0, parse_dates=['date'])\n",
    "df_cleantech_media"
   ]
  },
  {
   "cell_type": "code",
   "execution_count": 56,
   "id": "0b127f01-21fd-41ff-901a-ce3d842326bb",
   "metadata": {},
   "outputs": [
    {
     "name": "stdout",
     "output_type": "stream",
     "text": [
      "<class 'pandas.core.frame.DataFrame'>\n",
      "Index: 9593 entries, 1280 to 81816\n",
      "Data columns (total 6 columns):\n",
      " #   Column   Non-Null Count  Dtype         \n",
      "---  ------   --------------  -----         \n",
      " 0   title    9593 non-null   object        \n",
      " 1   date     9593 non-null   datetime64[ns]\n",
      " 2   author   31 non-null     object        \n",
      " 3   content  9593 non-null   object        \n",
      " 4   domain   9593 non-null   object        \n",
      " 5   url      9593 non-null   object        \n",
      "dtypes: datetime64[ns](1), object(5)\n",
      "memory usage: 524.6+ KB\n"
     ]
    }
   ],
   "source": [
    "df_cleantech_media.info()"
   ]
  },
  {
   "cell_type": "code",
   "execution_count": 57,
   "id": "eca4bde9-ab7f-494e-a598-ef1e6959bff6",
   "metadata": {},
   "outputs": [
    {
     "data": {
      "text/plain": [
       "(Timestamp('2023-12-05 00:00:00'), Timestamp('2021-01-01 00:00:00'))"
      ]
     },
     "execution_count": 57,
     "metadata": {},
     "output_type": "execute_result"
    }
   ],
   "source": [
    "(df_cleantech_media.date.max(), df_cleantech_media.date.min())"
   ]
  },
  {
   "cell_type": "markdown",
   "id": "5677fbed-5e48-4a9d-a029-2028a581983e",
   "metadata": {},
   "source": [
    "We have 9593 articels in the dataset, but only 31 have an author. The rest of the columns seems to be complete. The articles seem to be published in the timespan from 2021-01-01 to 2023-12-05."
   ]
  },
  {
   "cell_type": "markdown",
   "id": "cb0ec097-5a37-4def-8e35-c79287cf7da4",
   "metadata": {},
   "source": [
    "## Cleaning the content-column"
   ]
  },
  {
   "cell_type": "code",
   "execution_count": 58,
   "id": "5554f4fe-021a-4070-893a-08be65d6858d",
   "metadata": {},
   "outputs": [
    {
     "data": {
      "text/plain": [
       "1280     .9'20). Rafiq Latta, Nicosia\"]\n",
       "1281     consortium first ( related).\"]\n",
       "1283     ntensifies ( PIW Jan.15'21).\"]\n",
       "1284     te completion until October.\"]\n",
       "1285     ). Kathrine Schmidt, Houston\"]\n",
       "                      ...              \n",
       "81812    ns Inc. All Rights Reserved.']\n",
       "81813    ns Inc. All Rights Reserved.']\n",
       "81814    ns Inc. All Rights Reserved.']\n",
       "81815    onary tale for the industry.']\n",
       "81816    ns Inc. All Rights Reserved.']\n",
       "Name: content, Length: 9593, dtype: object"
      ]
     },
     "execution_count": 58,
     "metadata": {},
     "output_type": "execute_result"
    }
   ],
   "source": [
    "# content seems to be have some strange leading/trailing characters\n",
    "df_cleantech_media.content.str[-30:]"
   ]
  },
  {
   "cell_type": "code",
   "execution_count": 59,
   "id": "08db00c2-77bc-4caa-8c20-e6842866810a",
   "metadata": {},
   "outputs": [
    {
     "data": {
      "text/plain": [
       "1280     [\"Qatar Petroleum ( QP) is tar\n",
       "1281     [\"• Nuclear Power Corp. of Ind\n",
       "1283     [\"New US President Joe Biden t\n",
       "1284     [\"The slow pace of Japanese re\n",
       "1285     [\"Two of New York City's large\n",
       "                      ...              \n",
       "81812    ['Strata Clean Energy has clos\n",
       "81813    ['Global renewable energy deve\n",
       "81814    ['Veolia North America, a prov\n",
       "81815    ['Once the self-proclaimed “ l\n",
       "81816    ['Arevon Energy Inc. has close\n",
       "Name: content, Length: 9593, dtype: object"
      ]
     },
     "execution_count": 59,
     "metadata": {},
     "output_type": "execute_result"
    }
   ],
   "source": [
    "df_cleantech_media.content.str[:30]"
   ]
  },
  {
   "cell_type": "code",
   "execution_count": 60,
   "id": "6ad1d4a0-dd29-4000-a78d-d6976f430717",
   "metadata": {},
   "outputs": [
    {
     "data": {
      "text/html": [
       "<div>\n",
       "<style scoped>\n",
       "    .dataframe tbody tr th:only-of-type {\n",
       "        vertical-align: middle;\n",
       "    }\n",
       "\n",
       "    .dataframe tbody tr th {\n",
       "        vertical-align: top;\n",
       "    }\n",
       "\n",
       "    .dataframe thead th {\n",
       "        text-align: right;\n",
       "    }\n",
       "</style>\n",
       "<table border=\"1\" class=\"dataframe\">\n",
       "  <thead>\n",
       "    <tr style=\"text-align: right;\">\n",
       "      <th></th>\n",
       "      <th>title</th>\n",
       "      <th>date</th>\n",
       "      <th>author</th>\n",
       "      <th>content</th>\n",
       "      <th>domain</th>\n",
       "      <th>url</th>\n",
       "    </tr>\n",
       "  </thead>\n",
       "  <tbody>\n",
       "    <tr>\n",
       "      <th>1280</th>\n",
       "      <td>Qatar to Slash Emissions as LNG Expansion Adva...</td>\n",
       "      <td>2021-01-13</td>\n",
       "      <td>NaN</td>\n",
       "      <td>Qatar Petroleum ( QP) is targeting aggressive ...</td>\n",
       "      <td>energyintel</td>\n",
       "      <td>https://www.energyintel.com/0000017b-a7dc-de4c...</td>\n",
       "    </tr>\n",
       "    <tr>\n",
       "      <th>1281</th>\n",
       "      <td>India Launches Its First 700 MW PHWR</td>\n",
       "      <td>2021-01-15</td>\n",
       "      <td>NaN</td>\n",
       "      <td>Nuclear Power Corp. of India Ltd. ( NPCIL) syn...</td>\n",
       "      <td>energyintel</td>\n",
       "      <td>https://www.energyintel.com/0000017b-a7dc-de4c...</td>\n",
       "    </tr>\n",
       "    <tr>\n",
       "      <th>1283</th>\n",
       "      <td>New Chapter for US-China Energy Trade</td>\n",
       "      <td>2021-01-20</td>\n",
       "      <td>NaN</td>\n",
       "      <td>New US President Joe Biden took office this we...</td>\n",
       "      <td>energyintel</td>\n",
       "      <td>https://www.energyintel.com/0000017b-a7dc-de4c...</td>\n",
       "    </tr>\n",
       "    <tr>\n",
       "      <th>1284</th>\n",
       "      <td>Japan: Slow Restarts Cast Doubt on 2030 Energy...</td>\n",
       "      <td>2021-01-22</td>\n",
       "      <td>NaN</td>\n",
       "      <td>The slow pace of Japanese reactor restarts con...</td>\n",
       "      <td>energyintel</td>\n",
       "      <td>https://www.energyintel.com/0000017b-a7dc-de4c...</td>\n",
       "    </tr>\n",
       "    <tr>\n",
       "      <th>1285</th>\n",
       "      <td>NYC Pension Funds to Divest Fossil Fuel Shares</td>\n",
       "      <td>2021-01-25</td>\n",
       "      <td>NaN</td>\n",
       "      <td>Two of New York City's largest pension funds s...</td>\n",
       "      <td>energyintel</td>\n",
       "      <td>https://www.energyintel.com/0000017b-a7dc-de4c...</td>\n",
       "    </tr>\n",
       "    <tr>\n",
       "      <th>...</th>\n",
       "      <td>...</td>\n",
       "      <td>...</td>\n",
       "      <td>...</td>\n",
       "      <td>...</td>\n",
       "      <td>...</td>\n",
       "      <td>...</td>\n",
       "    </tr>\n",
       "    <tr>\n",
       "      <th>81812</th>\n",
       "      <td>Strata Clean Energy Nets $ 300 Million in Fund...</td>\n",
       "      <td>2023-11-06</td>\n",
       "      <td>NaN</td>\n",
       "      <td>Strata Clean Energy has closed a $ 300 million...</td>\n",
       "      <td>solarindustrymag</td>\n",
       "      <td>https://solarindustrymag.com/strata-clean-ener...</td>\n",
       "    </tr>\n",
       "    <tr>\n",
       "      <th>81813</th>\n",
       "      <td>Orsted Deploying SparkCognition Renewable Suit...</td>\n",
       "      <td>2023-11-07</td>\n",
       "      <td>NaN</td>\n",
       "      <td>Global renewable energy developer Ørsted is de...</td>\n",
       "      <td>solarindustrymag</td>\n",
       "      <td>https://solarindustrymag.com/orsted-deploying-...</td>\n",
       "    </tr>\n",
       "    <tr>\n",
       "      <th>81814</th>\n",
       "      <td>Veolia Has Plans for 5 MW of Solar in Arkansas</td>\n",
       "      <td>2023-11-07</td>\n",
       "      <td>NaN</td>\n",
       "      <td>Veolia North America, a provider of environmen...</td>\n",
       "      <td>solarindustrymag</td>\n",
       "      <td>https://solarindustrymag.com/veolia-has-plans-...</td>\n",
       "    </tr>\n",
       "    <tr>\n",
       "      <th>81815</th>\n",
       "      <td>SunEdison: Too Big, Too Fast?</td>\n",
       "      <td>2023-11-08</td>\n",
       "      <td>NaN</td>\n",
       "      <td>Once the self-proclaimed “ leading renewable p...</td>\n",
       "      <td>solarindustrymag</td>\n",
       "      <td>http://www.solarindustrymag.com/online/issues/...</td>\n",
       "    </tr>\n",
       "    <tr>\n",
       "      <th>81816</th>\n",
       "      <td>Vikings Solar-Plus-Storage Development Nets Fi...</td>\n",
       "      <td>2023-11-08</td>\n",
       "      <td>NaN</td>\n",
       "      <td>Arevon Energy Inc. has closed financing on the...</td>\n",
       "      <td>solarindustrymag</td>\n",
       "      <td>https://solarindustrymag.com/vikings-solar-plu...</td>\n",
       "    </tr>\n",
       "  </tbody>\n",
       "</table>\n",
       "<p>9593 rows × 6 columns</p>\n",
       "</div>"
      ],
      "text/plain": [
       "                                                   title       date author  \\\n",
       "1280   Qatar to Slash Emissions as LNG Expansion Adva... 2021-01-13    NaN   \n",
       "1281                India Launches Its First 700 MW PHWR 2021-01-15    NaN   \n",
       "1283               New Chapter for US-China Energy Trade 2021-01-20    NaN   \n",
       "1284   Japan: Slow Restarts Cast Doubt on 2030 Energy... 2021-01-22    NaN   \n",
       "1285      NYC Pension Funds to Divest Fossil Fuel Shares 2021-01-25    NaN   \n",
       "...                                                  ...        ...    ...   \n",
       "81812  Strata Clean Energy Nets $ 300 Million in Fund... 2023-11-06    NaN   \n",
       "81813  Orsted Deploying SparkCognition Renewable Suit... 2023-11-07    NaN   \n",
       "81814     Veolia Has Plans for 5 MW of Solar in Arkansas 2023-11-07    NaN   \n",
       "81815                      SunEdison: Too Big, Too Fast? 2023-11-08    NaN   \n",
       "81816  Vikings Solar-Plus-Storage Development Nets Fi... 2023-11-08    NaN   \n",
       "\n",
       "                                                 content            domain  \\\n",
       "1280   Qatar Petroleum ( QP) is targeting aggressive ...       energyintel   \n",
       "1281   Nuclear Power Corp. of India Ltd. ( NPCIL) syn...       energyintel   \n",
       "1283   New US President Joe Biden took office this we...       energyintel   \n",
       "1284   The slow pace of Japanese reactor restarts con...       energyintel   \n",
       "1285   Two of New York City's largest pension funds s...       energyintel   \n",
       "...                                                  ...               ...   \n",
       "81812  Strata Clean Energy has closed a $ 300 million...  solarindustrymag   \n",
       "81813  Global renewable energy developer Ørsted is de...  solarindustrymag   \n",
       "81814  Veolia North America, a provider of environmen...  solarindustrymag   \n",
       "81815  Once the self-proclaimed “ leading renewable p...  solarindustrymag   \n",
       "81816  Arevon Energy Inc. has closed financing on the...  solarindustrymag   \n",
       "\n",
       "                                                     url  \n",
       "1280   https://www.energyintel.com/0000017b-a7dc-de4c...  \n",
       "1281   https://www.energyintel.com/0000017b-a7dc-de4c...  \n",
       "1283   https://www.energyintel.com/0000017b-a7dc-de4c...  \n",
       "1284   https://www.energyintel.com/0000017b-a7dc-de4c...  \n",
       "1285   https://www.energyintel.com/0000017b-a7dc-de4c...  \n",
       "...                                                  ...  \n",
       "81812  https://solarindustrymag.com/strata-clean-ener...  \n",
       "81813  https://solarindustrymag.com/orsted-deploying-...  \n",
       "81814  https://solarindustrymag.com/veolia-has-plans-...  \n",
       "81815  http://www.solarindustrymag.com/online/issues/...  \n",
       "81816  https://solarindustrymag.com/vikings-solar-plu...  \n",
       "\n",
       "[9593 rows x 6 columns]"
      ]
     },
     "execution_count": 60,
     "metadata": {},
     "output_type": "execute_result"
    }
   ],
   "source": [
    "# get rid of all trailing/leading character which are no alpha-numeric - the ugly but working way (regex did not)\n",
    "df_cleantech_media.content = df_cleantech_media['content'].str.strip('[]\"\\'• ')\n",
    "df_cleantech_media"
   ]
  },
  {
   "cell_type": "markdown",
   "id": "5ddc2e55-b3d6-4b2b-815a-7c063aa7e06a",
   "metadata": {},
   "source": [
    "## Check for duplicates"
   ]
  },
  {
   "cell_type": "code",
   "execution_count": 61,
   "id": "469ece9d-a9d2-492c-8bd8-2b8eebee720f",
   "metadata": {},
   "outputs": [
    {
     "data": {
      "text/html": [
       "<div>\n",
       "<style scoped>\n",
       "    .dataframe tbody tr th:only-of-type {\n",
       "        vertical-align: middle;\n",
       "    }\n",
       "\n",
       "    .dataframe tbody tr th {\n",
       "        vertical-align: top;\n",
       "    }\n",
       "\n",
       "    .dataframe thead th {\n",
       "        text-align: right;\n",
       "    }\n",
       "</style>\n",
       "<table border=\"1\" class=\"dataframe\">\n",
       "  <thead>\n",
       "    <tr style=\"text-align: right;\">\n",
       "      <th></th>\n",
       "      <th>title</th>\n",
       "      <th>date</th>\n",
       "      <th>author</th>\n",
       "      <th>content</th>\n",
       "      <th>domain</th>\n",
       "      <th>url</th>\n",
       "    </tr>\n",
       "  </thead>\n",
       "  <tbody>\n",
       "    <tr>\n",
       "      <th>6685</th>\n",
       "      <td>Indonesia seeks investors for giant geothermal...</td>\n",
       "      <td>2022-12-09</td>\n",
       "      <td>NaN</td>\n",
       "      <td>Indonesia, home to the world’ s largest geothe...</td>\n",
       "      <td>energyvoice</td>\n",
       "      <td>https://www.energyvoice.com/oilandgas/467719/i...</td>\n",
       "    </tr>\n",
       "    <tr>\n",
       "      <th>6689</th>\n",
       "      <td>Indonesia seeks investors for giant geothermal...</td>\n",
       "      <td>2022-12-09</td>\n",
       "      <td>NaN</td>\n",
       "      <td>Indonesia, home to the world’ s largest geothe...</td>\n",
       "      <td>energyvoice</td>\n",
       "      <td>https://sgvoice.energyvoice.com/investing/2002...</td>\n",
       "    </tr>\n",
       "    <tr>\n",
       "      <th>78210</th>\n",
       "      <td>Portugal energy transition plan targets massiv...</td>\n",
       "      <td>2023-07-03</td>\n",
       "      <td>NaN</td>\n",
       "      <td>Portugal has more than doubled its 2030 goals ...</td>\n",
       "      <td>rechargenews</td>\n",
       "      <td>https://www.rechargenews.com/energy-transition...</td>\n",
       "    </tr>\n",
       "    <tr>\n",
       "      <th>78212</th>\n",
       "      <td>Wind, hydrogen and solar fused in Portugal's p...</td>\n",
       "      <td>2023-07-03</td>\n",
       "      <td>NaN</td>\n",
       "      <td>Portugal has more than doubled its 2030 goals ...</td>\n",
       "      <td>rechargenews</td>\n",
       "      <td>https://www.rechargenews.com/energy-transition...</td>\n",
       "    </tr>\n",
       "    <tr>\n",
       "      <th>78215</th>\n",
       "      <td>China's wind giants are chasing global growth:...</td>\n",
       "      <td>2023-07-06</td>\n",
       "      <td>NaN</td>\n",
       "      <td>Geopolitics as much as price or quality will d...</td>\n",
       "      <td>rechargenews</td>\n",
       "      <td>https://www.rechargenews.com/wind/chinas-wind-...</td>\n",
       "    </tr>\n",
       "    <tr>\n",
       "      <th>78216</th>\n",
       "      <td>Why geopolitics will set the limits of China's...</td>\n",
       "      <td>2023-07-06</td>\n",
       "      <td>NaN</td>\n",
       "      <td>Geopolitics as much as price or quality will d...</td>\n",
       "      <td>rechargenews</td>\n",
       "      <td>https://www.rechargenews.com/wind/why-geopolit...</td>\n",
       "    </tr>\n",
       "    <tr>\n",
       "      <th>78225</th>\n",
       "      <td>Quest for endless green energy from Earth's co...</td>\n",
       "      <td>2023-07-17</td>\n",
       "      <td>NaN</td>\n",
       "      <td>One of Japan’ s largest utility groups Chubu E...</td>\n",
       "      <td>rechargenews</td>\n",
       "      <td>https://www.rechargenews.com/energy-transition...</td>\n",
       "    </tr>\n",
       "    <tr>\n",
       "      <th>78227</th>\n",
       "      <td>Limitless green energy from Earth's core quest...</td>\n",
       "      <td>2023-07-17</td>\n",
       "      <td>NaN</td>\n",
       "      <td>One of Japan’ s largest utility groups Chubu E...</td>\n",
       "      <td>rechargenews</td>\n",
       "      <td>https://www.rechargenews.com/news/2-1-1487279</td>\n",
       "    </tr>\n",
       "    <tr>\n",
       "      <th>80067</th>\n",
       "      <td>Sodium-ion battery production capacity to grow...</td>\n",
       "      <td>2023-07-17</td>\n",
       "      <td>NaN</td>\n",
       "      <td>Global demand for sodium-ion batteries is expe...</td>\n",
       "      <td>pv-magazine</td>\n",
       "      <td>https://www.pv-magazine.com/2023/07/17/sodium-...</td>\n",
       "    </tr>\n",
       "    <tr>\n",
       "      <th>80073</th>\n",
       "      <td>Sodium-ion battery fleet to grow to 10 GWh by ...</td>\n",
       "      <td>2023-07-17</td>\n",
       "      <td>NaN</td>\n",
       "      <td>Global demand for sodium-ion batteries is expe...</td>\n",
       "      <td>pv-magazine</td>\n",
       "      <td>https://www.pv-magazine.com/2023/07/17/sodium-...</td>\n",
       "    </tr>\n",
       "  </tbody>\n",
       "</table>\n",
       "</div>"
      ],
      "text/plain": [
       "                                                   title       date author  \\\n",
       "6685   Indonesia seeks investors for giant geothermal... 2022-12-09    NaN   \n",
       "6689   Indonesia seeks investors for giant geothermal... 2022-12-09    NaN   \n",
       "78210  Portugal energy transition plan targets massiv... 2023-07-03    NaN   \n",
       "78212  Wind, hydrogen and solar fused in Portugal's p... 2023-07-03    NaN   \n",
       "78215  China's wind giants are chasing global growth:... 2023-07-06    NaN   \n",
       "78216  Why geopolitics will set the limits of China's... 2023-07-06    NaN   \n",
       "78225  Quest for endless green energy from Earth's co... 2023-07-17    NaN   \n",
       "78227  Limitless green energy from Earth's core quest... 2023-07-17    NaN   \n",
       "80067  Sodium-ion battery production capacity to grow... 2023-07-17    NaN   \n",
       "80073  Sodium-ion battery fleet to grow to 10 GWh by ... 2023-07-17    NaN   \n",
       "\n",
       "                                                 content        domain  \\\n",
       "6685   Indonesia, home to the world’ s largest geothe...   energyvoice   \n",
       "6689   Indonesia, home to the world’ s largest geothe...   energyvoice   \n",
       "78210  Portugal has more than doubled its 2030 goals ...  rechargenews   \n",
       "78212  Portugal has more than doubled its 2030 goals ...  rechargenews   \n",
       "78215  Geopolitics as much as price or quality will d...  rechargenews   \n",
       "78216  Geopolitics as much as price or quality will d...  rechargenews   \n",
       "78225  One of Japan’ s largest utility groups Chubu E...  rechargenews   \n",
       "78227  One of Japan’ s largest utility groups Chubu E...  rechargenews   \n",
       "80067  Global demand for sodium-ion batteries is expe...   pv-magazine   \n",
       "80073  Global demand for sodium-ion batteries is expe...   pv-magazine   \n",
       "\n",
       "                                                     url  \n",
       "6685   https://www.energyvoice.com/oilandgas/467719/i...  \n",
       "6689   https://sgvoice.energyvoice.com/investing/2002...  \n",
       "78210  https://www.rechargenews.com/energy-transition...  \n",
       "78212  https://www.rechargenews.com/energy-transition...  \n",
       "78215  https://www.rechargenews.com/wind/chinas-wind-...  \n",
       "78216  https://www.rechargenews.com/wind/why-geopolit...  \n",
       "78225  https://www.rechargenews.com/energy-transition...  \n",
       "78227      https://www.rechargenews.com/news/2-1-1487279  \n",
       "80067  https://www.pv-magazine.com/2023/07/17/sodium-...  \n",
       "80073  https://www.pv-magazine.com/2023/07/17/sodium-...  "
      ]
     },
     "execution_count": 61,
     "metadata": {},
     "output_type": "execute_result"
    }
   ],
   "source": [
    "# content is propably the most important column, we check its contents\n",
    "df_cleantech_media[df_cleantech_media.duplicated(subset=['content'], keep=False)]"
   ]
  },
  {
   "cell_type": "code",
   "execution_count": 62,
   "id": "8f6821f2-e312-4726-8b4a-d0b5f53ebf1b",
   "metadata": {},
   "outputs": [
    {
     "data": {
      "text/plain": [
       "(9588, 6)"
      ]
     },
     "execution_count": 62,
     "metadata": {},
     "output_type": "execute_result"
    }
   ],
   "source": [
    "# drop the five duplicates found before\n",
    "df_cleantech_media.drop_duplicates(subset=['content'], inplace=True)\n",
    "df_cleantech_media.shape"
   ]
  },
  {
   "cell_type": "markdown",
   "id": "dfe88a79-3ff4-4689-bbad-3ee301c3eaef",
   "metadata": {},
   "source": [
    "# First Overview"
   ]
  },
  {
   "cell_type": "code",
   "execution_count": 63,
   "id": "2837358d-be93-4d87-9bf1-ea13f9b646bd",
   "metadata": {},
   "outputs": [],
   "source": [
    "import seaborn as sns\n",
    "import matplotlib.pyplot as plt"
   ]
  },
  {
   "cell_type": "code",
   "execution_count": 64,
   "id": "78804aff-272a-465b-bbc2-a89d9afc3307",
   "metadata": {},
   "outputs": [
    {
     "data": {
      "image/png": "[encoded data removed]",
      "text/plain": [
       "<Figure size 640x480 with 1 Axes>"
      ]
     },
     "metadata": {},
     "output_type": "display_data"
    }
   ],
   "source": [
    "sns.countplot(\n",
    "    df_cleantech_media, \n",
    "    y=\"domain\", \n",
    "    order=df_cleantech_media['domain'].value_counts().index)\n",
    "\n",
    "plt.title(\"Which domain contributes the most articles?\")\n",
    "plt.xlabel(\"# of articles\")\n",
    "plt.ylabel(\"\")\n",
    "plt.show()"
   ]
  },
  {
   "cell_type": "markdown",
   "id": "574bd0ce-ceec-40c1-a1d7-64e2192b4f0f",
   "metadata": {},
   "source": [
    "Before when checking for the trailing characters I saw some \"all rights reserved\". So I wanted to know which fraction of articles is meant to be \"protected\" by their writers."
   ]
  },
  {
   "cell_type": "code",
   "execution_count": 65,
   "id": "93c63172-0a70-4746-8c39-1817b7fcc6cf",
   "metadata": {},
   "outputs": [
    {
     "data": {
      "image/png": "[encoded data removed]",
      "text/plain": [
       "<Figure size 640x480 with 1 Axes>"
      ]
     },
     "metadata": {},
     "output_type": "display_data"
    }
   ],
   "source": [
    "df_plot = df_cleantech_media[['content']].copy()\n",
    "df_plot['contains_rights_reserved'] = df_plot.content.str.lower().str.contains('all rights reserved')\n",
    "sns.countplot(\n",
    "    df_plot, \n",
    "    x=\"contains_rights_reserved\", \n",
    "    hue=\"contains_rights_reserved\",\n",
    "    legend=False\n",
    ")\n",
    "\n",
    "plt.xlabel(\"\")\n",
    "plt.ylabel(\"\")\n",
    "plt.title(\"Which fraction of articles contains the phrase 'All rights reserved'?\");"
   ]
  },
  {
   "cell_type": "markdown",
   "id": "d3c7921c-c395-419d-8b38-96017e4b2207",
   "metadata": {},
   "source": [
    "The question remains: should these be in a public dataset? Should we use these for research?"
   ]
  },
  {
   "cell_type": "markdown",
   "id": "68678290-b757-4320-b20c-a3776f28abb6",
   "metadata": {},
   "source": [
    "# Text preprocessing"
   ]
  },
  {
   "cell_type": "code",
   "execution_count": 66,
   "id": "00e445e5-4b07-4684-8d3d-6f610eed7095",
   "metadata": {},
   "outputs": [],
   "source": [
    "import re\n",
    "import nltk\n"
   ]
  },
  {
   "cell_type": "markdown",
   "id": "ce8b8c94",
   "metadata": {},
   "source": [
    "## Newlines, spaces and tabs removal <a name=\"spaces-rmvl\"></a>"
   ]
  },
  {
   "cell_type": "code",
   "execution_count": 67,
   "id": "51fbce03",
   "metadata": {},
   "outputs": [],
   "source": [
    "# Function to remove the numbers in a column\n",
    "def remove_whitespace(text):\n",
    "    re_numbers = re.sub('[\\t\\n\\r\\f ]+', ' ', text)\n",
    "    return re_numbers\n",
    "\n",
    "# Remove the whitespaces in the abstract column\n",
    "df_cleantech_media.loc[:, \"content\"] = df_cleantech_media[\"content\"].apply(remove_whitespace)"
   ]
  },
  {
   "cell_type": "markdown",
   "id": "9c0e836f",
   "metadata": {},
   "source": [
    "# Remove numbers"
   ]
  },
  {
   "cell_type": "code",
   "execution_count": 68,
   "id": "c38324b9",
   "metadata": {},
   "outputs": [],
   "source": [
    "# Function to remove the numbers in a column\n",
    "def remove_numbers(text):\n",
    "    re_numbers = re.sub(r'\\d+', '', text)\n",
    "    return re_numbers\n",
    "\n",
    "# Remove the numbers in the abstract column\n",
    "df_cleantech_media.loc[:, \"token_content\"] = df_cleantech_media[\"content\"].apply(remove_numbers)"
   ]
  },
  {
   "cell_type": "markdown",
   "id": "da78ae0d",
   "metadata": {},
   "source": [
    "# Tokenize Words"
   ]
  },
  {
   "cell_type": "code",
   "execution_count": 69,
   "id": "aa758210",
   "metadata": {},
   "outputs": [
    {
     "data": {
      "text/plain": [
       "1280     Qatar Petroleum ( QP) is targeting aggressive ...\n",
       "1281     Nuclear Power Corp. of India Ltd. ( NPCIL) syn...\n",
       "1283     New US President Joe Biden took office this we...\n",
       "1284     The slow pace of Japanese reactor restarts con...\n",
       "1285     Two of New York City's largest pension funds s...\n",
       "                               ...                        \n",
       "81812    Strata Clean Energy has closed a $ 300 million...\n",
       "81813    Global renewable energy developer Ørsted is de...\n",
       "81814    Veolia North America, a provider of environmen...\n",
       "81815    Once the self-proclaimed “ leading renewable p...\n",
       "81816    Arevon Energy Inc. has closed financing on the...\n",
       "Name: content, Length: 9588, dtype: object"
      ]
     },
     "execution_count": 69,
     "metadata": {},
     "output_type": "execute_result"
    }
   ],
   "source": [
    "type(df_cleantech_media[\"content\"])\n",
    "df_cleantech_media[\"content\"]"
   ]
  },
  {
   "cell_type": "code",
   "execution_count": 70,
   "id": "342bf0c2",
   "metadata": {},
   "outputs": [
    {
     "data": {
      "text/plain": [
       "1280     [Qatar, Petroleum, QP, is, targeting, aggressi...\n",
       "1281     [Nuclear, Power, Corp, of, India, Ltd, NPCIL, ...\n",
       "1283     [New, US, President, Joe, Biden, took, office,...\n",
       "1284     [The, slow, pace, of, Japanese, reactor, resta...\n",
       "1285     [Two, of, New, York, City, s, largest, pension...\n",
       "                               ...                        \n",
       "81812    [Strata, Clean, Energy, has, closed, a, millio...\n",
       "81813    [Global, renewable, energy, developer, Ørsted,...\n",
       "81814    [Veolia, North, America, a, provider, of, envi...\n",
       "81815    [Once, the, self, proclaimed, leading, renewab...\n",
       "81816    [Arevon, Energy, Inc, has, closed, financing, ...\n",
       "Name: token_content, Length: 9588, dtype: object"
      ]
     },
     "execution_count": 70,
     "metadata": {},
     "output_type": "execute_result"
    }
   ],
   "source": [
    "# Function to clean and extract data\n",
    "def tokenize_column(data):\n",
    "    # Split the data based on the pattern '(extra_info)'\n",
    "    re_tokens = re.findall('[\\w]+', data)\n",
    "    # Return the first part, which is the cleaned data\n",
    "    return re_tokens\n",
    "\n",
    "df_cleantech_media[\"token_content\"] = df_cleantech_media[\"token_content\"].apply(tokenize_column)\n",
    "\n",
    "df_cleantech_media[\"token_content\"]"
   ]
  },
  {
   "cell_type": "markdown",
   "id": "1f679d0a",
   "metadata": {},
   "source": [
    "# Stopwords Removal"
   ]
  },
  {
   "cell_type": "code",
   "execution_count": 71,
   "id": "0960aa2a",
   "metadata": {},
   "outputs": [
    {
     "name": "stderr",
     "output_type": "stream",
     "text": [
      "[nltk_data] Downloading package stopwords to\n",
      "[nltk_data]     C:\\Users\\Viktor\\AppData\\Roaming\\nltk_data...\n",
      "[nltk_data]   Package stopwords is already up-to-date!\n"
     ]
    },
    {
     "name": "stdout",
     "output_type": "stream",
     "text": [
      "9588 1280     [Qatar, Petroleum, QP, targeting, aggressive, ...\n",
      "1281     [Nuclear, Power, Corp, India, Ltd, NPCIL, sync...\n",
      "1283     [New, US, President, Joe, Biden, took, office,...\n",
      "1284     [slow, pace, Japanese, reactor, restarts, cont...\n",
      "1285     [Two, New, York, City, largest, pension, funds...\n",
      "                               ...                        \n",
      "81812    [Strata, Clean, Energy, closed, million, revol...\n",
      "81813    [Global, renewable, energy, developer, Ørsted,...\n",
      "81814    [Veolia, North, America, provider, environment...\n",
      "81815    [self, proclaimed, leading, renewable, power, ...\n",
      "81816    [Arevon, Energy, Inc, closed, financing, Vikin...\n",
      "Name: token_content, Length: 9588, dtype: object\n"
     ]
    }
   ],
   "source": [
    "from nltk.corpus import stopwords\n",
    "nltk.download('stopwords')\n",
    "\n",
    "stop_words_nltk = stopwords.words('english')\n",
    "\n",
    "# Function to remove the stopwords\n",
    "def stopwords_removal(data):\n",
    "    # Split the data based on the pattern '(extra_info)'\n",
    "    filtered_stopwords = []\n",
    "    for word in data:\n",
    "        if word.lower() not in stop_words_nltk:\n",
    "            filtered_stopwords.append(word)\n",
    "        else:\n",
    "            pass\n",
    "\n",
    "    return filtered_stopwords\n",
    "\n",
    "# Apply stopwords removal function to the 'content' column\n",
    "df_cleantech_media[\"token_content\"] = df_cleantech_media[\"token_content\"].apply(stopwords_removal)\n",
    "\n",
    "print(len(df_cleantech_media[\"token_content\"] ), df_cleantech_media[\"token_content\"] )"
   ]
  },
  {
   "cell_type": "markdown",
   "id": "1f9c050c",
   "metadata": {},
   "source": [
    "# Lemmatization"
   ]
  },
  {
   "cell_type": "code",
   "execution_count": 72,
   "id": "a035cc02",
   "metadata": {},
   "outputs": [
    {
     "name": "stderr",
     "output_type": "stream",
     "text": [
      "[nltk_data] Downloading package wordnet to\n",
      "[nltk_data]     C:\\Users\\Viktor\\AppData\\Roaming\\nltk_data...\n",
      "[nltk_data]   Package wordnet is already up-to-date!\n",
      "[nltk_data] Downloading package omw-1.4 to\n",
      "[nltk_data]     C:\\Users\\Viktor\\AppData\\Roaming\\nltk_data...\n",
      "[nltk_data]   Package omw-1.4 is already up-to-date!\n"
     ]
    },
    {
     "name": "stdout",
     "output_type": "stream",
     "text": [
      "1280     [Qatar, Petroleum, QP, targeting, aggressive, ...\n",
      "1281     [Nuclear, Power, Corp, India, Ltd, NPCIL, sync...\n",
      "1283     [New, US, President, Joe, Biden, took, office,...\n",
      "1284     [slow, pace, Japanese, reactor, restarts, cont...\n",
      "1285     [Two, New, York, City, largest, pension, fund,...\n",
      "                               ...                        \n",
      "81812    [Strata, Clean, Energy, closed, million, revol...\n",
      "81813    [Global, renewable, energy, developer, Ørsted,...\n",
      "81814    [Veolia, North, America, provider, environment...\n",
      "81815    [self, proclaimed, leading, renewable, power, ...\n",
      "81816    [Arevon, Energy, Inc, closed, financing, Vikin...\n",
      "Name: token_content, Length: 9588, dtype: object\n"
     ]
    }
   ],
   "source": [
    "from nltk.stem import WordNetLemmatizer\n",
    "nltk.download('wordnet')\n",
    "nltk.download('omw-1.4')\n",
    "\n",
    "# Initialize lemmatizer\n",
    "nltk_lemmatizer = WordNetLemmatizer()\n",
    "\n",
    "# Function to lemmatize\n",
    "def lemmatize_tokens(tokens):\n",
    "    lemmatized_tokens = [nltk_lemmatizer.lemmatize(w) for w in tokens]\n",
    "    return lemmatized_tokens\n",
    "\n",
    "df_cleantech_media[\"token_content\"] = df_cleantech_media[\"token_content\"].apply(lemmatize_tokens)\n",
    "\n",
    "# Display the DataFrame\n",
    "print(df_cleantech_media[\"token_content\"])"
   ]
  },
  {
   "cell_type": "code",
   "execution_count": 73,
   "id": "a8e7b198",
   "metadata": {},
   "outputs": [
    {
     "name": "stdout",
     "output_type": "stream",
     "text": [
      "['Qatar', 'Petroleum', 'QP', 'targeting', 'aggressive', 'cut', 'greenhouse', 'gas', 'emission', 'prepares', 'launch', 'Phase', 'planned', 'million', 'ton', 'per', 'year', 'LNG', 'expansion', 'latest', 'Sustainability', 'Report', 'published', 'Wednesday', 'QP', 'said', 'goal', 'include', 'reducing', 'emission', 'intensity', 'Qatar', 'LNG', 'facility', 'upstream', 'facility', 'least', 'company', 'also', 'aiming', 'reduce', 'gas', 'flaring', 'intensity', 'across', 'upstream', 'facility', 'raised', 'carbon', 'capture', 'storage', 'ambition', 'million', 'ton', 'yr', 'million', 'ton', 'yr', 'million', 'ton', 'yr', 'carbon', 'capture', 'goal', 'come', 'million', 'ton', 'yr', 'Phase', 'LNG', 'expansion', 'also', 'known', 'North', 'Field', 'East', 'project', 'million', 'ton', 'yr', 'come', 'Phase', 'known', 'North', 'Field', 'South', 'project', 'raise', 'Qatar', 'LNG', 'capacity', 'million', 'ton', 'yr', 'Qatar', 'currently', 'LNG', 'production', 'capacity', 'around', 'million', 'ton', 'yr', 'eyeing', 'phased', 'expansion', 'million', 'ton', 'yr', 'QP', 'say', 'able', 'eliminate', 'routine', 'gas', 'flaring', 'methane', 'emission', 'limited', 'setting', 'methane', 'intensity', 'target', 'across', 'facility', 'company', 'also', 'plan', 'build', 'gigawatts', 'solar', 'energy', 'capacity', 'half', 'come', 'Siraj', 'solar', 'power', 'project', 'next', 'year', 'EIF', 'Jan', 'month', 'little', 'news', 'Phase', 'Qatar', 'massive', 'LNG', 'expansion', 'McDermott', 'International', 'said', 'last', 'week', 'awarded', 'front', 'end', 'engineering', 'design', 'contract', 'five', 'offshore', 'wellhead', 'platform', 'LNGI', 'Jan', 'Bids', 'construction', 'four', 'train', 'Phase', 'LNG', 'expansion', 'submitted', 'September', 'LNGI', 'Sep', 'QP', 'judged', 'expensive', 'none', 'met', 'targeted', 'week', 'construction', 'schedule', 'Shortlisted', 'contractor', 'asked', 'look', 'cost', 'saving', 'submit', 'new', 'bid', 'contract', 'consultancy', 'Rystad', 'estimate', 'worth', 'around', 'billion', 'expected', 'awarded', 'Mar', 'Shortly', 'construction', 'contract', 'awarded', 'QP', 'expected', 'select', 'foreign', 'investment', 'partner', 'take', 'stake', 'Phase', 'train', 'Exxon', 'Mobil', 'Royal', 'Dutch', 'Shell', 'Total', 'Chevron', 'ConocoPhillips', 'Eni', 'shortlisted', 'QP', 'repeatedly', 'said', 'prepared', 'proceed', 'without', 'international', 'investment', 'partner', 'determines', 'offer', 'receives', 'sufficiently', 'attractive', 'shortlisted', 'company', 'expected', 'bid', 'aggressively', 'expected', 'world', 'lowest', 'cost', 'environmentally', 'friendly', 'LNG', 'LNGI', 'Nov', 'Rafiq', 'Latta', 'Nicosia']\n"
     ]
    }
   ],
   "source": [
    "print(df_cleantech_media[\"token_content\"].iloc[0])"
   ]
  },
  {
   "cell_type": "markdown",
   "id": "0af6772c",
   "metadata": {},
   "source": [
    "# Adding Pos Tags"
   ]
  },
  {
   "cell_type": "code",
   "execution_count": 74,
   "id": "01196771",
   "metadata": {},
   "outputs": [
    {
     "name": "stderr",
     "output_type": "stream",
     "text": [
      "[nltk_data] Downloading package averaged_perceptron_tagger to\n",
      "[nltk_data]     C:\\Users\\Viktor\\AppData\\Roaming\\nltk_data...\n",
      "[nltk_data]   Package averaged_perceptron_tagger is already up-to-\n",
      "[nltk_data]       date!\n"
     ]
    },
    {
     "name": "stdout",
     "output_type": "stream",
     "text": [
      "1280     [Qatar, Petroleum, QP, target, aggressive, cut...\n",
      "1281     [Nuclear, Power, Corp, India, Ltd, NPCIL, sync...\n",
      "1283     [New, US, President, Joe, Biden, take, office,...\n",
      "1284     [slow, pace, Japanese, reactor, restarts, cont...\n",
      "1285     [Two, New, York, City, large, pension, fund, s...\n",
      "                               ...                        \n",
      "81812    [Strata, Clean, Energy, close, million, revolv...\n",
      "81813    [Global, renewable, energy, developer, Ørsted,...\n",
      "81814    [Veolia, North, America, provider, environment...\n",
      "81815    [self, proclaim, lead, renewable, power, plant...\n",
      "81816    [Arevon, Energy, Inc, close, financing, Viking...\n",
      "Name: token_content, Length: 9588, dtype: object\n"
     ]
    }
   ],
   "source": [
    "from nltk.corpus import wordnet as wn\n",
    "from nltk import pos_tag\n",
    "from collections import defaultdict\n",
    "\n",
    "# Download NLTK resources\n",
    "nltk.download('averaged_perceptron_tagger')\n",
    "\n",
    "# Initialize default tag mapping\n",
    "tag_map_nltk = defaultdict(lambda : wn.NOUN)\n",
    "tag_map_nltk['J'] = wn.ADJ\n",
    "tag_map_nltk['V'] = wn.VERB\n",
    "tag_map_nltk['R'] = wn.ADV\n",
    "\n",
    "# Function to lemmatize tokens with POS tagging\n",
    "def adding_pos_tags(tokens):\n",
    "    nltk_lemmatizer = nltk.WordNetLemmatizer()\n",
    "    pos_tags = pos_tag(tokens)\n",
    "    lemmatized_tokens = [nltk_lemmatizer.lemmatize(token, tag_map_nltk[tag[0]]) for token, tag in pos_tags]\n",
    "    return lemmatized_tokens\n",
    "\n",
    "df_cleantech_media[\"token_content\"] = df_cleantech_media[\"token_content\"].apply(adding_pos_tags)\n",
    "\n",
    "# Display the DataFrame\n",
    "print(df_cleantech_media[\"token_content\"])"
   ]
  },
  {
   "cell_type": "markdown",
   "id": "6b3187aa",
   "metadata": {},
   "source": [
    "# Stemming"
   ]
  },
  {
   "cell_type": "code",
   "execution_count": 75,
   "id": "a4f3fa25",
   "metadata": {},
   "outputs": [
    {
     "name": "stdout",
     "output_type": "stream",
     "text": [
      "1280     [qatar, petroleum, qp, target, aggress, cut, g...\n",
      "1281     [nuclear, power, corp, india, ltd, npcil, sync...\n",
      "1283     [new, us, presid, joe, biden, take, offic, wee...\n",
      "1284     [slow, pace, japanes, reactor, restart, contin...\n",
      "1285     [two, new, york, citi, larg, pension, fund, sa...\n",
      "                               ...                        \n",
      "81812    [strata, clean, energi, close, million, revolv...\n",
      "81813    [global, renew, energi, develop, ørsted, deplo...\n",
      "81814    [veolia, north, america, provid, environment, ...\n",
      "81815    [self, proclaim, lead, renew, power, plant, de...\n",
      "81816    [arevon, energi, inc, close, financ, vike, sol...\n",
      "Name: token_content, Length: 9588, dtype: object\n"
     ]
    }
   ],
   "source": [
    "from nltk.stem import PorterStemmer\n",
    "\n",
    "# Initialize Porter Stemmer\n",
    "ps = PorterStemmer()\n",
    "\n",
    "# Function to stem tokens\n",
    "def stem_tokens(tokens):\n",
    "    stemmed_tokens = [ps.stem(w) for w in tokens]\n",
    "    return stemmed_tokens\n",
    "\n",
    "df_cleantech_media[\"token_content\"] = df_cleantech_media[\"token_content\"].apply(stem_tokens)\n",
    "\n",
    "# Display the DataFrame\n",
    "print(df_cleantech_media[\"token_content\"])"
   ]
  },
  {
   "cell_type": "code",
   "execution_count": 76,
   "id": "d201b0e3",
   "metadata": {},
   "outputs": [
    {
     "name": "stdout",
     "output_type": "stream",
     "text": [
      "['qatar', 'petroleum', 'qp', 'target', 'aggress', 'cut', 'greenhous', 'ga', 'emiss', 'prepar', 'launch', 'phase', 'plan', 'million', 'ton', 'per', 'year', 'lng', 'expans', 'late', 'sustain', 'report', 'publish', 'wednesday', 'qp', 'say', 'goal', 'includ', 'reduc', 'emiss', 'intens', 'qatar', 'lng', 'facil', 'upstream', 'facil', 'least', 'compani', 'also', 'aim', 'reduc', 'ga', 'flare', 'intens', 'across', 'upstream', 'facil', 'rais', 'carbon', 'captur', 'storag', 'ambit', 'million', 'ton', 'yr', 'million', 'ton', 'yr', 'million', 'ton', 'yr', 'carbon', 'captur', 'goal', 'come', 'million', 'ton', 'yr', 'phase', 'lng', 'expans', 'also', 'know', 'north', 'field', 'east', 'project', 'million', 'ton', 'yr', 'come', 'phase', 'known', 'north', 'field', 'south', 'project', 'rais', 'qatar', 'lng', 'capac', 'million', 'ton', 'yr', 'qatar', 'current', 'lng', 'product', 'capac', 'around', 'million', 'ton', 'yr', 'eye', 'phase', 'expans', 'million', 'ton', 'yr', 'qp', 'say', 'abl', 'elimin', 'routin', 'ga', 'flare', 'methan', 'emiss', 'limit', 'set', 'methan', 'intens', 'target', 'across', 'facil', 'compani', 'also', 'plan', 'build', 'gigawatt', 'solar', 'energi', 'capac', 'half', 'come', 'siraj', 'solar', 'power', 'project', 'next', 'year', 'eif', 'jan', 'month', 'littl', 'news', 'phase', 'qatar', 'massiv', 'lng', 'expans', 'mcdermott', 'intern', 'say', 'last', 'week', 'award', 'front', 'end', 'engin', 'design', 'contract', 'five', 'offshor', 'wellhead', 'platform', 'lngi', 'jan', 'bid', 'construct', 'four', 'train', 'phase', 'lng', 'expans', 'submit', 'septemb', 'lngi', 'sep', 'qp', 'judg', 'expens', 'none', 'meet', 'target', 'week', 'construct', 'schedul', 'shortlist', 'contractor', 'ask', 'look', 'cost', 'save', 'submit', 'new', 'bid', 'contract', 'consult', 'rystad', 'estim', 'worth', 'around', 'billion', 'expect', 'award', 'mar', 'shortli', 'construct', 'contract', 'award', 'qp', 'expect', 'select', 'foreign', 'invest', 'partner', 'take', 'stake', 'phase', 'train', 'exxon', 'mobil', 'royal', 'dutch', 'shell', 'total', 'chevron', 'conocophillip', 'eni', 'shortlist', 'qp', 'repeatedli', 'say', 'prepar', 'proceed', 'without', 'intern', 'invest', 'partner', 'determin', 'offer', 'receiv', 'suffici', 'attract', 'shortlist', 'compani', 'expect', 'bid', 'aggress', 'expect', 'world', 'low', 'cost', 'environment', 'friendli', 'lng', 'lngi', 'nov', 'rafiq', 'latta', 'nicosia']\n"
     ]
    }
   ],
   "source": [
    "print(df_cleantech_media[\"token_content\"].iloc[0])"
   ]
  },
  {
   "cell_type": "markdown",
   "id": "a8891acb",
   "metadata": {},
   "source": [
    "# Write to disk"
   ]
  },
  {
   "cell_type": "code",
   "execution_count": 77,
   "id": "30dfb009",
   "metadata": {},
   "outputs": [
    {
     "name": "stdout",
     "output_type": "stream",
     "text": [
      "<class 'pandas.core.frame.DataFrame'>\n",
      "Index: 9588 entries, 1280 to 81816\n",
      "Data columns (total 7 columns):\n",
      " #   Column         Non-Null Count  Dtype         \n",
      "---  ------         --------------  -----         \n",
      " 0   title          9588 non-null   object        \n",
      " 1   date           9588 non-null   datetime64[ns]\n",
      " 2   author         31 non-null     object        \n",
      " 3   content        9588 non-null   object        \n",
      " 4   domain         9588 non-null   object        \n",
      " 5   url            9588 non-null   object        \n",
      " 6   token_content  9588 non-null   object        \n",
      "dtypes: datetime64[ns](1), object(6)\n",
      "memory usage: 599.2+ KB\n"
     ]
    }
   ],
   "source": [
    "df_cleantech_media.info()"
   ]
  },
  {
   "cell_type": "code",
   "execution_count": 78,
   "id": "1005e3aa",
   "metadata": {},
   "outputs": [],
   "source": [
    "df_cleantech_media.to_csv('../data/cleantech-media.csv', index=False)"
   ]
  }
 ],
 "metadata": {
  "kernelspec": {
   "display_name": "Python 3 (ipykernel)",
   "language": "python",
   "name": "python3"
  },
  "language_info": {
   "codemirror_mode": {
    "name": "ipython",
    "version": 3
   },
   "file_extension": ".py",
   "mimetype": "text/x-python",
   "name": "python",
   "nbconvert_exporter": "python",
   "pygments_lexer": "ipython3",
   "version": "3.9.13"
  }
 },
 "nbformat": 4,
 "nbformat_minor": 5
}
