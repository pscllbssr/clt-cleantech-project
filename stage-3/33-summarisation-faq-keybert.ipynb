{
 "cells": [
  {
   "cell_type": "code",
   "execution_count": 24,
   "id": "8d10d3bf-22e0-4ec0-9528-4bf2722c1479",
   "metadata": {},
   "outputs": [
    {
     "name": "stdout",
     "output_type": "stream",
     "text": [
      "Collecting more-itertools\n",
      "  Using cached more_itertools-10.2.0-py3-none-any.whl (57 kB)\n",
      "Installing collected packages: more-itertools\n",
      "Successfully installed more-itertools-10.2.0\n",
      "\u001b[33mWARNING: You are using pip version 22.0.4; however, version 24.0 is available.\n",
      "You should consider upgrading via the '/Users/pascal/1_code/master_ids/clt-cleantech-project/venv/bin/python3 -m pip install --upgrade pip' command.\u001b[0m\u001b[33m\n",
      "\u001b[0m"
     ]
    }
   ],
   "source": [
    "!pip install more-itertools"
   ]
  },
  {
   "cell_type": "code",
   "execution_count": 25,
   "id": "d2855f55-83ba-4002-9139-1ce58f3a0be6",
   "metadata": {},
   "outputs": [],
   "source": [
    "from summarizer import Summarizer\n",
    "from tqdm import tqdm\n",
    "from more_itertools import chunked"
   ]
  },
  {
   "cell_type": "markdown",
   "id": "35c07089-3806-44ec-8078-2c54dfe861b1",
   "metadata": {},
   "source": [
    "# Load Data"
   ]
  },
  {
   "cell_type": "code",
   "execution_count": 18,
   "id": "de3692b2-b563-4a75-885e-d6491b303126",
   "metadata": {},
   "outputs": [
    {
     "data": {
      "text/plain": [
       "'Disclosed is an adaptable DC-AC inverter system and its operation. The disclosed system is suited for solar energy harvesting in grid-connected or off-grid modes of operation.\\nIn accordance with an ex'"
      ]
     },
     "execution_count": 18,
     "metadata": {},
     "output_type": "execute_result"
    }
   ],
   "source": [
    "with open('../data/patent_summaries.txt', 'r') as f:\n",
    "    patent_summaries = f.read()\n",
    "\n",
    "patent_summaries[:200]"
   ]
  },
  {
   "cell_type": "code",
   "execution_count": 14,
   "id": "cbe43987-f47d-4ab2-aca6-71b475ff03ed",
   "metadata": {},
   "outputs": [
    {
     "data": {
      "text/plain": [
       "4233993"
      ]
     },
     "execution_count": 14,
     "metadata": {},
     "output_type": "execute_result"
    }
   ],
   "source": [
    "len(patent_summaries)"
   ]
  },
  {
   "cell_type": "markdown",
   "id": "bed087f9-759f-4c66-b63c-d3f7871c8dad",
   "metadata": {},
   "source": [
    "# Summarise patent dataset\n",
    "\n",
    "The documents are still quite big and not summarisable in one go, due to constraints of KeyBERT (and memory size). Therefore we extract one key sentence for every 99'999 chars. Of course, we are assuming here the content of all chunks is equally important and we can summarise them in one sentence. So this approach might be a bit gross but it is very practical, we just need to keep in mind our assumption."
   ]
  },
  {
   "cell_type": "code",
   "execution_count": 5,
   "id": "0e6413f5-db0c-43d7-b722-99bc2883f170",
   "metadata": {},
   "outputs": [],
   "source": [
    "SumModel = Summarizer()"
   ]
  },
  {
   "cell_type": "code",
   "execution_count": 31,
   "id": "5ed9d24f-fea7-48de-8b46-e5150cd00adb",
   "metadata": {},
   "outputs": [
    {
     "name": "stderr",
     "output_type": "stream",
     "text": [
      "43it [37:33, 52.40s/it]\n"
     ]
    }
   ],
   "source": [
    "BATCH_SIZE = 99999\n",
    "patent_summary = []\n",
    "\n",
    "def process_batch(substring, num_sentences=2):\n",
    "    return SumModel(substring, num_sentences=num_sentences)\n",
    "\n",
    "def chunk_string(string, chunk_size):\n",
    "    for i in range(0, len(string), chunk_size):\n",
    "        yield string[i:i + chunk_size]\n",
    "\n",
    "for chunk in tqdm(chunk_string(patent_summaries, BATCH_SIZE)):\n",
    "    summary = process_batch(chunk, num_sentences=1)\n",
    "    patent_summary.append(summary)"
   ]
  },
  {
   "cell_type": "code",
   "execution_count": 35,
   "id": "7e3d6d80-4ad9-4491-a316-08eec21e4fb7",
   "metadata": {},
   "outputs": [
    {
     "data": {
      "text/plain": [
       "43"
      ]
     },
     "execution_count": 35,
     "metadata": {},
     "output_type": "execute_result"
    }
   ],
   "source": [
    "len(patent_summary)"
   ]
  },
  {
   "cell_type": "markdown",
   "id": "4d9f64b9-c3c9-42c3-bf9c-ce2d0e4f10d2",
   "metadata": {},
   "source": [
    "# Write to disk"
   ]
  },
  {
   "cell_type": "code",
   "execution_count": 36,
   "id": "1aef9b60-b2e1-4616-a3a6-42deb1e642f8",
   "metadata": {},
   "outputs": [],
   "source": [
    "with open('../data/patent_summary.txt', 'w') as file:\n",
    "  for summary in patent_summary:\n",
    "            file.write(f\"{summary}\\n\")"
   ]
  },
  {
   "cell_type": "markdown",
   "id": "f3ca5421-1217-4343-be8d-8cdfa7e5f9ce",
   "metadata": {},
   "source": [
    "Author: Pascal Albisser"
   ]
  },
  {
   "cell_type": "code",
   "execution_count": null,
   "id": "79f1b895-3e94-446d-bc36-7d85a28609e8",
   "metadata": {},
   "outputs": [],
   "source": []
  }
 ],
 "metadata": {
  "kernelspec": {
   "display_name": "Python 3 (ipykernel)",
   "language": "python",
   "name": "python3"
  },
  "language_info": {
   "codemirror_mode": {
    "name": "ipython",
    "version": 3
   },
   "file_extension": ".py",
   "mimetype": "text/x-python",
   "name": "python",
   "nbconvert_exporter": "python",
   "pygments_lexer": "ipython3",
   "version": "3.9.13"
  }
 },
 "nbformat": 4,
 "nbformat_minor": 5
}
