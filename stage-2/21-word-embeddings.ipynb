{
 "cells": [
  {
   "cell_type": "code",
   "execution_count": 84,
   "metadata": {},
   "outputs": [],
   "source": [
    "import pandas as pd\n",
    "from ast import literal_eval\n",
    "import nltk\n",
    "import re\n",
    "from gensim.models import Word2Vec\n",
    "from sklearn.manifold import TSNE\n",
    "import numpy as np\n",
    "import matplotlib.pyplot as plt\n",
    "from collections import Counter"
   ]
  },
  {
   "cell_type": "code",
   "execution_count": 4,
   "metadata": {},
   "outputs": [
    {
     "name": "stdout",
     "output_type": "stream",
     "text": [
      "scipy==1.10.1\n"
     ]
    }
   ],
   "source": [
    "!pip freeze | grep scipy"
   ]
  },
  {
   "cell_type": "markdown",
   "metadata": {},
   "source": [
    "# Load Datasets\n",
    "\n",
    "We load the preprocessed datasets. Make sure to run the previous notebooks first, so the files are present."
   ]
  },
  {
   "cell_type": "markdown",
   "metadata": {},
   "source": [
    "## media"
   ]
  },
  {
   "cell_type": "code",
   "execution_count": 5,
   "metadata": {},
   "outputs": [
    {
     "name": "stdout",
     "output_type": "stream",
     "text": [
      "<class 'pandas.core.frame.DataFrame'>\n",
      "RangeIndex: 9588 entries, 0 to 9587\n",
      "Data columns (total 7 columns):\n",
      " #   Column         Non-Null Count  Dtype         \n",
      "---  ------         --------------  -----         \n",
      " 0   title          9588 non-null   object        \n",
      " 1   date           9588 non-null   datetime64[ns]\n",
      " 2   author         31 non-null     object        \n",
      " 3   content        9588 non-null   object        \n",
      " 4   domain         9588 non-null   object        \n",
      " 5   url            9588 non-null   object        \n",
      " 6   token_content  9588 non-null   object        \n",
      "dtypes: datetime64[ns](1), object(6)\n",
      "memory usage: 524.5+ KB\n"
     ]
    }
   ],
   "source": [
    "df_media = pd.read_csv('../data/cleantech-media.csv', converters={\"token_content\": literal_eval}, parse_dates=['date'])\n",
    "df_media.info()"
   ]
  },
  {
   "cell_type": "code",
   "execution_count": 6,
   "metadata": {},
   "outputs": [
    {
     "data": {
      "text/html": [
       "<div>\n",
       "<style scoped>\n",
       "    .dataframe tbody tr th:only-of-type {\n",
       "        vertical-align: middle;\n",
       "    }\n",
       "\n",
       "    .dataframe tbody tr th {\n",
       "        vertical-align: top;\n",
       "    }\n",
       "\n",
       "    .dataframe thead th {\n",
       "        text-align: right;\n",
       "    }\n",
       "</style>\n",
       "<table border=\"1\" class=\"dataframe\">\n",
       "  <thead>\n",
       "    <tr style=\"text-align: right;\">\n",
       "      <th></th>\n",
       "      <th>title</th>\n",
       "      <th>date</th>\n",
       "      <th>author</th>\n",
       "      <th>content</th>\n",
       "      <th>domain</th>\n",
       "      <th>url</th>\n",
       "      <th>token_content</th>\n",
       "    </tr>\n",
       "  </thead>\n",
       "  <tbody>\n",
       "    <tr>\n",
       "      <th>0</th>\n",
       "      <td>Qatar to Slash Emissions as LNG Expansion Adva...</td>\n",
       "      <td>2021-01-13</td>\n",
       "      <td>NaN</td>\n",
       "      <td>Qatar Petroleum ( QP) is targeting aggressive ...</td>\n",
       "      <td>energyintel</td>\n",
       "      <td>https://www.energyintel.com/0000017b-a7dc-de4c...</td>\n",
       "      <td>[qatar, petroleum, qp, target, aggress, cut, g...</td>\n",
       "    </tr>\n",
       "    <tr>\n",
       "      <th>1</th>\n",
       "      <td>India Launches Its First 700 MW PHWR</td>\n",
       "      <td>2021-01-15</td>\n",
       "      <td>NaN</td>\n",
       "      <td>Nuclear Power Corp. of India Ltd. ( NPCIL) syn...</td>\n",
       "      <td>energyintel</td>\n",
       "      <td>https://www.energyintel.com/0000017b-a7dc-de4c...</td>\n",
       "      <td>[nuclear, power, corp, india, ltd, npcil, sync...</td>\n",
       "    </tr>\n",
       "    <tr>\n",
       "      <th>2</th>\n",
       "      <td>New Chapter for US-China Energy Trade</td>\n",
       "      <td>2021-01-20</td>\n",
       "      <td>NaN</td>\n",
       "      <td>New US President Joe Biden took office this we...</td>\n",
       "      <td>energyintel</td>\n",
       "      <td>https://www.energyintel.com/0000017b-a7dc-de4c...</td>\n",
       "      <td>[new, us, presid, joe, biden, take, offic, wee...</td>\n",
       "    </tr>\n",
       "    <tr>\n",
       "      <th>3</th>\n",
       "      <td>Japan: Slow Restarts Cast Doubt on 2030 Energy...</td>\n",
       "      <td>2021-01-22</td>\n",
       "      <td>NaN</td>\n",
       "      <td>The slow pace of Japanese reactor restarts con...</td>\n",
       "      <td>energyintel</td>\n",
       "      <td>https://www.energyintel.com/0000017b-a7dc-de4c...</td>\n",
       "      <td>[slow, pace, japanes, reactor, restart, contin...</td>\n",
       "    </tr>\n",
       "    <tr>\n",
       "      <th>4</th>\n",
       "      <td>NYC Pension Funds to Divest Fossil Fuel Shares</td>\n",
       "      <td>2021-01-25</td>\n",
       "      <td>NaN</td>\n",
       "      <td>Two of New York City's largest pension funds s...</td>\n",
       "      <td>energyintel</td>\n",
       "      <td>https://www.energyintel.com/0000017b-a7dc-de4c...</td>\n",
       "      <td>[two, new, york, citi, larg, pension, fund, sa...</td>\n",
       "    </tr>\n",
       "  </tbody>\n",
       "</table>\n",
       "</div>"
      ],
      "text/plain": [
       "                                               title       date author  \\\n",
       "0  Qatar to Slash Emissions as LNG Expansion Adva... 2021-01-13    NaN   \n",
       "1               India Launches Its First 700 MW PHWR 2021-01-15    NaN   \n",
       "2              New Chapter for US-China Energy Trade 2021-01-20    NaN   \n",
       "3  Japan: Slow Restarts Cast Doubt on 2030 Energy... 2021-01-22    NaN   \n",
       "4     NYC Pension Funds to Divest Fossil Fuel Shares 2021-01-25    NaN   \n",
       "\n",
       "                                             content       domain  \\\n",
       "0  Qatar Petroleum ( QP) is targeting aggressive ...  energyintel   \n",
       "1  Nuclear Power Corp. of India Ltd. ( NPCIL) syn...  energyintel   \n",
       "2  New US President Joe Biden took office this we...  energyintel   \n",
       "3  The slow pace of Japanese reactor restarts con...  energyintel   \n",
       "4  Two of New York City's largest pension funds s...  energyintel   \n",
       "\n",
       "                                                 url  \\\n",
       "0  https://www.energyintel.com/0000017b-a7dc-de4c...   \n",
       "1  https://www.energyintel.com/0000017b-a7dc-de4c...   \n",
       "2  https://www.energyintel.com/0000017b-a7dc-de4c...   \n",
       "3  https://www.energyintel.com/0000017b-a7dc-de4c...   \n",
       "4  https://www.energyintel.com/0000017b-a7dc-de4c...   \n",
       "\n",
       "                                       token_content  \n",
       "0  [qatar, petroleum, qp, target, aggress, cut, g...  \n",
       "1  [nuclear, power, corp, india, ltd, npcil, sync...  \n",
       "2  [new, us, presid, joe, biden, take, offic, wee...  \n",
       "3  [slow, pace, japanes, reactor, restart, contin...  \n",
       "4  [two, new, york, citi, larg, pension, fund, sa...  "
      ]
     },
     "execution_count": 6,
     "metadata": {},
     "output_type": "execute_result"
    }
   ],
   "source": [
    "df_media.head(5)"
   ]
  },
  {
   "cell_type": "markdown",
   "metadata": {},
   "source": [
    "## patents"
   ]
  },
  {
   "cell_type": "code",
   "execution_count": 7,
   "metadata": {},
   "outputs": [
    {
     "name": "stdout",
     "output_type": "stream",
     "text": [
      "<class 'pandas.core.frame.DataFrame'>\n",
      "RangeIndex: 13199 entries, 0 to 13198\n",
      "Data columns (total 9 columns):\n",
      " #   Column              Non-Null Count  Dtype         \n",
      "---  ------              --------------  -----         \n",
      " 0   publication_number  13199 non-null  object        \n",
      " 1   application_number  13199 non-null  object        \n",
      " 2   country_code        13199 non-null  object        \n",
      " 3   publication_date    13199 non-null  datetime64[ns]\n",
      " 4   inventor            13199 non-null  object        \n",
      " 5   title               13199 non-null  object        \n",
      " 6   abstract            13199 non-null  object        \n",
      " 7   abstract_lang       13199 non-null  object        \n",
      " 8   token_content       13199 non-null  object        \n",
      "dtypes: datetime64[ns](1), object(8)\n",
      "memory usage: 928.2+ KB\n"
     ]
    }
   ],
   "source": [
    "df_patents = pd.read_csv('../data/google_patents.csv', converters={\"token_content\": literal_eval}, parse_dates=['publication_date'])\n",
    "df_patents.info()"
   ]
  },
  {
   "cell_type": "code",
   "execution_count": 8,
   "metadata": {},
   "outputs": [
    {
     "data": {
      "text/html": [
       "<div>\n",
       "<style scoped>\n",
       "    .dataframe tbody tr th:only-of-type {\n",
       "        vertical-align: middle;\n",
       "    }\n",
       "\n",
       "    .dataframe tbody tr th {\n",
       "        vertical-align: top;\n",
       "    }\n",
       "\n",
       "    .dataframe thead th {\n",
       "        text-align: right;\n",
       "    }\n",
       "</style>\n",
       "<table border=\"1\" class=\"dataframe\">\n",
       "  <thead>\n",
       "    <tr style=\"text-align: right;\">\n",
       "      <th></th>\n",
       "      <th>publication_number</th>\n",
       "      <th>application_number</th>\n",
       "      <th>country_code</th>\n",
       "      <th>publication_date</th>\n",
       "      <th>inventor</th>\n",
       "      <th>title</th>\n",
       "      <th>abstract</th>\n",
       "      <th>abstract_lang</th>\n",
       "      <th>token_content</th>\n",
       "    </tr>\n",
       "  </thead>\n",
       "  <tbody>\n",
       "    <tr>\n",
       "      <th>0</th>\n",
       "      <td>US-2022239235-A1</td>\n",
       "      <td>US-202217717397-A</td>\n",
       "      <td>US</td>\n",
       "      <td>2022-07-28</td>\n",
       "      <td>[]</td>\n",
       "      <td>Adaptable DC-AC Inverter Drive System and Oper...</td>\n",
       "      <td>Disclosed is an adaptable DC-AC inverter syste...</td>\n",
       "      <td>['en']</td>\n",
       "      <td>[disclos, adapt, dc, ac, invert, system, oper,...</td>\n",
       "    </tr>\n",
       "    <tr>\n",
       "      <th>1</th>\n",
       "      <td>US-2022239251-A1</td>\n",
       "      <td>US-202217580956-A</td>\n",
       "      <td>US</td>\n",
       "      <td>2022-07-28</td>\n",
       "      <td>[]</td>\n",
       "      <td>System for providing the energy from a single ...</td>\n",
       "      <td>In accordance with an example embodiment, a so...</td>\n",
       "      <td>['en']</td>\n",
       "      <td>[accord, exampl, embodi, solar, energi, system...</td>\n",
       "    </tr>\n",
       "    <tr>\n",
       "      <th>2</th>\n",
       "      <td>US-11396827-B2</td>\n",
       "      <td>US-202117606042-A</td>\n",
       "      <td>US</td>\n",
       "      <td>2022-07-26</td>\n",
       "      <td>[]</td>\n",
       "      <td>Control method for optimizing solar-to-power e...</td>\n",
       "      <td>A control method for optimizing a solar-to-pow...</td>\n",
       "      <td>['en']</td>\n",
       "      <td>[control, method, optim, solar, power, effici,...</td>\n",
       "    </tr>\n",
       "    <tr>\n",
       "      <th>3</th>\n",
       "      <td>CN-114772674-A</td>\n",
       "      <td>CN-202210500131-A</td>\n",
       "      <td>CN</td>\n",
       "      <td>2022-07-22</td>\n",
       "      <td>[]</td>\n",
       "      <td>Low-carbon running saline wastewater treatment...</td>\n",
       "      <td>The invention discloses a system and a method ...</td>\n",
       "      <td>['zh', 'en']</td>\n",
       "      <td>[invent, disclos, system, method, treat, low, ...</td>\n",
       "    </tr>\n",
       "    <tr>\n",
       "      <th>4</th>\n",
       "      <td>CN-217026795-U</td>\n",
       "      <td>CN-202220668705-U</td>\n",
       "      <td>CN</td>\n",
       "      <td>2022-07-22</td>\n",
       "      <td>[]</td>\n",
       "      <td>Water ecological remediation device convenient...</td>\n",
       "      <td>The utility model discloses a water ecological...</td>\n",
       "      <td>['zh', 'en']</td>\n",
       "      <td>[util, model, disclos, water, ecolog, restor, ...</td>\n",
       "    </tr>\n",
       "  </tbody>\n",
       "</table>\n",
       "</div>"
      ],
      "text/plain": [
       "  publication_number application_number country_code publication_date  \\\n",
       "0   US-2022239235-A1  US-202217717397-A           US       2022-07-28   \n",
       "1   US-2022239251-A1  US-202217580956-A           US       2022-07-28   \n",
       "2     US-11396827-B2  US-202117606042-A           US       2022-07-26   \n",
       "3     CN-114772674-A  CN-202210500131-A           CN       2022-07-22   \n",
       "4     CN-217026795-U  CN-202220668705-U           CN       2022-07-22   \n",
       "\n",
       "  inventor                                              title  \\\n",
       "0       []  Adaptable DC-AC Inverter Drive System and Oper...   \n",
       "1       []  System for providing the energy from a single ...   \n",
       "2       []  Control method for optimizing solar-to-power e...   \n",
       "3       []  Low-carbon running saline wastewater treatment...   \n",
       "4       []  Water ecological remediation device convenient...   \n",
       "\n",
       "                                            abstract abstract_lang  \\\n",
       "0  Disclosed is an adaptable DC-AC inverter syste...        ['en']   \n",
       "1  In accordance with an example embodiment, a so...        ['en']   \n",
       "2  A control method for optimizing a solar-to-pow...        ['en']   \n",
       "3  The invention discloses a system and a method ...  ['zh', 'en']   \n",
       "4  The utility model discloses a water ecological...  ['zh', 'en']   \n",
       "\n",
       "                                       token_content  \n",
       "0  [disclos, adapt, dc, ac, invert, system, oper,...  \n",
       "1  [accord, exampl, embodi, solar, energi, system...  \n",
       "2  [control, method, optim, solar, power, effici,...  \n",
       "3  [invent, disclos, system, method, treat, low, ...  \n",
       "4  [util, model, disclos, water, ecolog, restor, ...  "
      ]
     },
     "execution_count": 8,
     "metadata": {},
     "output_type": "execute_result"
    }
   ],
   "source": [
    "df_patents.head()"
   ]
  },
  {
   "cell_type": "markdown",
   "metadata": {},
   "source": [
    "# Pre-processing\n",
    "\n",
    "Mostly taken form previous notebook, but without lemmatizing/stemming."
   ]
  },
  {
   "cell_type": "code",
   "execution_count": 9,
   "metadata": {},
   "outputs": [
    {
     "name": "stderr",
     "output_type": "stream",
     "text": [
      "[nltk_data] Downloading package stopwords to\n",
      "[nltk_data]     /Users/pascal/nltk_data...\n",
      "[nltk_data]   Package stopwords is already up-to-date!\n"
     ]
    }
   ],
   "source": [
    "from nltk.corpus import stopwords\n",
    "nltk.download('stopwords')\n",
    "\n",
    "stop_words_nltk = stopwords.words('english')"
   ]
  },
  {
   "cell_type": "code",
   "execution_count": 10,
   "metadata": {},
   "outputs": [
    {
     "data": {
      "text/plain": [
       "['friend', 'test', 'passed']"
      ]
     },
     "execution_count": 10,
     "metadata": {},
     "output_type": "execute_result"
    }
   ],
   "source": [
    "def preprocess_text(text):\n",
    "\n",
    "    # Keep only letters and spaces\n",
    "    text = re.sub(r'[^a-zA-Z\\s]+', '', text)\n",
    "\n",
    "    # tokenize the text\n",
    "    re_tokens = re.findall('[\\w]+', text)\n",
    "\n",
    "    # remove stopwords\n",
    "    filtered_stopwords = []\n",
    "    for word in re_tokens:\n",
    "        if word.lower() not in stop_words_nltk:\n",
    "            filtered_stopwords.append(word.lower())\n",
    "        else:\n",
    "            pass\n",
    "\n",
    "    return filtered_stopwords\n",
    "\n",
    "preprocess_text('This, my Friend, is a % test. Have I passed?')"
   ]
  },
  {
   "cell_type": "code",
   "execution_count": 26,
   "metadata": {},
   "outputs": [
    {
     "name": "stdout",
     "output_type": "stream",
     "text": [
      "7.7 s ± 87.2 ms per loop (mean ± std. dev. of 7 runs, 1 loop each)\n"
     ]
    }
   ],
   "source": [
    "%%timeit \n",
    "media_tokens = df_media['content'].apply(lambda x: preprocess_text(x))"
   ]
  },
  {
   "cell_type": "code",
   "execution_count": 29,
   "metadata": {},
   "outputs": [
    {
     "data": {
      "text/plain": [
       "0    [qatar, petroleum, qp, targeting, aggressive, ...\n",
       "1    [nuclear, power, corp, india, ltd, npcil, sync...\n",
       "2    [new, us, president, joe, biden, took, office,...\n",
       "3    [slow, pace, japanese, reactor, restarts, cont...\n",
       "4    [two, new, york, citys, largest, pension, fund...\n",
       "5    [japans, supreme, court, likely, become, arbit...\n",
       "6    [oil, natural, gas, industry, officials, looki...\n",
       "7    [new, great, game, emerging, energy, business,...\n",
       "8    [close, th, anniversary, fukushima, daiichi, d...\n",
       "9    [coldest, weather, generation, brought, widesp...\n",
       "Name: content, dtype: object"
      ]
     },
     "execution_count": 29,
     "metadata": {},
     "output_type": "execute_result"
    }
   ],
   "source": [
    "media_tokens[:10]"
   ]
  },
  {
   "cell_type": "code",
   "execution_count": 61,
   "metadata": {},
   "outputs": [
    {
     "data": {
      "text/plain": [
       "4314610"
      ]
     },
     "execution_count": 61,
     "metadata": {},
     "output_type": "execute_result"
    }
   ],
   "source": [
    "# number of words\n",
    "len([word for sublist in media_tokens for word in sublist])"
   ]
  },
  {
   "cell_type": "code",
   "execution_count": 58,
   "metadata": {},
   "outputs": [
    {
     "data": {
      "text/plain": [
       "87078"
      ]
     },
     "execution_count": 58,
     "metadata": {},
     "output_type": "execute_result"
    }
   ],
   "source": [
    "# number of unique words\n",
    "len(set([word for sublist in media_tokens for word in sublist]))"
   ]
  },
  {
   "cell_type": "code",
   "execution_count": 28,
   "metadata": {},
   "outputs": [
    {
     "name": "stdout",
     "output_type": "stream",
     "text": [
      "2.64 s ± 37.4 ms per loop (mean ± std. dev. of 7 runs, 1 loop each)\n"
     ]
    }
   ],
   "source": [
    "%%timeit \n",
    "patent_tokens = df_patents['abstract'].apply(lambda x: preprocess_text(x))"
   ]
  },
  {
   "cell_type": "code",
   "execution_count": 30,
   "metadata": {},
   "outputs": [
    {
     "data": {
      "text/plain": [
       "0    [adaptable, dcac, inverter, drive, system, ope...\n",
       "1    [system, providing, energy, single, contiguous...\n",
       "2    [control, method, optimizing, solartopower, ef...\n",
       "3    [lowcarbon, running, saline, wastewater, treat...\n",
       "4    [water, ecological, remediation, device, conve...\n",
       "5    [cold, hot, medium, energy, storage, hot, wate...\n",
       "6    [solar, energy, respiratory, wall, based, prin...\n",
       "7    [vehiclemounted, hydrogen, energy, storage, eq...\n",
       "8    [mobile, energy, storage, device, based, solar...\n",
       "9    [solar, photovoltaic, aluminum, frame, protect...\n",
       "Name: title, dtype: object"
      ]
     },
     "execution_count": 30,
     "metadata": {},
     "output_type": "execute_result"
    }
   ],
   "source": [
    "patent_tokens[:10]"
   ]
  },
  {
   "cell_type": "code",
   "execution_count": 60,
   "metadata": {},
   "outputs": [
    {
     "data": {
      "text/plain": [
       "95438"
      ]
     },
     "execution_count": 60,
     "metadata": {},
     "output_type": "execute_result"
    }
   ],
   "source": [
    "# number of words\n",
    "len([word for sublist in patent_tokens for word in sublist])"
   ]
  },
  {
   "cell_type": "code",
   "execution_count": 59,
   "metadata": {},
   "outputs": [
    {
     "data": {
      "text/plain": [
       "7158"
      ]
     },
     "execution_count": 59,
     "metadata": {},
     "output_type": "execute_result"
    }
   ],
   "source": [
    "# number of unique words\n",
    "len(set([word for sublist in patent_tokens for word in sublist]))"
   ]
  },
  {
   "cell_type": "markdown",
   "metadata": {},
   "source": [
    "# Generate Word Embeddings"
   ]
  },
  {
   "cell_type": "markdown",
   "metadata": {},
   "source": [
    "## Train baseline model with default params"
   ]
  },
  {
   "cell_type": "code",
   "execution_count": 32,
   "metadata": {},
   "outputs": [
    {
     "name": "stdout",
     "output_type": "stream",
     "text": [
      "8.58 s ± 273 ms per loop (mean ± std. dev. of 7 runs, 1 loop each)\n"
     ]
    }
   ],
   "source": [
    "%%timeit\n",
    "# train model with default params\n",
    "media_embeddings_model = Word2Vec(sentences=media_tokens)"
   ]
  },
  {
   "cell_type": "code",
   "execution_count": 40,
   "metadata": {},
   "outputs": [
    {
     "name": "stdout",
     "output_type": "stream",
     "text": [
      "159 ms ± 6.48 ms per loop (mean ± std. dev. of 7 runs, 10 loops each)\n"
     ]
    }
   ],
   "source": [
    "%%timeit\n",
    "# train model with default params\n",
    "patent_embeddings_model = Word2Vec(sentences=patent_tokens)"
   ]
  },
  {
   "cell_type": "code",
   "execution_count": 43,
   "metadata": {},
   "outputs": [],
   "source": [
    "patent_embeddings_model = Word2Vec(sentences=patent_tokens)"
   ]
  },
  {
   "cell_type": "markdown",
   "metadata": {},
   "source": [
    "## Evaluate the models"
   ]
  },
  {
   "cell_type": "code",
   "execution_count": 63,
   "metadata": {},
   "outputs": [
    {
     "name": "stdout",
     "output_type": "stream",
     "text": [
      "Most similar words to \"solar\" in both models\n"
     ]
    },
    {
     "data": {
      "text/html": [
       "<div>\n",
       "<style scoped>\n",
       "    .dataframe tbody tr th:only-of-type {\n",
       "        vertical-align: middle;\n",
       "    }\n",
       "\n",
       "    .dataframe tbody tr th {\n",
       "        vertical-align: top;\n",
       "    }\n",
       "\n",
       "    .dataframe thead th {\n",
       "        text-align: right;\n",
       "    }\n",
       "</style>\n",
       "<table border=\"1\" class=\"dataframe\">\n",
       "  <thead>\n",
       "    <tr style=\"text-align: right;\">\n",
       "      <th></th>\n",
       "      <th>media_word</th>\n",
       "      <th>media_dist</th>\n",
       "      <th>patent_word</th>\n",
       "      <th>patent_dist</th>\n",
       "    </tr>\n",
       "  </thead>\n",
       "  <tbody>\n",
       "    <tr>\n",
       "      <th>0</th>\n",
       "      <td>project</td>\n",
       "      <td>0.999390</td>\n",
       "      <td>forms</td>\n",
       "      <td>0.966895</td>\n",
       "    </tr>\n",
       "    <tr>\n",
       "      <th>1</th>\n",
       "      <td>mw</td>\n",
       "      <td>0.999308</td>\n",
       "      <td>utilizing</td>\n",
       "      <td>0.961341</td>\n",
       "    </tr>\n",
       "    <tr>\n",
       "      <th>2</th>\n",
       "      <td>renewables</td>\n",
       "      <td>0.999289</td>\n",
       "      <td>integrated</td>\n",
       "      <td>0.959665</td>\n",
       "    </tr>\n",
       "    <tr>\n",
       "      <th>3</th>\n",
       "      <td>first</td>\n",
       "      <td>0.999276</td>\n",
       "      <td>charging</td>\n",
       "      <td>0.958967</td>\n",
       "    </tr>\n",
       "    <tr>\n",
       "      <th>4</th>\n",
       "      <td>plant</td>\n",
       "      <td>0.999271</td>\n",
       "      <td>light</td>\n",
       "      <td>0.957541</td>\n",
       "    </tr>\n",
       "    <tr>\n",
       "      <th>5</th>\n",
       "      <td>plans</td>\n",
       "      <td>0.999256</td>\n",
       "      <td>charged</td>\n",
       "      <td>0.949420</td>\n",
       "    </tr>\n",
       "    <tr>\n",
       "      <th>6</th>\n",
       "      <td>launches</td>\n",
       "      <td>0.999255</td>\n",
       "      <td>new</td>\n",
       "      <td>0.947722</td>\n",
       "    </tr>\n",
       "    <tr>\n",
       "      <th>7</th>\n",
       "      <td>could</td>\n",
       "      <td>0.999232</td>\n",
       "      <td>complementary</td>\n",
       "      <td>0.945782</td>\n",
       "    </tr>\n",
       "    <tr>\n",
       "      <th>8</th>\n",
       "      <td>announces</td>\n",
       "      <td>0.999170</td>\n",
       "      <td>electric</td>\n",
       "      <td>0.945068</td>\n",
       "    </tr>\n",
       "    <tr>\n",
       "      <th>9</th>\n",
       "      <td>largest</td>\n",
       "      <td>0.999163</td>\n",
       "      <td>capable</td>\n",
       "      <td>0.942034</td>\n",
       "    </tr>\n",
       "  </tbody>\n",
       "</table>\n",
       "</div>"
      ],
      "text/plain": [
       "   media_word  media_dist    patent_word  patent_dist\n",
       "0     project    0.999390          forms     0.966895\n",
       "1          mw    0.999308      utilizing     0.961341\n",
       "2  renewables    0.999289     integrated     0.959665\n",
       "3       first    0.999276       charging     0.958967\n",
       "4       plant    0.999271          light     0.957541\n",
       "5       plans    0.999256        charged     0.949420\n",
       "6    launches    0.999255            new     0.947722\n",
       "7       could    0.999232  complementary     0.945782\n",
       "8   announces    0.999170       electric     0.945068\n",
       "9     largest    0.999163        capable     0.942034"
      ]
     },
     "execution_count": 63,
     "metadata": {},
     "output_type": "execute_result"
    }
   ],
   "source": [
    "def nearest_words(word, top_n=10):\n",
    "    print(f'Most similar words to \"{word}\" in both models')\n",
    "    return pd.concat([\n",
    "        pd.DataFrame(media_embeddings_model.wv.most_similar(word, topn=top_n), columns=['media_word', 'media_dist']), \n",
    "        pd.DataFrame(patent_embeddings_model.wv.most_similar(word, topn=top_n), columns=['patent_word', 'patent_dist'])\n",
    "    ], axis=1)\n",
    "    \n",
    "nearest_words('solar')"
   ]
  },
  {
   "cell_type": "code",
   "execution_count": 64,
   "metadata": {},
   "outputs": [
    {
     "name": "stdout",
     "output_type": "stream",
     "text": [
      "Most similar words to \"oil\" in both models\n"
     ]
    },
    {
     "data": {
      "text/html": [
       "<div>\n",
       "<style scoped>\n",
       "    .dataframe tbody tr th:only-of-type {\n",
       "        vertical-align: middle;\n",
       "    }\n",
       "\n",
       "    .dataframe tbody tr th {\n",
       "        vertical-align: top;\n",
       "    }\n",
       "\n",
       "    .dataframe thead th {\n",
       "        text-align: right;\n",
       "    }\n",
       "</style>\n",
       "<table border=\"1\" class=\"dataframe\">\n",
       "  <thead>\n",
       "    <tr style=\"text-align: right;\">\n",
       "      <th></th>\n",
       "      <th>media_word</th>\n",
       "      <th>media_dist</th>\n",
       "      <th>patent_word</th>\n",
       "      <th>patent_dist</th>\n",
       "    </tr>\n",
       "  </thead>\n",
       "  <tbody>\n",
       "    <tr>\n",
       "      <th>0</th>\n",
       "      <td>drilling</td>\n",
       "      <td>0.998490</td>\n",
       "      <td>suitable</td>\n",
       "      <td>0.998339</td>\n",
       "    </tr>\n",
       "    <tr>\n",
       "      <th>1</th>\n",
       "      <td>natural</td>\n",
       "      <td>0.998454</td>\n",
       "      <td>transportation</td>\n",
       "      <td>0.997694</td>\n",
       "    </tr>\n",
       "    <tr>\n",
       "      <th>2</th>\n",
       "      <td>rig</td>\n",
       "      <td>0.997924</td>\n",
       "      <td>applied</td>\n",
       "      <td>0.997304</td>\n",
       "    </tr>\n",
       "    <tr>\n",
       "      <th>3</th>\n",
       "      <td>count</td>\n",
       "      <td>0.997802</td>\n",
       "      <td>soil</td>\n",
       "      <td>0.997177</td>\n",
       "    </tr>\n",
       "    <tr>\n",
       "      <th>4</th>\n",
       "      <td>us</td>\n",
       "      <td>0.997760</td>\n",
       "      <td>network</td>\n",
       "      <td>0.996956</td>\n",
       "    </tr>\n",
       "    <tr>\n",
       "      <th>5</th>\n",
       "      <td>patch</td>\n",
       "      <td>0.997655</td>\n",
       "      <td>field</td>\n",
       "      <td>0.996757</td>\n",
       "    </tr>\n",
       "    <tr>\n",
       "      <th>6</th>\n",
       "      <td>activity</td>\n",
       "      <td>0.997507</td>\n",
       "      <td>space</td>\n",
       "      <td>0.996749</td>\n",
       "    </tr>\n",
       "    <tr>\n",
       "      <th>7</th>\n",
       "      <td>gas</td>\n",
       "      <td>0.997204</td>\n",
       "      <td>rock</td>\n",
       "      <td>0.996580</td>\n",
       "    </tr>\n",
       "    <tr>\n",
       "      <th>8</th>\n",
       "      <td>futures</td>\n",
       "      <td>0.996260</td>\n",
       "      <td>online</td>\n",
       "      <td>0.996573</td>\n",
       "    </tr>\n",
       "    <tr>\n",
       "      <th>9</th>\n",
       "      <td>mexico</td>\n",
       "      <td>0.996066</td>\n",
       "      <td>fault</td>\n",
       "      <td>0.996567</td>\n",
       "    </tr>\n",
       "  </tbody>\n",
       "</table>\n",
       "</div>"
      ],
      "text/plain": [
       "  media_word  media_dist     patent_word  patent_dist\n",
       "0   drilling    0.998490        suitable     0.998339\n",
       "1    natural    0.998454  transportation     0.997694\n",
       "2        rig    0.997924         applied     0.997304\n",
       "3      count    0.997802            soil     0.997177\n",
       "4         us    0.997760         network     0.996956\n",
       "5      patch    0.997655           field     0.996757\n",
       "6   activity    0.997507           space     0.996749\n",
       "7        gas    0.997204            rock     0.996580\n",
       "8    futures    0.996260          online     0.996573\n",
       "9     mexico    0.996066           fault     0.996567"
      ]
     },
     "execution_count": 64,
     "metadata": {},
     "output_type": "execute_result"
    }
   ],
   "source": [
    "nearest_words(\"oil\")"
   ]
  },
  {
   "cell_type": "code",
   "execution_count": 155,
   "metadata": {},
   "outputs": [
    {
     "name": "stdout",
     "output_type": "stream",
     "text": [
      "Most similar words to \"sun\" in both models\n"
     ]
    },
    {
     "data": {
      "text/html": [
       "<div>\n",
       "<style scoped>\n",
       "    .dataframe tbody tr th:only-of-type {\n",
       "        vertical-align: middle;\n",
       "    }\n",
       "\n",
       "    .dataframe tbody tr th {\n",
       "        vertical-align: top;\n",
       "    }\n",
       "\n",
       "    .dataframe thead th {\n",
       "        text-align: right;\n",
       "    }\n",
       "</style>\n",
       "<table border=\"1\" class=\"dataframe\">\n",
       "  <thead>\n",
       "    <tr style=\"text-align: right;\">\n",
       "      <th></th>\n",
       "      <th>media_word</th>\n",
       "      <th>media_dist</th>\n",
       "      <th>patent_word</th>\n",
       "      <th>patent_dist</th>\n",
       "    </tr>\n",
       "  </thead>\n",
       "  <tbody>\n",
       "    <tr>\n",
       "      <th>0</th>\n",
       "      <td>e</td>\n",
       "      <td>0.998402</td>\n",
       "      <td>tracking</td>\n",
       "      <td>0.995279</td>\n",
       "    </tr>\n",
       "    <tr>\n",
       "      <th>1</th>\n",
       "      <td>port</td>\n",
       "      <td>0.998152</td>\n",
       "      <td>foldable</td>\n",
       "      <td>0.994910</td>\n",
       "    </tr>\n",
       "    <tr>\n",
       "      <th>2</th>\n",
       "      <td>manufacturing</td>\n",
       "      <td>0.998137</td>\n",
       "      <td>novel</td>\n",
       "      <td>0.994770</td>\n",
       "    </tr>\n",
       "    <tr>\n",
       "      <th>3</th>\n",
       "      <td>tech</td>\n",
       "      <td>0.998127</td>\n",
       "      <td>mobile</td>\n",
       "      <td>0.994106</td>\n",
       "    </tr>\n",
       "    <tr>\n",
       "      <th>4</th>\n",
       "      <td>efficient</td>\n",
       "      <td>0.998125</td>\n",
       "      <td>improving</td>\n",
       "      <td>0.993901</td>\n",
       "    </tr>\n",
       "    <tr>\n",
       "      <th>5</th>\n",
       "      <td>design</td>\n",
       "      <td>0.998121</td>\n",
       "      <td>glass</td>\n",
       "      <td>0.993774</td>\n",
       "    </tr>\n",
       "    <tr>\n",
       "      <th>6</th>\n",
       "      <td>takes</td>\n",
       "      <td>0.998118</td>\n",
       "      <td>circuit</td>\n",
       "      <td>0.993296</td>\n",
       "    </tr>\n",
       "    <tr>\n",
       "      <th>7</th>\n",
       "      <td>facility</td>\n",
       "      <td>0.998115</td>\n",
       "      <td>adjusting</td>\n",
       "      <td>0.993251</td>\n",
       "    </tr>\n",
       "    <tr>\n",
       "      <th>8</th>\n",
       "      <td>nuclear</td>\n",
       "      <td>0.998076</td>\n",
       "      <td>rate</td>\n",
       "      <td>0.993043</td>\n",
       "    </tr>\n",
       "    <tr>\n",
       "      <th>9</th>\n",
       "      <td>partner</td>\n",
       "      <td>0.998052</td>\n",
       "      <td>efficiency</td>\n",
       "      <td>0.992930</td>\n",
       "    </tr>\n",
       "  </tbody>\n",
       "</table>\n",
       "</div>"
      ],
      "text/plain": [
       "      media_word  media_dist patent_word  patent_dist\n",
       "0              e    0.998402    tracking     0.995279\n",
       "1           port    0.998152    foldable     0.994910\n",
       "2  manufacturing    0.998137       novel     0.994770\n",
       "3           tech    0.998127      mobile     0.994106\n",
       "4      efficient    0.998125   improving     0.993901\n",
       "5         design    0.998121       glass     0.993774\n",
       "6          takes    0.998118     circuit     0.993296\n",
       "7       facility    0.998115   adjusting     0.993251\n",
       "8        nuclear    0.998076        rate     0.993043\n",
       "9        partner    0.998052  efficiency     0.992930"
      ]
     },
     "execution_count": 155,
     "metadata": {},
     "output_type": "execute_result"
    }
   ],
   "source": [
    "nearest_words(\"sun\")"
   ]
  },
  {
   "cell_type": "code",
   "execution_count": 66,
   "metadata": {},
   "outputs": [
    {
     "data": {
      "text/plain": [
       "0.9916835"
      ]
     },
     "execution_count": 66,
     "metadata": {},
     "output_type": "execute_result"
    }
   ],
   "source": [
    "media_embeddings_model.wv.similarity('oil', 'solar')"
   ]
  },
  {
   "cell_type": "code",
   "execution_count": 68,
   "metadata": {},
   "outputs": [
    {
     "data": {
      "text/plain": [
       "0.9967104"
      ]
     },
     "execution_count": 68,
     "metadata": {},
     "output_type": "execute_result"
    }
   ],
   "source": [
    "media_embeddings_model.wv.similarity('sun', 'solar')"
   ]
  },
  {
   "cell_type": "code",
   "execution_count": 75,
   "metadata": {},
   "outputs": [
    {
     "data": {
      "text/plain": [
       "0.9981366"
      ]
     },
     "execution_count": 75,
     "metadata": {},
     "output_type": "execute_result"
    }
   ],
   "source": [
    "media_embeddings_model.wv.similarity('renewable', 'solar')"
   ]
  },
  {
   "cell_type": "code",
   "execution_count": 74,
   "metadata": {},
   "outputs": [
    {
     "data": {
      "text/plain": [
       "0.98939914"
      ]
     },
     "execution_count": 74,
     "metadata": {},
     "output_type": "execute_result"
    }
   ],
   "source": [
    "media_embeddings_model.wv.similarity('renewable', 'oil')"
   ]
  },
  {
   "cell_type": "code",
   "execution_count": 65,
   "metadata": {},
   "outputs": [
    {
     "data": {
      "text/plain": [
       "0.7683153"
      ]
     },
     "execution_count": 65,
     "metadata": {},
     "output_type": "execute_result"
    }
   ],
   "source": [
    "patent_embeddings_model.wv.similarity('oil', 'solar')"
   ]
  },
  {
   "cell_type": "code",
   "execution_count": 67,
   "metadata": {},
   "outputs": [
    {
     "data": {
      "text/plain": [
       "0.9046115"
      ]
     },
     "execution_count": 67,
     "metadata": {},
     "output_type": "execute_result"
    }
   ],
   "source": [
    "patent_embeddings_model.wv.similarity('sun', 'solar')"
   ]
  },
  {
   "cell_type": "code",
   "execution_count": 195,
   "metadata": {},
   "outputs": [
    {
     "data": {
      "text/plain": [
       "0.9026717"
      ]
     },
     "execution_count": 195,
     "metadata": {},
     "output_type": "execute_result"
    }
   ],
   "source": [
    "patent_embeddings_model.wv.similarity('renewable', 'solar')"
   ]
  },
  {
   "cell_type": "code",
   "execution_count": 196,
   "metadata": {},
   "outputs": [
    {
     "data": {
      "text/plain": [
       "0.95816344"
      ]
     },
     "execution_count": 196,
     "metadata": {},
     "output_type": "execute_result"
    }
   ],
   "source": [
    "patent_embeddings_model.wv.similarity('renewable', 'oil')"
   ]
  },
  {
   "cell_type": "markdown",
   "metadata": {},
   "source": [
    "### Get most frequent words and see their position in 2D-space\n"
   ]
  },
  {
   "cell_type": "code",
   "execution_count": 202,
   "metadata": {},
   "outputs": [],
   "source": [
    "FREQUENCY = 50"
   ]
  },
  {
   "cell_type": "code",
   "execution_count": 203,
   "metadata": {},
   "outputs": [
    {
     "data": {
      "text/plain": [
       "[('energy', 66251),\n",
       " ('solar', 37321),\n",
       " ('power', 22330),\n",
       " ('new', 21231),\n",
       " ('gas', 19284),\n",
       " ('us', 17957),\n",
       " ('said', 16950),\n",
       " ('also', 15794),\n",
       " ('storage', 14502),\n",
       " ('data', 14269)]"
      ]
     },
     "execution_count": 203,
     "metadata": {},
     "output_type": "execute_result"
    }
   ],
   "source": [
    "# Use Counter to count occurrences of each word in both datasets combined\n",
    "word_counts = Counter([word for sublist in media_tokens for word in sublist] + [word for sublist in patent_tokens for word in sublist])\n",
    "\n",
    "# Get the most common words and their counts\n",
    "most_common_words = word_counts.most_common(FREQUENCY)\n",
    "most_common_words[:10]"
   ]
  },
  {
   "cell_type": "code",
   "execution_count": 207,
   "metadata": {},
   "outputs": [
    {
     "data": {
      "text/plain": [
       "((50, 100), (50, 100))"
      ]
     },
     "execution_count": 207,
     "metadata": {},
     "output_type": "execute_result"
    }
   ],
   "source": [
    "media_word_vecs = []\n",
    "patent_word_vecs = []\n",
    "labels = []\n",
    "\n",
    "for word, count in most_common_words:\n",
    "    try:\n",
    "        media_word_vecs.append(media_embeddings_model.wv.get_vector(word))\n",
    "    except:\n",
    "        media_word_vecs.append(np.empty(100,))\n",
    "    try:\n",
    "        patent_word_vecs.append(patent_embeddings_model.wv.get_vector(word))\n",
    "    except:\n",
    "        patent_word_vecs.append(np.empty(100,))\n",
    "    labels.append(word)\n",
    "    \n",
    "media_word_vecs = np.array(media_word_vecs)\n",
    "patent_word_vecs = np.array(patent_word_vecs)\n",
    "    \n",
    "(patent_word_vecs.shape, media_word_vecs.shape)"
   ]
  },
  {
   "cell_type": "code",
   "execution_count": 209,
   "metadata": {},
   "outputs": [
    {
     "data": {
      "text/plain": [
       "array([-0.2784512 ,  0.67634696,  0.28766882,  0.48631474,  0.71663284,\n",
       "       -1.09679639, -0.3005158 ,  1.27653849, -0.16902168, -0.59349585,\n",
       "        0.20974171, -0.58758682, -0.22758752,  0.57671332,  0.31547737,\n",
       "       -0.09997737, -0.01153724, -0.34102732, -0.20849034, -0.50171715,\n",
       "       -0.0010302 ,  0.11139007,  0.92128605, -0.32109421,  0.42235526,\n",
       "       -0.14334251, -0.5458374 ,  0.12889916,  0.06699963,  0.4920938 ,\n",
       "        0.60204399, -0.63625705,  0.40000895, -0.17960018, -0.15057968,\n",
       "        0.29616755,  0.24439842, -0.21952985, -0.03520032, -1.12160599,\n",
       "       -0.15351994, -0.47100323, -0.64934278,  0.00551343,  0.20047966,\n",
       "        0.48304886, -0.36827117, -0.07777036, -0.00047382,  0.24896185,\n",
       "        0.56043333, -0.83512145, -0.37358233,  0.23826934, -0.27174744,\n",
       "        0.2767548 ,  0.54281789,  0.44330323, -0.37823051,  0.53025079,\n",
       "        0.03912139,  0.39334697,  0.71570629, -0.2156947 , -0.46236068,\n",
       "        0.42186376,  0.45092759,  0.27626055, -0.85636067,  0.58138585,\n",
       "       -0.49313956, -0.06476385,  0.46940926,  0.11837006,  0.09562973,\n",
       "       -0.31231317, -0.50312078, -0.44672954, -0.50467575, -0.19036692,\n",
       "       -0.20391038,  0.36460105, -0.42914987,  0.64099932, -0.02732208,\n",
       "       -0.27187726,  0.25640193, -0.40389496,  0.64304256, -0.0044028 ,\n",
       "        0.47051921,  0.38026527, -0.18321563, -0.07910203,  0.44029772,\n",
       "        0.54943168,  0.26260328, -0.22753876,  0.21234897,  0.0507006 ])"
      ]
     },
     "execution_count": 209,
     "metadata": {},
     "output_type": "execute_result"
    }
   ],
   "source": [
    "# show sample word vector\n",
    "patent_word_vecs[0]"
   ]
  },
  {
   "cell_type": "code",
   "execution_count": 222,
   "metadata": {},
   "outputs": [
    {
     "data": {
      "image/png": "[encoded data removed]",
      "text/plain": [
       "<Figure size 2000x800 with 2 Axes>"
      ]
     },
     "metadata": {},
     "output_type": "display_data"
    }
   ],
   "source": [
    "fig, (ax1, ax2) = plt.subplots(1, 2, figsize=(20,8))\n",
    "\n",
    "tsne_media = TSNE(n_components=2, random_state=42, n_iter=300, perplexity=5)\n",
    "T_media = tsne_media.fit_transform(media_word_vecs)\n",
    "\n",
    "ax1.set_title('Media Embeddings')\n",
    "ax1.scatter(T_media[:, 0], T_media[:, 1], c='Orange', alpha=0.75, s=5)\n",
    "for label, x, y in zip(labels, T_media[:, 0], T_media[:, 1]):\n",
    "    ax1.annotate(label,\n",
    "                 xy=(x, y),\n",
    "                 xytext=(0, 0),\n",
    "                 alpha=0.75,\n",
    "                 textcoords='offset points')\n",
    "\n",
    "tsne_patents = TSNE(n_components=2, random_state=42, n_iter=300, perplexity=5)\n",
    "T_patents = tsne_patents.fit_transform(patent_word_vecs)\n",
    "\n",
    "ax2.set_title('Patent Embeddings')\n",
    "ax2.scatter(T_patents[:, 0], T_patents[:, 1], c='Blue', alpha=0.75, s=5)\n",
    "for label, x, y in zip(labels, T_patents[:, 0], T_patents[:, 1]):\n",
    "    plt.annotate(label,\n",
    "                 xy=(x, y),\n",
    "                 xytext=(0, 0),\n",
    "                 alpha=0.75,\n",
    "                 textcoords='offset points')\n",
    "\n",
    "plt.suptitle(f'Word Embeddings of {FREQUENCY} most common words', fontsize=16)\n",
    "plt.show()"
   ]
  },
  {
   "cell_type": "code",
   "execution_count": null,
   "metadata": {},
   "outputs": [],
   "source": []
  }
 ],
 "metadata": {
  "kernelspec": {
   "display_name": "Python 3 (ipykernel)",
   "language": "python",
   "name": "python3"
  },
  "language_info": {
   "codemirror_mode": {
    "name": "ipython",
    "version": 3
   },
   "file_extension": ".py",
   "mimetype": "text/x-python",
   "name": "python",
   "nbconvert_exporter": "python",
   "pygments_lexer": "ipython3",
   "version": "3.9.13"
  }
 },
 "nbformat": 4,
 "nbformat_minor": 4
}
