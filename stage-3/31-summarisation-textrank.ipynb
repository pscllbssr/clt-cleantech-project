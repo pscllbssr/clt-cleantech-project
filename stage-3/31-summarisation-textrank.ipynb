{
 "cells": [
  {
   "cell_type": "code",
   "execution_count": 1,
   "id": "2904ae0e-9261-452e-a50b-00bf085f4f39",
   "metadata": {
    "ExecuteTime": {
     "end_time": "2024-05-29T10:03:42.720548700Z",
     "start_time": "2024-05-29T10:03:20.771768100Z"
    }
   },
   "outputs": [
    {
     "name": "stdout",
     "output_type": "stream",
     "text": [
      "Requirement already satisfied: click in c:\\users\\pbrun\\anaconda3\\envs\\glmpascal\\lib\\site-packages (8.1.7)\n",
      "Requirement already satisfied: colorama in c:\\users\\pbrun\\anaconda3\\envs\\glmpascal\\lib\\site-packages (from click) (0.4.6)\n",
      "Requirement already satisfied: networkx in c:\\users\\pbrun\\anaconda3\\envs\\glmpascal\\lib\\site-packages (3.3)\n",
      "Requirement already satisfied: nltk in c:\\users\\pbrun\\anaconda3\\envs\\glmpascal\\lib\\site-packages (3.8.1)\n",
      "Requirement already satisfied: click in c:\\users\\pbrun\\anaconda3\\envs\\glmpascal\\lib\\site-packages (from nltk) (8.1.7)\n",
      "Requirement already satisfied: joblib in c:\\users\\pbrun\\anaconda3\\envs\\glmpascal\\lib\\site-packages (from nltk) (1.4.2)\n",
      "Requirement already satisfied: regex>=2021.8.3 in c:\\users\\pbrun\\anaconda3\\envs\\glmpascal\\lib\\site-packages (from nltk) (2024.5.15)\n",
      "Requirement already satisfied: tqdm in c:\\users\\pbrun\\anaconda3\\envs\\glmpascal\\lib\\site-packages (from nltk) (4.66.4)\n",
      "Requirement already satisfied: colorama in c:\\users\\pbrun\\anaconda3\\envs\\glmpascal\\lib\\site-packages (from click->nltk) (0.4.6)\n",
      "Requirement already satisfied: numpy in c:\\users\\pbrun\\anaconda3\\envs\\glmpascal\\lib\\site-packages (1.26.4)\n"
     ]
    },
    {
     "name": "stderr",
     "output_type": "stream",
     "text": [
      "Das System kann die angegebene Datei nicht finden.\n"
     ]
    },
    {
     "name": "stdout",
     "output_type": "stream",
     "text": [
      "Collecting git+https://github.com/davidadamojr/TextRank.git\n",
      "  Cloning https://github.com/davidadamojr/TextRank.git to c:\\users\\pbrun\\appdata\\local\\temp\\pip-req-build-fz53rtnz\n",
      "  Resolved https://github.com/davidadamojr/TextRank.git to commit f57ed2a3a7cc1c4883f7f026b8d4fa24993f62f7\n",
      "  Preparing metadata (setup.py): started\n",
      "  Preparing metadata (setup.py): finished with status 'done'\n",
      "Requirement already satisfied: networkx>=1.11.0 in c:\\users\\pbrun\\anaconda3\\envs\\glmpascal\\lib\\site-packages (from textrank==0.1.0) (3.3)\n",
      "Requirement already satisfied: nltk>=3.2.1 in c:\\users\\pbrun\\anaconda3\\envs\\glmpascal\\lib\\site-packages (from textrank==0.1.0) (3.8.1)\n",
      "Requirement already satisfied: numpy>=1.11.2 in c:\\users\\pbrun\\anaconda3\\envs\\glmpascal\\lib\\site-packages (from textrank==0.1.0) (1.26.4)\n",
      "Requirement already satisfied: click>=6.6 in c:\\users\\pbrun\\anaconda3\\envs\\glmpascal\\lib\\site-packages (from textrank==0.1.0) (8.1.7)\n",
      "Requirement already satisfied: editdistance==0.4 in c:\\users\\pbrun\\anaconda3\\envs\\glmpascal\\lib\\site-packages (from textrank==0.1.0) (0.4)\n",
      "Requirement already satisfied: colorama in c:\\users\\pbrun\\anaconda3\\envs\\glmpascal\\lib\\site-packages (from click>=6.6->textrank==0.1.0) (0.4.6)\n",
      "Requirement already satisfied: joblib in c:\\users\\pbrun\\anaconda3\\envs\\glmpascal\\lib\\site-packages (from nltk>=3.2.1->textrank==0.1.0) (1.4.2)\n",
      "Requirement already satisfied: regex>=2021.8.3 in c:\\users\\pbrun\\anaconda3\\envs\\glmpascal\\lib\\site-packages (from nltk>=3.2.1->textrank==0.1.0) (2024.5.15)\n",
      "Requirement already satisfied: tqdm in c:\\users\\pbrun\\anaconda3\\envs\\glmpascal\\lib\\site-packages (from nltk>=3.2.1->textrank==0.1.0) (4.66.4)\n"
     ]
    },
    {
     "name": "stderr",
     "output_type": "stream",
     "text": [
      "  Running command git clone --filter=blob:none --quiet https://github.com/davidadamojr/TextRank.git 'C:\\Users\\pbrun\\AppData\\Local\\Temp\\pip-req-build-fz53rtnz'\n"
     ]
    },
    {
     "name": "stdout",
     "output_type": "stream",
     "text": [
      "Requirement already satisfied: pytextrank in c:\\users\\pbrun\\anaconda3\\envs\\glmpascal\\lib\\site-packages (3.3.0)\n",
      "Requirement already satisfied: GitPython>=3.1 in c:\\users\\pbrun\\anaconda3\\envs\\glmpascal\\lib\\site-packages (from pytextrank) (3.1.43)\n",
      "Requirement already satisfied: graphviz>=0.13 in c:\\users\\pbrun\\anaconda3\\envs\\glmpascal\\lib\\site-packages (from pytextrank) (0.20.3)\n",
      "Requirement already satisfied: icecream>=2.1 in c:\\users\\pbrun\\anaconda3\\envs\\glmpascal\\lib\\site-packages (from pytextrank) (2.1.3)\n",
      "Requirement already satisfied: networkx>=2.6 in c:\\users\\pbrun\\anaconda3\\envs\\glmpascal\\lib\\site-packages (from networkx[default]>=2.6->pytextrank) (3.3)\n",
      "Requirement already satisfied: pygments>=2.7.4 in c:\\users\\pbrun\\anaconda3\\envs\\glmpascal\\lib\\site-packages (from pytextrank) (2.15.1)\n",
      "Requirement already satisfied: scipy>=1.7 in c:\\users\\pbrun\\anaconda3\\envs\\glmpascal\\lib\\site-packages (from pytextrank) (1.13.1)\n",
      "Requirement already satisfied: spacy>=3.0 in c:\\users\\pbrun\\anaconda3\\envs\\glmpascal\\lib\\site-packages (from pytextrank) (3.7.4)\n",
      "Requirement already satisfied: gitdb<5,>=4.0.1 in c:\\users\\pbrun\\anaconda3\\envs\\glmpascal\\lib\\site-packages (from GitPython>=3.1->pytextrank) (4.0.11)\n",
      "Requirement already satisfied: colorama>=0.3.9 in c:\\users\\pbrun\\anaconda3\\envs\\glmpascal\\lib\\site-packages (from icecream>=2.1->pytextrank) (0.4.6)\n",
      "Requirement already satisfied: executing>=0.3.1 in c:\\users\\pbrun\\anaconda3\\envs\\glmpascal\\lib\\site-packages (from icecream>=2.1->pytextrank) (0.8.3)\n",
      "Requirement already satisfied: asttokens>=2.0.1 in c:\\users\\pbrun\\anaconda3\\envs\\glmpascal\\lib\\site-packages (from icecream>=2.1->pytextrank) (2.0.5)\n",
      "Requirement already satisfied: numpy>=1.23 in c:\\users\\pbrun\\anaconda3\\envs\\glmpascal\\lib\\site-packages (from networkx[default]>=2.6->pytextrank) (1.26.4)\n",
      "Requirement already satisfied: matplotlib>=3.6 in c:\\users\\pbrun\\anaconda3\\envs\\glmpascal\\lib\\site-packages (from networkx[default]>=2.6->pytextrank) (3.9.0)\n",
      "Requirement already satisfied: pandas>=1.4 in c:\\users\\pbrun\\anaconda3\\envs\\glmpascal\\lib\\site-packages (from networkx[default]>=2.6->pytextrank) (2.2.2)\n",
      "Requirement already satisfied: spacy-legacy<3.1.0,>=3.0.11 in c:\\users\\pbrun\\anaconda3\\envs\\glmpascal\\lib\\site-packages (from spacy>=3.0->pytextrank) (3.0.12)\n",
      "Requirement already satisfied: spacy-loggers<2.0.0,>=1.0.0 in c:\\users\\pbrun\\anaconda3\\envs\\glmpascal\\lib\\site-packages (from spacy>=3.0->pytextrank) (1.0.5)\n",
      "Requirement already satisfied: murmurhash<1.1.0,>=0.28.0 in c:\\users\\pbrun\\anaconda3\\envs\\glmpascal\\lib\\site-packages (from spacy>=3.0->pytextrank) (1.0.10)\n",
      "Requirement already satisfied: cymem<2.1.0,>=2.0.2 in c:\\users\\pbrun\\anaconda3\\envs\\glmpascal\\lib\\site-packages (from spacy>=3.0->pytextrank) (2.0.8)\n",
      "Requirement already satisfied: preshed<3.1.0,>=3.0.2 in c:\\users\\pbrun\\anaconda3\\envs\\glmpascal\\lib\\site-packages (from spacy>=3.0->pytextrank) (3.0.9)\n",
      "Requirement already satisfied: thinc<8.3.0,>=8.2.2 in c:\\users\\pbrun\\anaconda3\\envs\\glmpascal\\lib\\site-packages (from spacy>=3.0->pytextrank) (8.2.3)\n",
      "Requirement already satisfied: wasabi<1.2.0,>=0.9.1 in c:\\users\\pbrun\\anaconda3\\envs\\glmpascal\\lib\\site-packages (from spacy>=3.0->pytextrank) (1.1.2)\n",
      "Requirement already satisfied: srsly<3.0.0,>=2.4.3 in c:\\users\\pbrun\\anaconda3\\envs\\glmpascal\\lib\\site-packages (from spacy>=3.0->pytextrank) (2.4.8)\n",
      "Requirement already satisfied: catalogue<2.1.0,>=2.0.6 in c:\\users\\pbrun\\anaconda3\\envs\\glmpascal\\lib\\site-packages (from spacy>=3.0->pytextrank) (2.0.10)\n",
      "Requirement already satisfied: weasel<0.4.0,>=0.1.0 in c:\\users\\pbrun\\anaconda3\\envs\\glmpascal\\lib\\site-packages (from spacy>=3.0->pytextrank) (0.3.4)\n",
      "Requirement already satisfied: typer<0.10.0,>=0.3.0 in c:\\users\\pbrun\\anaconda3\\envs\\glmpascal\\lib\\site-packages (from spacy>=3.0->pytextrank) (0.9.4)\n",
      "Requirement already satisfied: smart-open<7.0.0,>=5.2.1 in c:\\users\\pbrun\\anaconda3\\envs\\glmpascal\\lib\\site-packages (from spacy>=3.0->pytextrank) (6.4.0)\n",
      "Requirement already satisfied: tqdm<5.0.0,>=4.38.0 in c:\\users\\pbrun\\anaconda3\\envs\\glmpascal\\lib\\site-packages (from spacy>=3.0->pytextrank) (4.66.4)\n",
      "Requirement already satisfied: requests<3.0.0,>=2.13.0 in c:\\users\\pbrun\\anaconda3\\envs\\glmpascal\\lib\\site-packages (from spacy>=3.0->pytextrank) (2.31.0)\n",
      "Requirement already satisfied: pydantic!=1.8,!=1.8.1,<3.0.0,>=1.7.4 in c:\\users\\pbrun\\anaconda3\\envs\\glmpascal\\lib\\site-packages (from spacy>=3.0->pytextrank) (2.7.2)\n",
      "Requirement already satisfied: jinja2 in c:\\users\\pbrun\\anaconda3\\envs\\glmpascal\\lib\\site-packages (from spacy>=3.0->pytextrank) (3.1.3)\n",
      "Requirement already satisfied: setuptools in c:\\users\\pbrun\\anaconda3\\envs\\glmpascal\\lib\\site-packages (from spacy>=3.0->pytextrank) (69.5.1)\n",
      "Requirement already satisfied: packaging>=20.0 in c:\\users\\pbrun\\anaconda3\\envs\\glmpascal\\lib\\site-packages (from spacy>=3.0->pytextrank) (23.2)\n",
      "Requirement already satisfied: langcodes<4.0.0,>=3.2.0 in c:\\users\\pbrun\\anaconda3\\envs\\glmpascal\\lib\\site-packages (from spacy>=3.0->pytextrank) (3.4.0)\n",
      "Requirement already satisfied: six in c:\\users\\pbrun\\anaconda3\\envs\\glmpascal\\lib\\site-packages (from asttokens>=2.0.1->icecream>=2.1->pytextrank) (1.16.0)\n",
      "Requirement already satisfied: smmap<6,>=3.0.1 in c:\\users\\pbrun\\anaconda3\\envs\\glmpascal\\lib\\site-packages (from gitdb<5,>=4.0.1->GitPython>=3.1->pytextrank) (5.0.1)\n",
      "Requirement already satisfied: language-data>=1.2 in c:\\users\\pbrun\\anaconda3\\envs\\glmpascal\\lib\\site-packages (from langcodes<4.0.0,>=3.2.0->spacy>=3.0->pytextrank) (1.2.0)\n",
      "Requirement already satisfied: contourpy>=1.0.1 in c:\\users\\pbrun\\anaconda3\\envs\\glmpascal\\lib\\site-packages (from matplotlib>=3.6->networkx[default]>=2.6->pytextrank) (1.2.1)\n",
      "Requirement already satisfied: cycler>=0.10 in c:\\users\\pbrun\\anaconda3\\envs\\glmpascal\\lib\\site-packages (from matplotlib>=3.6->networkx[default]>=2.6->pytextrank) (0.12.1)\n",
      "Requirement already satisfied: fonttools>=4.22.0 in c:\\users\\pbrun\\anaconda3\\envs\\glmpascal\\lib\\site-packages (from matplotlib>=3.6->networkx[default]>=2.6->pytextrank) (4.52.4)\n",
      "Requirement already satisfied: kiwisolver>=1.3.1 in c:\\users\\pbrun\\anaconda3\\envs\\glmpascal\\lib\\site-packages (from matplotlib>=3.6->networkx[default]>=2.6->pytextrank) (1.4.5)\n",
      "Requirement already satisfied: pillow>=8 in c:\\users\\pbrun\\anaconda3\\envs\\glmpascal\\lib\\site-packages (from matplotlib>=3.6->networkx[default]>=2.6->pytextrank) (10.3.0)\n",
      "Requirement already satisfied: pyparsing>=2.3.1 in c:\\users\\pbrun\\anaconda3\\envs\\glmpascal\\lib\\site-packages (from matplotlib>=3.6->networkx[default]>=2.6->pytextrank) (3.1.2)\n",
      "Requirement already satisfied: python-dateutil>=2.7 in c:\\users\\pbrun\\anaconda3\\envs\\glmpascal\\lib\\site-packages (from matplotlib>=3.6->networkx[default]>=2.6->pytextrank) (2.9.0.post0)\n",
      "Requirement already satisfied: pytz>=2020.1 in c:\\users\\pbrun\\anaconda3\\envs\\glmpascal\\lib\\site-packages (from pandas>=1.4->networkx[default]>=2.6->pytextrank) (2024.1)\n",
      "Requirement already satisfied: tzdata>=2022.7 in c:\\users\\pbrun\\anaconda3\\envs\\glmpascal\\lib\\site-packages (from pandas>=1.4->networkx[default]>=2.6->pytextrank) (2024.1)\n",
      "Requirement already satisfied: annotated-types>=0.4.0 in c:\\users\\pbrun\\anaconda3\\envs\\glmpascal\\lib\\site-packages (from pydantic!=1.8,!=1.8.1,<3.0.0,>=1.7.4->spacy>=3.0->pytextrank) (0.7.0)\n",
      "Requirement already satisfied: pydantic-core==2.18.3 in c:\\users\\pbrun\\anaconda3\\envs\\glmpascal\\lib\\site-packages (from pydantic!=1.8,!=1.8.1,<3.0.0,>=1.7.4->spacy>=3.0->pytextrank) (2.18.3)\n",
      "Requirement already satisfied: typing-extensions>=4.6.1 in c:\\users\\pbrun\\anaconda3\\envs\\glmpascal\\lib\\site-packages (from pydantic!=1.8,!=1.8.1,<3.0.0,>=1.7.4->spacy>=3.0->pytextrank) (4.11.0)\n",
      "Requirement already satisfied: charset-normalizer<4,>=2 in c:\\users\\pbrun\\anaconda3\\envs\\glmpascal\\lib\\site-packages (from requests<3.0.0,>=2.13.0->spacy>=3.0->pytextrank) (2.0.4)\n",
      "Requirement already satisfied: idna<4,>=2.5 in c:\\users\\pbrun\\anaconda3\\envs\\glmpascal\\lib\\site-packages (from requests<3.0.0,>=2.13.0->spacy>=3.0->pytextrank) (3.7)\n",
      "Requirement already satisfied: urllib3<3,>=1.21.1 in c:\\users\\pbrun\\anaconda3\\envs\\glmpascal\\lib\\site-packages (from requests<3.0.0,>=2.13.0->spacy>=3.0->pytextrank) (2.2.1)\n",
      "Requirement already satisfied: certifi>=2017.4.17 in c:\\users\\pbrun\\anaconda3\\envs\\glmpascal\\lib\\site-packages (from requests<3.0.0,>=2.13.0->spacy>=3.0->pytextrank) (2024.2.2)\n",
      "Requirement already satisfied: blis<0.8.0,>=0.7.8 in c:\\users\\pbrun\\anaconda3\\envs\\glmpascal\\lib\\site-packages (from thinc<8.3.0,>=8.2.2->spacy>=3.0->pytextrank) (0.7.11)\n",
      "Requirement already satisfied: confection<1.0.0,>=0.0.1 in c:\\users\\pbrun\\anaconda3\\envs\\glmpascal\\lib\\site-packages (from thinc<8.3.0,>=8.2.2->spacy>=3.0->pytextrank) (0.1.4)\n",
      "Requirement already satisfied: click<9.0.0,>=7.1.1 in c:\\users\\pbrun\\anaconda3\\envs\\glmpascal\\lib\\site-packages (from typer<0.10.0,>=0.3.0->spacy>=3.0->pytextrank) (8.1.7)\n",
      "Requirement already satisfied: cloudpathlib<0.17.0,>=0.7.0 in c:\\users\\pbrun\\anaconda3\\envs\\glmpascal\\lib\\site-packages (from weasel<0.4.0,>=0.1.0->spacy>=3.0->pytextrank) (0.16.0)\n",
      "Requirement already satisfied: MarkupSafe>=2.0 in c:\\users\\pbrun\\anaconda3\\envs\\glmpascal\\lib\\site-packages (from jinja2->spacy>=3.0->pytextrank) (2.1.3)\n",
      "Requirement already satisfied: marisa-trie>=0.7.7 in c:\\users\\pbrun\\anaconda3\\envs\\glmpascal\\lib\\site-packages (from language-data>=1.2->langcodes<4.0.0,>=3.2.0->spacy>=3.0->pytextrank) (1.1.1)\n"
     ]
    },
    {
     "name": "stderr",
     "output_type": "stream",
     "text": [
      "Traceback (most recent call last):\n",
      "  File \"C:\\Users\\pbrun\\anaconda3\\envs\\GLMPascal\\lib\\runpy.py\", line 196, in _run_module_as_main\n",
      "    return _run_code(code, main_globals, None,\n",
      "  File \"C:\\Users\\pbrun\\anaconda3\\envs\\GLMPascal\\lib\\runpy.py\", line 86, in _run_code\n",
      "    exec(code, run_globals)\n",
      "  File \"C:\\Users\\pbrun\\anaconda3\\envs\\GLMPascal\\Scripts\\textrank.exe\\__main__.py\", line 4, in <module>\n",
      "ImportError: cannot import name 'cli' from 'main' (C:\\Users\\pbrun\\switchdrive\\GLMPascal\\main.py)\n"
     ]
    },
    {
     "name": "stdout",
     "output_type": "stream",
     "text": [
      "Collecting en-core-web-sm==3.7.1\n",
      "  Downloading https://github.com/explosion/spacy-models/releases/download/en_core_web_sm-3.7.1/en_core_web_sm-3.7.1-py3-none-any.whl (12.8 MB)\n",
      "     ---------------------------------------- 0.0/12.8 MB ? eta -:--:--\n",
      "     ---------------------------------------- 0.0/12.8 MB 1.3 MB/s eta 0:00:10\n",
      "     --------------------------------------- 0.1/12.8 MB 991.0 kB/s eta 0:00:13\n",
      "     ---------------------------------------- 0.2/12.8 MB 1.3 MB/s eta 0:00:10\n",
      "      --------------------------------------- 0.3/12.8 MB 1.6 MB/s eta 0:00:08\n",
      "      --------------------------------------- 0.3/12.8 MB 1.6 MB/s eta 0:00:08\n",
      "      --------------------------------------- 0.3/12.8 MB 1.2 MB/s eta 0:00:11\n",
      "     - -------------------------------------- 0.4/12.8 MB 1.3 MB/s eta 0:00:10\n",
      "     - -------------------------------------- 0.5/12.8 MB 1.3 MB/s eta 0:00:10\n",
      "     - -------------------------------------- 0.5/12.8 MB 1.3 MB/s eta 0:00:10\n",
      "     - -------------------------------------- 0.5/12.8 MB 1.3 MB/s eta 0:00:10\n",
      "     - -------------------------------------- 0.6/12.8 MB 1.3 MB/s eta 0:00:10\n",
      "     - -------------------------------------- 0.6/12.8 MB 1.3 MB/s eta 0:00:10\n",
      "     -- ------------------------------------- 0.7/12.8 MB 1.2 MB/s eta 0:00:11\n",
      "     -- ------------------------------------- 0.8/12.8 MB 1.2 MB/s eta 0:00:10\n",
      "     -- ------------------------------------- 0.9/12.8 MB 1.3 MB/s eta 0:00:10\n",
      "     -- ------------------------------------- 1.0/12.8 MB 1.3 MB/s eta 0:00:09\n",
      "     --- ------------------------------------ 1.0/12.8 MB 1.3 MB/s eta 0:00:10\n",
      "     --- ------------------------------------ 1.1/12.8 MB 1.3 MB/s eta 0:00:10\n",
      "     --- ------------------------------------ 1.2/12.8 MB 1.3 MB/s eta 0:00:09\n",
      "     --- ------------------------------------ 1.2/12.8 MB 1.4 MB/s eta 0:00:09\n",
      "     ---- ----------------------------------- 1.4/12.8 MB 1.4 MB/s eta 0:00:09\n",
      "     ---- ----------------------------------- 1.4/12.8 MB 1.4 MB/s eta 0:00:09\n",
      "     ---- ----------------------------------- 1.5/12.8 MB 1.4 MB/s eta 0:00:08\n",
      "     ---- ----------------------------------- 1.5/12.8 MB 1.4 MB/s eta 0:00:09\n",
      "     ----- ---------------------------------- 1.6/12.8 MB 1.4 MB/s eta 0:00:08\n",
      "     ----- ---------------------------------- 1.7/12.8 MB 1.4 MB/s eta 0:00:08\n",
      "     ----- ---------------------------------- 1.8/12.8 MB 1.4 MB/s eta 0:00:08\n",
      "     ----- ---------------------------------- 1.9/12.8 MB 1.5 MB/s eta 0:00:08\n",
      "     ------ --------------------------------- 2.0/12.8 MB 1.5 MB/s eta 0:00:08\n",
      "     ------ --------------------------------- 2.1/12.8 MB 1.5 MB/s eta 0:00:08\n",
      "     ------ --------------------------------- 2.2/12.8 MB 1.5 MB/s eta 0:00:07\n",
      "     ------- -------------------------------- 2.3/12.8 MB 1.6 MB/s eta 0:00:07\n",
      "     ------- -------------------------------- 2.4/12.8 MB 1.6 MB/s eta 0:00:07\n",
      "     ------- -------------------------------- 2.5/12.8 MB 1.6 MB/s eta 0:00:07\n",
      "     ------- -------------------------------- 2.5/12.8 MB 1.6 MB/s eta 0:00:07\n",
      "     -------- ------------------------------- 2.7/12.8 MB 1.6 MB/s eta 0:00:07\n",
      "     -------- ------------------------------- 2.8/12.8 MB 1.6 MB/s eta 0:00:07\n",
      "     -------- ------------------------------- 2.8/12.8 MB 1.6 MB/s eta 0:00:07\n",
      "     --------- ------------------------------ 2.9/12.8 MB 1.6 MB/s eta 0:00:07\n",
      "     --------- ------------------------------ 3.0/12.8 MB 1.6 MB/s eta 0:00:07\n",
      "     --------- ------------------------------ 3.1/12.8 MB 1.6 MB/s eta 0:00:06\n",
      "     --------- ------------------------------ 3.2/12.8 MB 1.6 MB/s eta 0:00:06\n",
      "     ---------- ----------------------------- 3.3/12.8 MB 1.6 MB/s eta 0:00:06\n",
      "     ---------- ----------------------------- 3.4/12.8 MB 1.7 MB/s eta 0:00:06\n",
      "     ---------- ----------------------------- 3.5/12.8 MB 1.7 MB/s eta 0:00:06\n",
      "     ----------- ---------------------------- 3.6/12.8 MB 1.7 MB/s eta 0:00:06\n",
      "     ----------- ---------------------------- 3.7/12.8 MB 1.7 MB/s eta 0:00:06\n",
      "     ----------- ---------------------------- 3.8/12.8 MB 1.7 MB/s eta 0:00:06\n",
      "     ------------ --------------------------- 3.9/12.8 MB 1.7 MB/s eta 0:00:06\n",
      "     ------------ --------------------------- 4.0/12.8 MB 1.7 MB/s eta 0:00:06\n",
      "     ------------ --------------------------- 4.1/12.8 MB 1.7 MB/s eta 0:00:05\n",
      "     ------------- -------------------------- 4.2/12.8 MB 1.8 MB/s eta 0:00:05\n",
      "     ------------- -------------------------- 4.3/12.8 MB 1.8 MB/s eta 0:00:05\n",
      "     ------------- -------------------------- 4.4/12.8 MB 1.8 MB/s eta 0:00:05\n",
      "     -------------- ------------------------- 4.5/12.8 MB 1.8 MB/s eta 0:00:05\n",
      "     -------------- ------------------------- 4.6/12.8 MB 1.8 MB/s eta 0:00:05\n",
      "     -------------- ------------------------- 4.7/12.8 MB 1.8 MB/s eta 0:00:05\n",
      "     -------------- ------------------------- 4.8/12.8 MB 1.8 MB/s eta 0:00:05\n",
      "     --------------- ------------------------ 4.9/12.8 MB 1.8 MB/s eta 0:00:05\n",
      "     --------------- ------------------------ 5.0/12.8 MB 1.8 MB/s eta 0:00:05\n",
      "     ---------------- ----------------------- 5.2/12.8 MB 1.8 MB/s eta 0:00:05\n",
      "     ---------------- ----------------------- 5.3/12.8 MB 1.8 MB/s eta 0:00:05\n",
      "     ---------------- ----------------------- 5.4/12.8 MB 1.8 MB/s eta 0:00:04\n",
      "     ----------------- ---------------------- 5.5/12.8 MB 1.9 MB/s eta 0:00:04\n",
      "     ----------------- ---------------------- 5.7/12.8 MB 1.9 MB/s eta 0:00:04\n",
      "     ------------------ --------------------- 5.8/12.8 MB 1.9 MB/s eta 0:00:04\n",
      "     ------------------ --------------------- 6.0/12.8 MB 1.9 MB/s eta 0:00:04\n",
      "     ------------------ --------------------- 6.0/12.8 MB 1.9 MB/s eta 0:00:04\n",
      "     ------------------- -------------------- 6.2/12.8 MB 1.9 MB/s eta 0:00:04\n",
      "     ------------------- -------------------- 6.3/12.8 MB 1.9 MB/s eta 0:00:04\n",
      "     ------------------- -------------------- 6.4/12.8 MB 1.9 MB/s eta 0:00:04\n",
      "     -------------------- ------------------- 6.5/12.8 MB 1.9 MB/s eta 0:00:04\n",
      "     -------------------- ------------------- 6.6/12.8 MB 1.9 MB/s eta 0:00:04\n",
      "     --------------------- ------------------ 6.7/12.8 MB 2.0 MB/s eta 0:00:04\n",
      "     --------------------- ------------------ 6.8/12.8 MB 2.0 MB/s eta 0:00:04\n",
      "     --------------------- ------------------ 7.0/12.8 MB 2.0 MB/s eta 0:00:03\n",
      "     ---------------------- ----------------- 7.1/12.8 MB 2.0 MB/s eta 0:00:03\n",
      "     ---------------------- ----------------- 7.2/12.8 MB 2.0 MB/s eta 0:00:03\n",
      "     ---------------------- ----------------- 7.3/12.8 MB 2.0 MB/s eta 0:00:03\n",
      "     ----------------------- ---------------- 7.4/12.8 MB 2.0 MB/s eta 0:00:03\n",
      "     ----------------------- ---------------- 7.5/12.8 MB 2.0 MB/s eta 0:00:03\n",
      "     ----------------------- ---------------- 7.6/12.8 MB 2.0 MB/s eta 0:00:03\n",
      "     ------------------------ --------------- 7.8/12.8 MB 2.0 MB/s eta 0:00:03\n",
      "     ------------------------ --------------- 7.9/12.8 MB 2.0 MB/s eta 0:00:03\n",
      "     ------------------------- -------------- 8.0/12.8 MB 2.0 MB/s eta 0:00:03\n",
      "     ------------------------- -------------- 8.1/12.8 MB 2.0 MB/s eta 0:00:03\n",
      "     ------------------------- -------------- 8.2/12.8 MB 2.0 MB/s eta 0:00:03\n",
      "     -------------------------- ------------- 8.4/12.8 MB 2.0 MB/s eta 0:00:03\n",
      "     -------------------------- ------------- 8.5/12.8 MB 2.1 MB/s eta 0:00:03\n",
      "     -------------------------- ------------- 8.6/12.8 MB 2.1 MB/s eta 0:00:03\n",
      "     --------------------------- ------------ 8.8/12.8 MB 2.1 MB/s eta 0:00:02\n",
      "     --------------------------- ------------ 8.9/12.8 MB 2.1 MB/s eta 0:00:02\n",
      "     --------------------------- ------------ 8.9/12.8 MB 2.0 MB/s eta 0:00:02\n",
      "     ---------------------------- ----------- 9.0/12.8 MB 2.1 MB/s eta 0:00:02\n",
      "     ---------------------------- ----------- 9.1/12.8 MB 2.0 MB/s eta 0:00:02\n",
      "     ---------------------------- ----------- 9.2/12.8 MB 2.0 MB/s eta 0:00:02\n",
      "     ---------------------------- ----------- 9.3/12.8 MB 2.0 MB/s eta 0:00:02\n",
      "     ----------------------------- ---------- 9.4/12.8 MB 2.0 MB/s eta 0:00:02\n",
      "     ----------------------------- ---------- 9.5/12.8 MB 2.0 MB/s eta 0:00:02\n",
      "     ------------------------------ --------- 9.6/12.8 MB 2.1 MB/s eta 0:00:02\n",
      "     ------------------------------ --------- 9.7/12.8 MB 2.1 MB/s eta 0:00:02\n",
      "     ------------------------------ --------- 9.8/12.8 MB 2.1 MB/s eta 0:00:02\n",
      "     ------------------------------ --------- 9.9/12.8 MB 2.1 MB/s eta 0:00:02\n",
      "     ------------------------------- -------- 10.0/12.8 MB 2.1 MB/s eta 0:00:02\n",
      "     ------------------------------- -------- 10.1/12.8 MB 2.1 MB/s eta 0:00:02\n",
      "     ------------------------------- -------- 10.2/12.8 MB 2.1 MB/s eta 0:00:02\n",
      "     -------------------------------- ------- 10.3/12.8 MB 2.1 MB/s eta 0:00:02\n",
      "     -------------------------------- ------- 10.4/12.8 MB 2.1 MB/s eta 0:00:02\n",
      "     -------------------------------- ------- 10.5/12.8 MB 2.1 MB/s eta 0:00:02\n",
      "     --------------------------------- ------ 10.6/12.8 MB 2.1 MB/s eta 0:00:02\n",
      "     --------------------------------- ------ 10.7/12.8 MB 2.1 MB/s eta 0:00:01\n",
      "     --------------------------------- ------ 10.9/12.8 MB 2.2 MB/s eta 0:00:01\n",
      "     ---------------------------------- ----- 10.9/12.8 MB 2.2 MB/s eta 0:00:01\n",
      "     ---------------------------------- ----- 11.0/12.8 MB 2.2 MB/s eta 0:00:01\n",
      "     ---------------------------------- ----- 11.1/12.8 MB 2.2 MB/s eta 0:00:01\n",
      "     ---------------------------------- ----- 11.2/12.8 MB 2.2 MB/s eta 0:00:01\n",
      "     ----------------------------------- ---- 11.3/12.8 MB 2.2 MB/s eta 0:00:01\n",
      "     ----------------------------------- ---- 11.4/12.8 MB 2.2 MB/s eta 0:00:01\n",
      "     ----------------------------------- ---- 11.5/12.8 MB 2.2 MB/s eta 0:00:01\n",
      "     ------------------------------------ --- 11.6/12.8 MB 2.2 MB/s eta 0:00:01\n",
      "     ------------------------------------ --- 11.7/12.8 MB 2.2 MB/s eta 0:00:01\n",
      "     ------------------------------------ --- 11.8/12.8 MB 2.2 MB/s eta 0:00:01\n",
      "     ------------------------------------- -- 11.9/12.8 MB 2.2 MB/s eta 0:00:01\n",
      "     ------------------------------------- -- 12.0/12.8 MB 2.2 MB/s eta 0:00:01\n",
      "     ------------------------------------- -- 12.1/12.8 MB 2.2 MB/s eta 0:00:01\n",
      "     -------------------------------------- - 12.2/12.8 MB 2.2 MB/s eta 0:00:01\n",
      "     -------------------------------------- - 12.3/12.8 MB 2.2 MB/s eta 0:00:01\n",
      "     -------------------------------------- - 12.4/12.8 MB 2.2 MB/s eta 0:00:01\n",
      "     -------------------------------------- - 12.5/12.8 MB 2.2 MB/s eta 0:00:01\n",
      "     ---------------------------------------  12.6/12.8 MB 2.2 MB/s eta 0:00:01\n",
      "     ---------------------------------------  12.7/12.8 MB 2.2 MB/s eta 0:00:01\n",
      "     ---------------------------------------  12.8/12.8 MB 2.2 MB/s eta 0:00:01\n",
      "     ---------------------------------------- 12.8/12.8 MB 2.2 MB/s eta 0:00:00\n",
      "Requirement already satisfied: spacy<3.8.0,>=3.7.2 in c:\\users\\pbrun\\anaconda3\\envs\\glmpascal\\lib\\site-packages (from en-core-web-sm==3.7.1) (3.7.4)\n",
      "Requirement already satisfied: spacy-legacy<3.1.0,>=3.0.11 in c:\\users\\pbrun\\anaconda3\\envs\\glmpascal\\lib\\site-packages (from spacy<3.8.0,>=3.7.2->en-core-web-sm==3.7.1) (3.0.12)\n",
      "Requirement already satisfied: spacy-loggers<2.0.0,>=1.0.0 in c:\\users\\pbrun\\anaconda3\\envs\\glmpascal\\lib\\site-packages (from spacy<3.8.0,>=3.7.2->en-core-web-sm==3.7.1) (1.0.5)\n",
      "Requirement already satisfied: murmurhash<1.1.0,>=0.28.0 in c:\\users\\pbrun\\anaconda3\\envs\\glmpascal\\lib\\site-packages (from spacy<3.8.0,>=3.7.2->en-core-web-sm==3.7.1) (1.0.10)\n",
      "Requirement already satisfied: cymem<2.1.0,>=2.0.2 in c:\\users\\pbrun\\anaconda3\\envs\\glmpascal\\lib\\site-packages (from spacy<3.8.0,>=3.7.2->en-core-web-sm==3.7.1) (2.0.8)\n",
      "Requirement already satisfied: preshed<3.1.0,>=3.0.2 in c:\\users\\pbrun\\anaconda3\\envs\\glmpascal\\lib\\site-packages (from spacy<3.8.0,>=3.7.2->en-core-web-sm==3.7.1) (3.0.9)\n",
      "Requirement already satisfied: thinc<8.3.0,>=8.2.2 in c:\\users\\pbrun\\anaconda3\\envs\\glmpascal\\lib\\site-packages (from spacy<3.8.0,>=3.7.2->en-core-web-sm==3.7.1) (8.2.3)\n",
      "Requirement already satisfied: wasabi<1.2.0,>=0.9.1 in c:\\users\\pbrun\\anaconda3\\envs\\glmpascal\\lib\\site-packages (from spacy<3.8.0,>=3.7.2->en-core-web-sm==3.7.1) (1.1.2)\n",
      "Requirement already satisfied: srsly<3.0.0,>=2.4.3 in c:\\users\\pbrun\\anaconda3\\envs\\glmpascal\\lib\\site-packages (from spacy<3.8.0,>=3.7.2->en-core-web-sm==3.7.1) (2.4.8)\n",
      "Requirement already satisfied: catalogue<2.1.0,>=2.0.6 in c:\\users\\pbrun\\anaconda3\\envs\\glmpascal\\lib\\site-packages (from spacy<3.8.0,>=3.7.2->en-core-web-sm==3.7.1) (2.0.10)\n",
      "Requirement already satisfied: weasel<0.4.0,>=0.1.0 in c:\\users\\pbrun\\anaconda3\\envs\\glmpascal\\lib\\site-packages (from spacy<3.8.0,>=3.7.2->en-core-web-sm==3.7.1) (0.3.4)\n",
      "Requirement already satisfied: typer<0.10.0,>=0.3.0 in c:\\users\\pbrun\\anaconda3\\envs\\glmpascal\\lib\\site-packages (from spacy<3.8.0,>=3.7.2->en-core-web-sm==3.7.1) (0.9.4)\n",
      "Requirement already satisfied: smart-open<7.0.0,>=5.2.1 in c:\\users\\pbrun\\anaconda3\\envs\\glmpascal\\lib\\site-packages (from spacy<3.8.0,>=3.7.2->en-core-web-sm==3.7.1) (6.4.0)\n",
      "Requirement already satisfied: tqdm<5.0.0,>=4.38.0 in c:\\users\\pbrun\\anaconda3\\envs\\glmpascal\\lib\\site-packages (from spacy<3.8.0,>=3.7.2->en-core-web-sm==3.7.1) (4.66.4)\n",
      "Requirement already satisfied: requests<3.0.0,>=2.13.0 in c:\\users\\pbrun\\anaconda3\\envs\\glmpascal\\lib\\site-packages (from spacy<3.8.0,>=3.7.2->en-core-web-sm==3.7.1) (2.31.0)\n",
      "Requirement already satisfied: pydantic!=1.8,!=1.8.1,<3.0.0,>=1.7.4 in c:\\users\\pbrun\\anaconda3\\envs\\glmpascal\\lib\\site-packages (from spacy<3.8.0,>=3.7.2->en-core-web-sm==3.7.1) (2.7.2)\n",
      "Requirement already satisfied: jinja2 in c:\\users\\pbrun\\anaconda3\\envs\\glmpascal\\lib\\site-packages (from spacy<3.8.0,>=3.7.2->en-core-web-sm==3.7.1) (3.1.3)\n",
      "Requirement already satisfied: setuptools in c:\\users\\pbrun\\anaconda3\\envs\\glmpascal\\lib\\site-packages (from spacy<3.8.0,>=3.7.2->en-core-web-sm==3.7.1) (69.5.1)\n",
      "Requirement already satisfied: packaging>=20.0 in c:\\users\\pbrun\\anaconda3\\envs\\glmpascal\\lib\\site-packages (from spacy<3.8.0,>=3.7.2->en-core-web-sm==3.7.1) (23.2)\n",
      "Requirement already satisfied: langcodes<4.0.0,>=3.2.0 in c:\\users\\pbrun\\anaconda3\\envs\\glmpascal\\lib\\site-packages (from spacy<3.8.0,>=3.7.2->en-core-web-sm==3.7.1) (3.4.0)\n",
      "Requirement already satisfied: numpy>=1.19.0 in c:\\users\\pbrun\\anaconda3\\envs\\glmpascal\\lib\\site-packages (from spacy<3.8.0,>=3.7.2->en-core-web-sm==3.7.1) (1.26.4)\n",
      "Requirement already satisfied: language-data>=1.2 in c:\\users\\pbrun\\anaconda3\\envs\\glmpascal\\lib\\site-packages (from langcodes<4.0.0,>=3.2.0->spacy<3.8.0,>=3.7.2->en-core-web-sm==3.7.1) (1.2.0)\n",
      "Requirement already satisfied: annotated-types>=0.4.0 in c:\\users\\pbrun\\anaconda3\\envs\\glmpascal\\lib\\site-packages (from pydantic!=1.8,!=1.8.1,<3.0.0,>=1.7.4->spacy<3.8.0,>=3.7.2->en-core-web-sm==3.7.1) (0.7.0)\n",
      "Requirement already satisfied: pydantic-core==2.18.3 in c:\\users\\pbrun\\anaconda3\\envs\\glmpascal\\lib\\site-packages (from pydantic!=1.8,!=1.8.1,<3.0.0,>=1.7.4->spacy<3.8.0,>=3.7.2->en-core-web-sm==3.7.1) (2.18.3)\n",
      "Requirement already satisfied: typing-extensions>=4.6.1 in c:\\users\\pbrun\\anaconda3\\envs\\glmpascal\\lib\\site-packages (from pydantic!=1.8,!=1.8.1,<3.0.0,>=1.7.4->spacy<3.8.0,>=3.7.2->en-core-web-sm==3.7.1) (4.11.0)\n",
      "Requirement already satisfied: charset-normalizer<4,>=2 in c:\\users\\pbrun\\anaconda3\\envs\\glmpascal\\lib\\site-packages (from requests<3.0.0,>=2.13.0->spacy<3.8.0,>=3.7.2->en-core-web-sm==3.7.1) (2.0.4)\n",
      "Requirement already satisfied: idna<4,>=2.5 in c:\\users\\pbrun\\anaconda3\\envs\\glmpascal\\lib\\site-packages (from requests<3.0.0,>=2.13.0->spacy<3.8.0,>=3.7.2->en-core-web-sm==3.7.1) (3.7)\n",
      "Requirement already satisfied: urllib3<3,>=1.21.1 in c:\\users\\pbrun\\anaconda3\\envs\\glmpascal\\lib\\site-packages (from requests<3.0.0,>=2.13.0->spacy<3.8.0,>=3.7.2->en-core-web-sm==3.7.1) (2.2.1)\n",
      "Requirement already satisfied: certifi>=2017.4.17 in c:\\users\\pbrun\\anaconda3\\envs\\glmpascal\\lib\\site-packages (from requests<3.0.0,>=2.13.0->spacy<3.8.0,>=3.7.2->en-core-web-sm==3.7.1) (2024.2.2)\n",
      "Requirement already satisfied: blis<0.8.0,>=0.7.8 in c:\\users\\pbrun\\anaconda3\\envs\\glmpascal\\lib\\site-packages (from thinc<8.3.0,>=8.2.2->spacy<3.8.0,>=3.7.2->en-core-web-sm==3.7.1) (0.7.11)\n",
      "Requirement already satisfied: confection<1.0.0,>=0.0.1 in c:\\users\\pbrun\\anaconda3\\envs\\glmpascal\\lib\\site-packages (from thinc<8.3.0,>=8.2.2->spacy<3.8.0,>=3.7.2->en-core-web-sm==3.7.1) (0.1.4)\n",
      "Requirement already satisfied: colorama in c:\\users\\pbrun\\anaconda3\\envs\\glmpascal\\lib\\site-packages (from tqdm<5.0.0,>=4.38.0->spacy<3.8.0,>=3.7.2->en-core-web-sm==3.7.1) (0.4.6)\n",
      "Requirement already satisfied: click<9.0.0,>=7.1.1 in c:\\users\\pbrun\\anaconda3\\envs\\glmpascal\\lib\\site-packages (from typer<0.10.0,>=0.3.0->spacy<3.8.0,>=3.7.2->en-core-web-sm==3.7.1) (8.1.7)\n",
      "Requirement already satisfied: cloudpathlib<0.17.0,>=0.7.0 in c:\\users\\pbrun\\anaconda3\\envs\\glmpascal\\lib\\site-packages (from weasel<0.4.0,>=0.1.0->spacy<3.8.0,>=3.7.2->en-core-web-sm==3.7.1) (0.16.0)\n",
      "Requirement already satisfied: MarkupSafe>=2.0 in c:\\users\\pbrun\\anaconda3\\envs\\glmpascal\\lib\\site-packages (from jinja2->spacy<3.8.0,>=3.7.2->en-core-web-sm==3.7.1) (2.1.3)\n",
      "Requirement already satisfied: marisa-trie>=0.7.7 in c:\\users\\pbrun\\anaconda3\\envs\\glmpascal\\lib\\site-packages (from language-data>=1.2->langcodes<4.0.0,>=3.2.0->spacy<3.8.0,>=3.7.2->en-core-web-sm==3.7.1) (1.1.1)\n",
      "\u001B[38;5;2m[+] Download and installation successful\u001B[0m\n",
      "You can now load the package via spacy.load('en_core_web_sm')\n",
      "C:\\Users\\pbrun\\anaconda3\\envs\\GLMPascal\\lib\\site-packages\n"
     ]
    },
    {
     "data": {
      "text/plain": "<pytextrank.base.BaseTextRankFactory at 0x1e7bc69f610>"
     },
     "execution_count": 1,
     "metadata": {},
     "output_type": "execute_result"
    }
   ],
   "source": [
    "def setup(): \n",
    "    #installing requirements :\n",
    "    !pip install click\n",
    "    !pip install networkx\n",
    "    !pip install nltk\n",
    "    !pip install numpy\n",
    "    !pip install editdistance==0.4 #<- only works on Python 3.10!\n",
    "\n",
    "    !pip install git+https://github.com/davidadamojr/TextRank.git\n",
    "    !pip install pytextrank\n",
    "    !textrank initialize\n",
    "    !python -m spacy download en_core_web_sm\n",
    "    return\n",
    "\n",
    "setup() #Does not work with Python 3.11\n",
    "\n",
    "import pandas as pd\n",
    "import json\n",
    "import pytextrank\n",
    "import spacy\n",
    "\n",
    "# Load a spacy model\n",
    "nlp = spacy.load(\"en_core_web_sm\")\n",
    "# Add PyTextRank to the spaCy pipeline\n",
    "nlp.add_pipe(\"textrank\")"
   ]
  },
  {
   "cell_type": "markdown",
   "source": [
    "Documentation Textrank: <https://github.com/davidadamojr/TextRank/blob/master/README.md>\n",
    "Documentation PyTextRank: <https://derwen.ai/docs/ptr/>"
   ],
   "metadata": {
    "collapsed": false
   },
   "id": "d96c0604c47b4d99"
  },
  {
   "cell_type": "markdown",
   "id": "c4fec426-23bd-47a7-833e-663939785704",
   "metadata": {},
   "source": [
    "# Load & Clean Data"
   ]
  },
  {
   "cell_type": "markdown",
   "id": "13688e24-1afc-4853-bb7d-607fcf823953",
   "metadata": {},
   "source": [
    "Sources: \n",
    "Cleantech: <https://www.kaggle.com/datasets/jannalipenkova/cleantech-media-dataset>\n",
    "Google patents: <https://www.kaggle.com/datasets/prakharbhandari20/cleantech-google-patent-dataset>\n",
    "Cleaning process as in phase 1."
   ]
  },
  {
   "cell_type": "code",
   "execution_count": 4,
   "id": "0078befd-0e9d-41c9-bfc6-66e2fdc7ccae",
   "metadata": {
    "ExecuteTime": {
     "end_time": "2024-05-29T10:07:16.882243900Z",
     "start_time": "2024-05-29T10:07:16.404058800Z"
    }
   },
   "outputs": [
    {
     "data": {
      "text/plain": "                                                   title       date author  \\\n1280   Qatar to Slash Emissions as LNG Expansion Adva... 2021-01-13    NaN   \n1281                India Launches Its First 700 MW PHWR 2021-01-15    NaN   \n1283               New Chapter for US-China Energy Trade 2021-01-20    NaN   \n1284   Japan: Slow Restarts Cast Doubt on 2030 Energy... 2021-01-22    NaN   \n1285      NYC Pension Funds to Divest Fossil Fuel Shares 2021-01-25    NaN   \n...                                                  ...        ...    ...   \n81812  Strata Clean Energy Nets $ 300 Million in Fund... 2023-11-06    NaN   \n81813  Orsted Deploying SparkCognition Renewable Suit... 2023-11-07    NaN   \n81814     Veolia Has Plans for 5 MW of Solar in Arkansas 2023-11-07    NaN   \n81815                      SunEdison: Too Big, Too Fast? 2023-11-08    NaN   \n81816  Vikings Solar-Plus-Storage Development Nets Fi... 2023-11-08    NaN   \n\n                                                 content            domain  \\\n1280   Qatar Petroleum ( QP) is targeting aggressive ...       energyintel   \n1281   Nuclear Power Corp. of India Ltd. ( NPCIL) syn...       energyintel   \n1283   New US President Joe Biden took office this we...       energyintel   \n1284   The slow pace of Japanese reactor restarts con...       energyintel   \n1285   Two of New York City's largest pension funds s...       energyintel   \n...                                                  ...               ...   \n81812  Strata Clean Energy has closed a $ 300 million...  solarindustrymag   \n81813  Global renewable energy developer Ørsted is de...  solarindustrymag   \n81814  Veolia North America, a provider of environmen...  solarindustrymag   \n81815  Once the self-proclaimed “ leading renewable p...  solarindustrymag   \n81816  Arevon Energy Inc. has closed financing on the...  solarindustrymag   \n\n                                                     url  \n1280   https://www.energyintel.com/0000017b-a7dc-de4c...  \n1281   https://www.energyintel.com/0000017b-a7dc-de4c...  \n1283   https://www.energyintel.com/0000017b-a7dc-de4c...  \n1284   https://www.energyintel.com/0000017b-a7dc-de4c...  \n1285   https://www.energyintel.com/0000017b-a7dc-de4c...  \n...                                                  ...  \n81812  https://solarindustrymag.com/strata-clean-ener...  \n81813  https://solarindustrymag.com/orsted-deploying-...  \n81814  https://solarindustrymag.com/veolia-has-plans-...  \n81815  http://www.solarindustrymag.com/online/issues/...  \n81816  https://solarindustrymag.com/vikings-solar-plu...  \n\n[9588 rows x 6 columns]",
      "text/html": "<div>\n<style scoped>\n    .dataframe tbody tr th:only-of-type {\n        vertical-align: middle;\n    }\n\n    .dataframe tbody tr th {\n        vertical-align: top;\n    }\n\n    .dataframe thead th {\n        text-align: right;\n    }\n</style>\n<table border=\"1\" class=\"dataframe\">\n  <thead>\n    <tr style=\"text-align: right;\">\n      <th></th>\n      <th>title</th>\n      <th>date</th>\n      <th>author</th>\n      <th>content</th>\n      <th>domain</th>\n      <th>url</th>\n    </tr>\n  </thead>\n  <tbody>\n    <tr>\n      <th>1280</th>\n      <td>Qatar to Slash Emissions as LNG Expansion Adva...</td>\n      <td>2021-01-13</td>\n      <td>NaN</td>\n      <td>Qatar Petroleum ( QP) is targeting aggressive ...</td>\n      <td>energyintel</td>\n      <td>https://www.energyintel.com/0000017b-a7dc-de4c...</td>\n    </tr>\n    <tr>\n      <th>1281</th>\n      <td>India Launches Its First 700 MW PHWR</td>\n      <td>2021-01-15</td>\n      <td>NaN</td>\n      <td>Nuclear Power Corp. of India Ltd. ( NPCIL) syn...</td>\n      <td>energyintel</td>\n      <td>https://www.energyintel.com/0000017b-a7dc-de4c...</td>\n    </tr>\n    <tr>\n      <th>1283</th>\n      <td>New Chapter for US-China Energy Trade</td>\n      <td>2021-01-20</td>\n      <td>NaN</td>\n      <td>New US President Joe Biden took office this we...</td>\n      <td>energyintel</td>\n      <td>https://www.energyintel.com/0000017b-a7dc-de4c...</td>\n    </tr>\n    <tr>\n      <th>1284</th>\n      <td>Japan: Slow Restarts Cast Doubt on 2030 Energy...</td>\n      <td>2021-01-22</td>\n      <td>NaN</td>\n      <td>The slow pace of Japanese reactor restarts con...</td>\n      <td>energyintel</td>\n      <td>https://www.energyintel.com/0000017b-a7dc-de4c...</td>\n    </tr>\n    <tr>\n      <th>1285</th>\n      <td>NYC Pension Funds to Divest Fossil Fuel Shares</td>\n      <td>2021-01-25</td>\n      <td>NaN</td>\n      <td>Two of New York City's largest pension funds s...</td>\n      <td>energyintel</td>\n      <td>https://www.energyintel.com/0000017b-a7dc-de4c...</td>\n    </tr>\n    <tr>\n      <th>...</th>\n      <td>...</td>\n      <td>...</td>\n      <td>...</td>\n      <td>...</td>\n      <td>...</td>\n      <td>...</td>\n    </tr>\n    <tr>\n      <th>81812</th>\n      <td>Strata Clean Energy Nets $ 300 Million in Fund...</td>\n      <td>2023-11-06</td>\n      <td>NaN</td>\n      <td>Strata Clean Energy has closed a $ 300 million...</td>\n      <td>solarindustrymag</td>\n      <td>https://solarindustrymag.com/strata-clean-ener...</td>\n    </tr>\n    <tr>\n      <th>81813</th>\n      <td>Orsted Deploying SparkCognition Renewable Suit...</td>\n      <td>2023-11-07</td>\n      <td>NaN</td>\n      <td>Global renewable energy developer Ørsted is de...</td>\n      <td>solarindustrymag</td>\n      <td>https://solarindustrymag.com/orsted-deploying-...</td>\n    </tr>\n    <tr>\n      <th>81814</th>\n      <td>Veolia Has Plans for 5 MW of Solar in Arkansas</td>\n      <td>2023-11-07</td>\n      <td>NaN</td>\n      <td>Veolia North America, a provider of environmen...</td>\n      <td>solarindustrymag</td>\n      <td>https://solarindustrymag.com/veolia-has-plans-...</td>\n    </tr>\n    <tr>\n      <th>81815</th>\n      <td>SunEdison: Too Big, Too Fast?</td>\n      <td>2023-11-08</td>\n      <td>NaN</td>\n      <td>Once the self-proclaimed “ leading renewable p...</td>\n      <td>solarindustrymag</td>\n      <td>http://www.solarindustrymag.com/online/issues/...</td>\n    </tr>\n    <tr>\n      <th>81816</th>\n      <td>Vikings Solar-Plus-Storage Development Nets Fi...</td>\n      <td>2023-11-08</td>\n      <td>NaN</td>\n      <td>Arevon Energy Inc. has closed financing on the...</td>\n      <td>solarindustrymag</td>\n      <td>https://solarindustrymag.com/vikings-solar-plu...</td>\n    </tr>\n  </tbody>\n</table>\n<p>9588 rows × 6 columns</p>\n</div>"
     },
     "execution_count": 4,
     "metadata": {},
     "output_type": "execute_result"
    }
   ],
   "source": [
    "# load cleantech data\n",
    "path=\"C:/Users/pbrun/Downloads/cleantech_media_dataset_v2_2024-02-23.csv\"\n",
    "\n",
    "df_cleantech_media = pd.read_csv(path, index_col=0, parse_dates=['date'])\n",
    "\n",
    "# clean up unnecessary symbols\n",
    "df_cleantech_media.content = df_cleantech_media['content'].str.strip('[]\"\\'• ')\n",
    "\n",
    "# drop the five duplicates\n",
    "df_cleantech_media.drop_duplicates(subset=['content'], inplace=True)\n",
    "df_cleantech_media"
   ]
  },
  {
   "cell_type": "code",
   "execution_count": 19,
   "outputs": [
    {
     "data": {
      "text/plain": "      publication_number application_number country_code publication_date  \\\n0       US-2022239235-A1  US-202217717397-A           US       2022-07-28   \n1       US-2022239251-A1  US-202217580956-A           US       2022-07-28   \n4         US-11396827-B2  US-202117606042-A           US       2022-07-26   \n5         CN-114772674-A  CN-202210500131-A           CN       2022-07-22   \n6         CN-217026795-U  CN-202220668705-U           CN       2022-07-22   \n...                  ...                ...          ...              ...   \n29993     CN-214850044-U  CN-202120980740-U           CN       2021-11-23   \n29994     CN-214840532-U  CN-202121225269-U           CN       2021-11-23   \n29995     CN-214835218-U  CN-202121309411-U           CN       2021-11-23   \n29996     CN-113690940-A  CN-202111107806-A           CN       2021-11-23   \n29997     CN-113683210-A  CN-202110998828-A           CN       2021-11-23   \n\n                                                inventor  \\\n0                                                     []   \n1                                                     []   \n4                                                     []   \n5                                                     []   \n6                                                     []   \n...                                                  ...   \n29993                              [WANG HAI, WANG YANG]   \n29994  [Gao Zhelu, Dai Jiangyue, LIU ZIYI, YAN CONGQI...   \n29995  [ZHANG ANZHI, ZHANG WANYONG, HUANG HUIYONG, XU...   \n29996         [ZHANG YUCHUAN, LONG HAIYANG, TAN CUNZHEN]   \n29997                                        [An Zhixia]   \n\n                                                   title  \\\n0      Adaptable DC-AC Inverter Drive System and Oper...   \n1      System for providing the energy from a single ...   \n4      Control method for optimizing solar-to-power e...   \n5      Low-carbon running saline wastewater treatment...   \n6      Water ecological remediation device convenient...   \n...                                                  ...   \n29993  Box transformer substation capable of adjustin...   \n29994  Garden waste anaerobic fermentation coupling m...   \n29995  Unmanned aerial vehicle hangar with function o...   \n29996                   Wind power supply control method   \n29997  Floating solar aeration device based on wirele...   \n\n                                                abstract abstract_lang  \n0      Disclosed is an adaptable DC-AC inverter syste...          [en]  \n1      In accordance with an example embodiment, a so...          [en]  \n4      A control method for optimizing a solar-to-pow...          [en]  \n5      The invention discloses a system and a method ...      [zh, en]  \n6      The utility model discloses a water ecological...      [zh, en]  \n...                                                  ...           ...  \n29993  The utility model relates to a case becomes te...      [en, zh]  \n29994  The utility model discloses a gardens discarde...      [en, zh]  \n29995  The utility model relates to an unmanned air v...      [en, zh]  \n29996  The invention provides a wind power supply con...      [en, zh]  \n29997  The invention discloses a floating solar aerat...      [zh, en]  \n\n[13199 rows x 8 columns]",
      "text/html": "<div>\n<style scoped>\n    .dataframe tbody tr th:only-of-type {\n        vertical-align: middle;\n    }\n\n    .dataframe tbody tr th {\n        vertical-align: top;\n    }\n\n    .dataframe thead th {\n        text-align: right;\n    }\n</style>\n<table border=\"1\" class=\"dataframe\">\n  <thead>\n    <tr style=\"text-align: right;\">\n      <th></th>\n      <th>publication_number</th>\n      <th>application_number</th>\n      <th>country_code</th>\n      <th>publication_date</th>\n      <th>inventor</th>\n      <th>title</th>\n      <th>abstract</th>\n      <th>abstract_lang</th>\n    </tr>\n  </thead>\n  <tbody>\n    <tr>\n      <th>0</th>\n      <td>US-2022239235-A1</td>\n      <td>US-202217717397-A</td>\n      <td>US</td>\n      <td>2022-07-28</td>\n      <td>[]</td>\n      <td>Adaptable DC-AC Inverter Drive System and Oper...</td>\n      <td>Disclosed is an adaptable DC-AC inverter syste...</td>\n      <td>[en]</td>\n    </tr>\n    <tr>\n      <th>1</th>\n      <td>US-2022239251-A1</td>\n      <td>US-202217580956-A</td>\n      <td>US</td>\n      <td>2022-07-28</td>\n      <td>[]</td>\n      <td>System for providing the energy from a single ...</td>\n      <td>In accordance with an example embodiment, a so...</td>\n      <td>[en]</td>\n    </tr>\n    <tr>\n      <th>4</th>\n      <td>US-11396827-B2</td>\n      <td>US-202117606042-A</td>\n      <td>US</td>\n      <td>2022-07-26</td>\n      <td>[]</td>\n      <td>Control method for optimizing solar-to-power e...</td>\n      <td>A control method for optimizing a solar-to-pow...</td>\n      <td>[en]</td>\n    </tr>\n    <tr>\n      <th>5</th>\n      <td>CN-114772674-A</td>\n      <td>CN-202210500131-A</td>\n      <td>CN</td>\n      <td>2022-07-22</td>\n      <td>[]</td>\n      <td>Low-carbon running saline wastewater treatment...</td>\n      <td>The invention discloses a system and a method ...</td>\n      <td>[zh, en]</td>\n    </tr>\n    <tr>\n      <th>6</th>\n      <td>CN-217026795-U</td>\n      <td>CN-202220668705-U</td>\n      <td>CN</td>\n      <td>2022-07-22</td>\n      <td>[]</td>\n      <td>Water ecological remediation device convenient...</td>\n      <td>The utility model discloses a water ecological...</td>\n      <td>[zh, en]</td>\n    </tr>\n    <tr>\n      <th>...</th>\n      <td>...</td>\n      <td>...</td>\n      <td>...</td>\n      <td>...</td>\n      <td>...</td>\n      <td>...</td>\n      <td>...</td>\n      <td>...</td>\n    </tr>\n    <tr>\n      <th>29993</th>\n      <td>CN-214850044-U</td>\n      <td>CN-202120980740-U</td>\n      <td>CN</td>\n      <td>2021-11-23</td>\n      <td>[WANG HAI, WANG YANG]</td>\n      <td>Box transformer substation capable of adjustin...</td>\n      <td>The utility model relates to a case becomes te...</td>\n      <td>[en, zh]</td>\n    </tr>\n    <tr>\n      <th>29994</th>\n      <td>CN-214840532-U</td>\n      <td>CN-202121225269-U</td>\n      <td>CN</td>\n      <td>2021-11-23</td>\n      <td>[Gao Zhelu, Dai Jiangyue, LIU ZIYI, YAN CONGQI...</td>\n      <td>Garden waste anaerobic fermentation coupling m...</td>\n      <td>The utility model discloses a gardens discarde...</td>\n      <td>[en, zh]</td>\n    </tr>\n    <tr>\n      <th>29995</th>\n      <td>CN-214835218-U</td>\n      <td>CN-202121309411-U</td>\n      <td>CN</td>\n      <td>2021-11-23</td>\n      <td>[ZHANG ANZHI, ZHANG WANYONG, HUANG HUIYONG, XU...</td>\n      <td>Unmanned aerial vehicle hangar with function o...</td>\n      <td>The utility model relates to an unmanned air v...</td>\n      <td>[en, zh]</td>\n    </tr>\n    <tr>\n      <th>29996</th>\n      <td>CN-113690940-A</td>\n      <td>CN-202111107806-A</td>\n      <td>CN</td>\n      <td>2021-11-23</td>\n      <td>[ZHANG YUCHUAN, LONG HAIYANG, TAN CUNZHEN]</td>\n      <td>Wind power supply control method</td>\n      <td>The invention provides a wind power supply con...</td>\n      <td>[en, zh]</td>\n    </tr>\n    <tr>\n      <th>29997</th>\n      <td>CN-113683210-A</td>\n      <td>CN-202110998828-A</td>\n      <td>CN</td>\n      <td>2021-11-23</td>\n      <td>[An Zhixia]</td>\n      <td>Floating solar aeration device based on wirele...</td>\n      <td>The invention discloses a floating solar aerat...</td>\n      <td>[zh, en]</td>\n    </tr>\n  </tbody>\n</table>\n<p>13199 rows × 8 columns</p>\n</div>"
     },
     "execution_count": 19,
     "metadata": {},
     "output_type": "execute_result"
    }
   ],
   "source": [
    "# load google patents data\n",
    "filepath=\"C:/Users/pbrun/Downloads/bq-results-20240124-055833-1706076079048.json\"\n",
    "\n",
    "def filter_english(texts):\n",
    "    for item in texts:\n",
    "        if item[\"language\"] == \"en\":\n",
    "            return item[\"text\"]\n",
    "    return None  # Return None if no English text is found\n",
    "def loadAndClean(filepath):\n",
    "    df = pd.read_json(filepath, lines=True)\n",
    "    df['title'] = df['title_localized'].apply(filter_english)\n",
    "    df['abstract'] = df['abstract_localized'].apply(filter_english)\n",
    "    df['abstract_lang'] = df['abstract_localized'].apply(lambda x: [item['language'] for item in x])\n",
    "    df = df.dropna(subset=['abstract'])\n",
    "    df.cpc.values[:5]\n",
    "    df.drop(columns=['cpc', 'abstract_localized', 'title_localized'], inplace=True)\n",
    "    df.publication_date = pd.to_datetime(df_google_patents.publication_date, format=\"%Y%m%d\")\n",
    "    df[df.duplicated(subset=['abstract'], keep=False)]\n",
    "    df.drop_duplicates(subset=['abstract'], inplace=True)\n",
    "    return df\n",
    "\n",
    "df_google_patents=loadAndClean(filepath)\n",
    "df_google_patents"
   ],
   "metadata": {
    "collapsed": false,
    "ExecuteTime": {
     "end_time": "2024-05-29T11:07:54.800704300Z",
     "start_time": "2024-05-29T11:07:53.210788200Z"
    }
   },
   "id": "544ca07346c05747"
  },
  {
   "cell_type": "markdown",
   "source": [
    "# Summarize Content with textrank"
   ],
   "metadata": {
    "collapsed": false
   },
   "id": "4108caf75a60e48f"
  },
  {
   "cell_type": "code",
   "execution_count": null,
   "outputs": [],
   "source": [
    "def summarizeText(text):\n",
    "    doc = nlp(text)\n",
    "    summary = \"\\n\".join([sent.text for sent in doc._.textrank.summary(limit_phrases=15, limit_sentences=3)])\n",
    "    return summary"
   ],
   "metadata": {
    "collapsed": false
   },
   "id": "9b8561d1df117de5"
  },
  {
   "cell_type": "code",
   "execution_count": 5,
   "outputs": [
    {
     "data": {
      "text/plain": "                                                   title       date author  \\\n1280   Qatar to Slash Emissions as LNG Expansion Adva... 2021-01-13    NaN   \n1281                India Launches Its First 700 MW PHWR 2021-01-15    NaN   \n1283               New Chapter for US-China Energy Trade 2021-01-20    NaN   \n1284   Japan: Slow Restarts Cast Doubt on 2030 Energy... 2021-01-22    NaN   \n1285      NYC Pension Funds to Divest Fossil Fuel Shares 2021-01-25    NaN   \n...                                                  ...        ...    ...   \n81812  Strata Clean Energy Nets $ 300 Million in Fund... 2023-11-06    NaN   \n81813  Orsted Deploying SparkCognition Renewable Suit... 2023-11-07    NaN   \n81814     Veolia Has Plans for 5 MW of Solar in Arkansas 2023-11-07    NaN   \n81815                      SunEdison: Too Big, Too Fast? 2023-11-08    NaN   \n81816  Vikings Solar-Plus-Storage Development Nets Fi... 2023-11-08    NaN   \n\n                                                 content            domain  \\\n1280   Qatar Petroleum ( QP) is targeting aggressive ...       energyintel   \n1281   Nuclear Power Corp. of India Ltd. ( NPCIL) syn...       energyintel   \n1283   New US President Joe Biden took office this we...       energyintel   \n1284   The slow pace of Japanese reactor restarts con...       energyintel   \n1285   Two of New York City's largest pension funds s...       energyintel   \n...                                                  ...               ...   \n81812  Strata Clean Energy has closed a $ 300 million...  solarindustrymag   \n81813  Global renewable energy developer Ørsted is de...  solarindustrymag   \n81814  Veolia North America, a provider of environmen...  solarindustrymag   \n81815  Once the self-proclaimed “ leading renewable p...  solarindustrymag   \n81816  Arevon Energy Inc. has closed financing on the...  solarindustrymag   \n\n                                                     url  \\\n1280   https://www.energyintel.com/0000017b-a7dc-de4c...   \n1281   https://www.energyintel.com/0000017b-a7dc-de4c...   \n1283   https://www.energyintel.com/0000017b-a7dc-de4c...   \n1284   https://www.energyintel.com/0000017b-a7dc-de4c...   \n1285   https://www.energyintel.com/0000017b-a7dc-de4c...   \n...                                                  ...   \n81812  https://solarindustrymag.com/strata-clean-ener...   \n81813  https://solarindustrymag.com/orsted-deploying-...   \n81814  https://solarindustrymag.com/veolia-has-plans-...   \n81815  http://www.solarindustrymag.com/online/issues/...   \n81816  https://solarindustrymag.com/vikings-solar-plu...   \n\n                                              summarized  \n1280   Qatar Petroleum ( QP) is targeting aggressive ...  \n1281   Nuclear Power Corp. of India Ltd. ( NPCIL) syn...  \n1283   Trump demanded bigger purchases of US energy p...  \n1284   The NRA has yet to approve applications to cha...  \n1285   The announcement by the New York City pension ...  \n...                                                  ...  \n81812  ', 'Nomura Securities International Inc. led t...  \n81813  Global renewable energy developer Ørsted is de...  \n81814  Veolia North America, a provider of environmen...  \n81815  Once the self-proclaimed “ leading renewable p...  \n81816  ', 'Arevon secured a commitment with J.P. Morg...  \n\n[9588 rows x 7 columns]",
      "text/html": "<div>\n<style scoped>\n    .dataframe tbody tr th:only-of-type {\n        vertical-align: middle;\n    }\n\n    .dataframe tbody tr th {\n        vertical-align: top;\n    }\n\n    .dataframe thead th {\n        text-align: right;\n    }\n</style>\n<table border=\"1\" class=\"dataframe\">\n  <thead>\n    <tr style=\"text-align: right;\">\n      <th></th>\n      <th>title</th>\n      <th>date</th>\n      <th>author</th>\n      <th>content</th>\n      <th>domain</th>\n      <th>url</th>\n      <th>summarized</th>\n    </tr>\n  </thead>\n  <tbody>\n    <tr>\n      <th>1280</th>\n      <td>Qatar to Slash Emissions as LNG Expansion Adva...</td>\n      <td>2021-01-13</td>\n      <td>NaN</td>\n      <td>Qatar Petroleum ( QP) is targeting aggressive ...</td>\n      <td>energyintel</td>\n      <td>https://www.energyintel.com/0000017b-a7dc-de4c...</td>\n      <td>Qatar Petroleum ( QP) is targeting aggressive ...</td>\n    </tr>\n    <tr>\n      <th>1281</th>\n      <td>India Launches Its First 700 MW PHWR</td>\n      <td>2021-01-15</td>\n      <td>NaN</td>\n      <td>Nuclear Power Corp. of India Ltd. ( NPCIL) syn...</td>\n      <td>energyintel</td>\n      <td>https://www.energyintel.com/0000017b-a7dc-de4c...</td>\n      <td>Nuclear Power Corp. of India Ltd. ( NPCIL) syn...</td>\n    </tr>\n    <tr>\n      <th>1283</th>\n      <td>New Chapter for US-China Energy Trade</td>\n      <td>2021-01-20</td>\n      <td>NaN</td>\n      <td>New US President Joe Biden took office this we...</td>\n      <td>energyintel</td>\n      <td>https://www.energyintel.com/0000017b-a7dc-de4c...</td>\n      <td>Trump demanded bigger purchases of US energy p...</td>\n    </tr>\n    <tr>\n      <th>1284</th>\n      <td>Japan: Slow Restarts Cast Doubt on 2030 Energy...</td>\n      <td>2021-01-22</td>\n      <td>NaN</td>\n      <td>The slow pace of Japanese reactor restarts con...</td>\n      <td>energyintel</td>\n      <td>https://www.energyintel.com/0000017b-a7dc-de4c...</td>\n      <td>The NRA has yet to approve applications to cha...</td>\n    </tr>\n    <tr>\n      <th>1285</th>\n      <td>NYC Pension Funds to Divest Fossil Fuel Shares</td>\n      <td>2021-01-25</td>\n      <td>NaN</td>\n      <td>Two of New York City's largest pension funds s...</td>\n      <td>energyintel</td>\n      <td>https://www.energyintel.com/0000017b-a7dc-de4c...</td>\n      <td>The announcement by the New York City pension ...</td>\n    </tr>\n    <tr>\n      <th>...</th>\n      <td>...</td>\n      <td>...</td>\n      <td>...</td>\n      <td>...</td>\n      <td>...</td>\n      <td>...</td>\n      <td>...</td>\n    </tr>\n    <tr>\n      <th>81812</th>\n      <td>Strata Clean Energy Nets $ 300 Million in Fund...</td>\n      <td>2023-11-06</td>\n      <td>NaN</td>\n      <td>Strata Clean Energy has closed a $ 300 million...</td>\n      <td>solarindustrymag</td>\n      <td>https://solarindustrymag.com/strata-clean-ener...</td>\n      <td>', 'Nomura Securities International Inc. led t...</td>\n    </tr>\n    <tr>\n      <th>81813</th>\n      <td>Orsted Deploying SparkCognition Renewable Suit...</td>\n      <td>2023-11-07</td>\n      <td>NaN</td>\n      <td>Global renewable energy developer Ørsted is de...</td>\n      <td>solarindustrymag</td>\n      <td>https://solarindustrymag.com/orsted-deploying-...</td>\n      <td>Global renewable energy developer Ørsted is de...</td>\n    </tr>\n    <tr>\n      <th>81814</th>\n      <td>Veolia Has Plans for 5 MW of Solar in Arkansas</td>\n      <td>2023-11-07</td>\n      <td>NaN</td>\n      <td>Veolia North America, a provider of environmen...</td>\n      <td>solarindustrymag</td>\n      <td>https://solarindustrymag.com/veolia-has-plans-...</td>\n      <td>Veolia North America, a provider of environmen...</td>\n    </tr>\n    <tr>\n      <th>81815</th>\n      <td>SunEdison: Too Big, Too Fast?</td>\n      <td>2023-11-08</td>\n      <td>NaN</td>\n      <td>Once the self-proclaimed “ leading renewable p...</td>\n      <td>solarindustrymag</td>\n      <td>http://www.solarindustrymag.com/online/issues/...</td>\n      <td>Once the self-proclaimed “ leading renewable p...</td>\n    </tr>\n    <tr>\n      <th>81816</th>\n      <td>Vikings Solar-Plus-Storage Development Nets Fi...</td>\n      <td>2023-11-08</td>\n      <td>NaN</td>\n      <td>Arevon Energy Inc. has closed financing on the...</td>\n      <td>solarindustrymag</td>\n      <td>https://solarindustrymag.com/vikings-solar-plu...</td>\n      <td>', 'Arevon secured a commitment with J.P. Morg...</td>\n    </tr>\n  </tbody>\n</table>\n<p>9588 rows × 7 columns</p>\n</div>"
     },
     "execution_count": 5,
     "metadata": {},
     "output_type": "execute_result"
    }
   ],
   "source": [
    "# Summarize Cleantech\n",
    "df_cleantech_media['content_summarized']=df_cleantech_media['content'].apply(summarizeText)\n",
    "df_cleantech_media"
   ],
   "metadata": {
    "collapsed": false,
    "ExecuteTime": {
     "end_time": "2024-05-29T10:23:03.101919Z",
     "start_time": "2024-05-29T10:07:42.513385Z"
    }
   },
   "id": "6133c29cfaa1c4c3"
  },
  {
   "cell_type": "code",
   "execution_count": 20,
   "outputs": [
    {
     "data": {
      "text/plain": "      publication_number application_number country_code publication_date  \\\n0       US-2022239235-A1  US-202217717397-A           US       2022-07-28   \n1       US-2022239251-A1  US-202217580956-A           US       2022-07-28   \n4         US-11396827-B2  US-202117606042-A           US       2022-07-26   \n5         CN-114772674-A  CN-202210500131-A           CN       2022-07-22   \n6         CN-217026795-U  CN-202220668705-U           CN       2022-07-22   \n...                  ...                ...          ...              ...   \n29993     CN-214850044-U  CN-202120980740-U           CN       2021-11-23   \n29994     CN-214840532-U  CN-202121225269-U           CN       2021-11-23   \n29995     CN-214835218-U  CN-202121309411-U           CN       2021-11-23   \n29996     CN-113690940-A  CN-202111107806-A           CN       2021-11-23   \n29997     CN-113683210-A  CN-202110998828-A           CN       2021-11-23   \n\n                                                inventor  \\\n0                                                     []   \n1                                                     []   \n4                                                     []   \n5                                                     []   \n6                                                     []   \n...                                                  ...   \n29993                              [WANG HAI, WANG YANG]   \n29994  [Gao Zhelu, Dai Jiangyue, LIU ZIYI, YAN CONGQI...   \n29995  [ZHANG ANZHI, ZHANG WANYONG, HUANG HUIYONG, XU...   \n29996         [ZHANG YUCHUAN, LONG HAIYANG, TAN CUNZHEN]   \n29997                                        [An Zhixia]   \n\n                                                   title  \\\n0      Adaptable DC-AC Inverter Drive System and Oper...   \n1      System for providing the energy from a single ...   \n4      Control method for optimizing solar-to-power e...   \n5      Low-carbon running saline wastewater treatment...   \n6      Water ecological remediation device convenient...   \n...                                                  ...   \n29993  Box transformer substation capable of adjustin...   \n29994  Garden waste anaerobic fermentation coupling m...   \n29995  Unmanned aerial vehicle hangar with function o...   \n29996                   Wind power supply control method   \n29997  Floating solar aeration device based on wirele...   \n\n                                                abstract abstract_lang  \\\n0      Disclosed is an adaptable DC-AC inverter syste...          [en]   \n1      In accordance with an example embodiment, a so...          [en]   \n4      A control method for optimizing a solar-to-pow...          [en]   \n5      The invention discloses a system and a method ...      [zh, en]   \n6      The utility model discloses a water ecological...      [zh, en]   \n...                                                  ...           ...   \n29993  The utility model relates to a case becomes te...      [en, zh]   \n29994  The utility model discloses a gardens discarde...      [en, zh]   \n29995  The utility model relates to an unmanned air v...      [en, zh]   \n29996  The invention provides a wind power supply con...      [en, zh]   \n29997  The invention discloses a floating solar aerat...      [zh, en]   \n\n                                              summarized  \n0      The system includes multiple DC input sources ...  \n1      In accordance with an example embodiment, a so...  \n4      Through reading the relevant information of th...  \n5      The salt-containing wastewater is preheated by...  \n6      According to the utility model, the fixed slee...  \n...                                                  ...  \n29993  This case of adjustable solar panel orientatio...  \n29994  The utility model discloses a gardens discarde...  \n29995  This unmanned aerial vehicle hangar with funct...  \n29996  The invention provides a wind power supply con...  \n29997  The invention discloses a floating solar aerat...  \n\n[13199 rows x 9 columns]",
      "text/html": "<div>\n<style scoped>\n    .dataframe tbody tr th:only-of-type {\n        vertical-align: middle;\n    }\n\n    .dataframe tbody tr th {\n        vertical-align: top;\n    }\n\n    .dataframe thead th {\n        text-align: right;\n    }\n</style>\n<table border=\"1\" class=\"dataframe\">\n  <thead>\n    <tr style=\"text-align: right;\">\n      <th></th>\n      <th>publication_number</th>\n      <th>application_number</th>\n      <th>country_code</th>\n      <th>publication_date</th>\n      <th>inventor</th>\n      <th>title</th>\n      <th>abstract</th>\n      <th>abstract_lang</th>\n      <th>summarized</th>\n    </tr>\n  </thead>\n  <tbody>\n    <tr>\n      <th>0</th>\n      <td>US-2022239235-A1</td>\n      <td>US-202217717397-A</td>\n      <td>US</td>\n      <td>2022-07-28</td>\n      <td>[]</td>\n      <td>Adaptable DC-AC Inverter Drive System and Oper...</td>\n      <td>Disclosed is an adaptable DC-AC inverter syste...</td>\n      <td>[en]</td>\n      <td>The system includes multiple DC input sources ...</td>\n    </tr>\n    <tr>\n      <th>1</th>\n      <td>US-2022239251-A1</td>\n      <td>US-202217580956-A</td>\n      <td>US</td>\n      <td>2022-07-28</td>\n      <td>[]</td>\n      <td>System for providing the energy from a single ...</td>\n      <td>In accordance with an example embodiment, a so...</td>\n      <td>[en]</td>\n      <td>In accordance with an example embodiment, a so...</td>\n    </tr>\n    <tr>\n      <th>4</th>\n      <td>US-11396827-B2</td>\n      <td>US-202117606042-A</td>\n      <td>US</td>\n      <td>2022-07-26</td>\n      <td>[]</td>\n      <td>Control method for optimizing solar-to-power e...</td>\n      <td>A control method for optimizing a solar-to-pow...</td>\n      <td>[en]</td>\n      <td>Through reading the relevant information of th...</td>\n    </tr>\n    <tr>\n      <th>5</th>\n      <td>CN-114772674-A</td>\n      <td>CN-202210500131-A</td>\n      <td>CN</td>\n      <td>2022-07-22</td>\n      <td>[]</td>\n      <td>Low-carbon running saline wastewater treatment...</td>\n      <td>The invention discloses a system and a method ...</td>\n      <td>[zh, en]</td>\n      <td>The salt-containing wastewater is preheated by...</td>\n    </tr>\n    <tr>\n      <th>6</th>\n      <td>CN-217026795-U</td>\n      <td>CN-202220668705-U</td>\n      <td>CN</td>\n      <td>2022-07-22</td>\n      <td>[]</td>\n      <td>Water ecological remediation device convenient...</td>\n      <td>The utility model discloses a water ecological...</td>\n      <td>[zh, en]</td>\n      <td>According to the utility model, the fixed slee...</td>\n    </tr>\n    <tr>\n      <th>...</th>\n      <td>...</td>\n      <td>...</td>\n      <td>...</td>\n      <td>...</td>\n      <td>...</td>\n      <td>...</td>\n      <td>...</td>\n      <td>...</td>\n      <td>...</td>\n    </tr>\n    <tr>\n      <th>29993</th>\n      <td>CN-214850044-U</td>\n      <td>CN-202120980740-U</td>\n      <td>CN</td>\n      <td>2021-11-23</td>\n      <td>[WANG HAI, WANG YANG]</td>\n      <td>Box transformer substation capable of adjustin...</td>\n      <td>The utility model relates to a case becomes te...</td>\n      <td>[en, zh]</td>\n      <td>This case of adjustable solar panel orientatio...</td>\n    </tr>\n    <tr>\n      <th>29994</th>\n      <td>CN-214840532-U</td>\n      <td>CN-202121225269-U</td>\n      <td>CN</td>\n      <td>2021-11-23</td>\n      <td>[Gao Zhelu, Dai Jiangyue, LIU ZIYI, YAN CONGQI...</td>\n      <td>Garden waste anaerobic fermentation coupling m...</td>\n      <td>The utility model discloses a gardens discarde...</td>\n      <td>[en, zh]</td>\n      <td>The utility model discloses a gardens discarde...</td>\n    </tr>\n    <tr>\n      <th>29995</th>\n      <td>CN-214835218-U</td>\n      <td>CN-202121309411-U</td>\n      <td>CN</td>\n      <td>2021-11-23</td>\n      <td>[ZHANG ANZHI, ZHANG WANYONG, HUANG HUIYONG, XU...</td>\n      <td>Unmanned aerial vehicle hangar with function o...</td>\n      <td>The utility model relates to an unmanned air v...</td>\n      <td>[en, zh]</td>\n      <td>This unmanned aerial vehicle hangar with funct...</td>\n    </tr>\n    <tr>\n      <th>29996</th>\n      <td>CN-113690940-A</td>\n      <td>CN-202111107806-A</td>\n      <td>CN</td>\n      <td>2021-11-23</td>\n      <td>[ZHANG YUCHUAN, LONG HAIYANG, TAN CUNZHEN]</td>\n      <td>Wind power supply control method</td>\n      <td>The invention provides a wind power supply con...</td>\n      <td>[en, zh]</td>\n      <td>The invention provides a wind power supply con...</td>\n    </tr>\n    <tr>\n      <th>29997</th>\n      <td>CN-113683210-A</td>\n      <td>CN-202110998828-A</td>\n      <td>CN</td>\n      <td>2021-11-23</td>\n      <td>[An Zhixia]</td>\n      <td>Floating solar aeration device based on wirele...</td>\n      <td>The invention discloses a floating solar aerat...</td>\n      <td>[zh, en]</td>\n      <td>The invention discloses a floating solar aerat...</td>\n    </tr>\n  </tbody>\n</table>\n<p>13199 rows × 9 columns</p>\n</div>"
     },
     "execution_count": 20,
     "metadata": {},
     "output_type": "execute_result"
    }
   ],
   "source": [
    "# Summarize Google Patent data\n",
    "df_google_patents['abstract_summarized']=df_google_patents['abstract'].apply(summarizeText)\n",
    "df_google_patents"
   ],
   "metadata": {
    "collapsed": false,
    "ExecuteTime": {
     "end_time": "2024-05-29T11:14:32.655011200Z",
     "start_time": "2024-05-29T11:09:39.921929100Z"
    }
   },
   "id": "5a3e8db0ddda1e6"
  }
 ],
 "metadata": {
  "kernelspec": {
   "display_name": "Python 3 (ipykernel)",
   "language": "python",
   "name": "python3"
  },
  "language_info": {
   "codemirror_mode": {
    "name": "ipython",
    "version": 3
   },
   "file_extension": ".py",
   "mimetype": "text/x-python",
   "name": "python",
   "nbconvert_exporter": "python",
   "pygments_lexer": "ipython3",
   "version": "3.9.13"
  }
 },
 "nbformat": 4,
 "nbformat_minor": 5
}
